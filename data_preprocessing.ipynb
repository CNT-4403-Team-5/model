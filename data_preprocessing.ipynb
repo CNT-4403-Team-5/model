{
 "cells": [
  {
   "cell_type": "code",
   "execution_count": 1,
   "metadata": {},
   "outputs": [],
   "source": [
    "import pandas as pd\n",
    "import numpy as np\n",
    "import matplotlib.pyplot as plt\n"
   ]
  },
  {
   "cell_type": "markdown",
   "metadata": {},
   "source": [
    "### Load Data\n",
    "\n",
    "---"
   ]
  },
  {
   "cell_type": "code",
   "execution_count": 2,
   "metadata": {},
   "outputs": [
    {
     "name": "stderr",
     "output_type": "stream",
     "text": [
      "C:\\Users\\mmdt2\\anaconda3\\lib\\site-packages\\IPython\\core\\interactiveshell.py:3071: DtypeWarning: Columns (1,3,47) have mixed types.Specify dtype option on import or set low_memory=False.\n",
      "  has_raised = await self.run_ast_nodes(code_ast.body, cell_name,\n",
      "C:\\Users\\mmdt2\\anaconda3\\lib\\site-packages\\IPython\\core\\interactiveshell.py:3071: DtypeWarning: Columns (3,39,47) have mixed types.Specify dtype option on import or set low_memory=False.\n",
      "  has_raised = await self.run_ast_nodes(code_ast.body, cell_name,\n"
     ]
    }
   ],
   "source": [
    "#Load all 4 data files and concatenate them\n",
    "dataframes = []\n",
    "for i in range(4):\n",
    "    file = pd.read_csv(f'data/UNSW-NB15_{i+1}.csv', delimiter = \",\", header=None)\n",
    "    dataframes.append(file)\n",
    "data = pd.concat(dataframes, ignore_index=True)"
   ]
  },
  {
   "cell_type": "markdown",
   "metadata": {},
   "source": [
    "### Evaluating Data\n",
    "\n",
    "---"
   ]
  },
  {
   "cell_type": "code",
   "execution_count": 3,
   "metadata": {},
   "outputs": [],
   "source": [
    "#Rename columns\n",
    "data.columns = ['srcip', 'sport', 'dstip', 'dsport', 'proto', 'state', 'dur', 'sbytes', 'dbytes', 'sttl', 'dttl', 'sloss', 'dloss', 'service', 'Sload', 'Dload', 'Spkts', 'Dpkts', 'swin', 'dwin', 'stcpb', 'dtcpb', 'smeansz', 'dmeansz', 'trans_depth', 'res_bdy_len', 'Sjit', 'Djit', 'Stime', 'Ltime', 'Sintpkt', 'Dintpkt', 'tcprtt', 'synack', 'ackdat', 'is_sm_ips_ports', 'ct_state_ttl', 'ct_flw_http_mthd', 'is_ftp_login', 'ct_ftp_cmd', 'ct_srv_src', 'ct_srv_dst', 'ct_dst_ltm', 'ct_src_ltm', 'ct_src_dport_ltm', 'ct_dst_sport_ltm', 'ct_dst_src_ltm', 'attack_cat', 'Label']"
   ]
  },
  {
   "cell_type": "code",
   "execution_count": 4,
   "metadata": {},
   "outputs": [
    {
     "data": {
      "text/plain": [
       "2540047"
      ]
     },
     "execution_count": 4,
     "metadata": {},
     "output_type": "execute_result"
    }
   ],
   "source": [
    "len(data) #Number of data samples"
   ]
  },
  {
   "cell_type": "code",
   "execution_count": 5,
   "metadata": {},
   "outputs": [
    {
     "data": {
      "text/plain": [
       "array([0, 1], dtype=int64)"
      ]
     },
     "execution_count": 5,
     "metadata": {},
     "output_type": "execute_result"
    }
   ],
   "source": [
    "pd.unique(data['Label']) #Double check classes/categories in data"
   ]
  },
  {
   "cell_type": "code",
   "execution_count": 6,
   "metadata": {},
   "outputs": [
    {
     "name": "stdout",
     "output_type": "stream",
     "text": [
      "Amount of null values in columns:\n",
      "\tct_flw_http_mthd: 1348145\n",
      "\tis_ftp_login: 1429879\n",
      "\tattack_cat: 2218764\n"
     ]
    }
   ],
   "source": [
    "#Check which columns have missing values\n",
    "nan_values = data.isna()\n",
    "nan_columns = nan_values.any()\n",
    "columns_with_nan = data.columns[nan_columns].tolist()\n",
    "\n",
    "if len(columns_with_nan) != 0:\n",
    "    print('Amount of null values in columns:')\n",
    "    for col in columns_with_nan:\n",
    "        print(f'\\t{col}: {data[col].isna().sum()}')\n",
    "else:\n",
    "    print('No missing values in data')"
   ]
  },
  {
   "cell_type": "markdown",
   "metadata": {},
   "source": [
    "### The dataset creators filled in 'NaN' under the feature 'attack_cat' for benign traffic since an attack category does not apply to normal traffic. This is not truly missing data and should be replaced with a 0 value to correspond to the benign class label.\n",
    "\n",
    "Reference: *'DEEP-INTRUSION DETECTION SYSTEM WITH ENHANCED UNSW-NB15 DATASET BASED ON DEEP LEARNING TECHNIQUES', A.M. ALEESA, MOHAMMED YOUNIS, AHMED A. MOHAMMED, NAN M. SAHAR*\n"
   ]
  },
  {
   "cell_type": "code",
   "execution_count": 7,
   "metadata": {},
   "outputs": [],
   "source": [
    "#Replace NaN with 0 for benign traffic attack category\n",
    "data['attack_cat'] = data['attack_cat'].fillna(0)"
   ]
  },
  {
   "cell_type": "code",
   "execution_count": 8,
   "metadata": {},
   "outputs": [
    {
     "name": "stdout",
     "output_type": "stream",
     "text": [
      "Amount of null values in columns:\n",
      "\tct_flw_http_mthd: 1348145\n",
      "\tis_ftp_login: 1429879\n"
     ]
    }
   ],
   "source": [
    "#Verify that the previous code worked...\n",
    "    #attack_cat column should no longer have NaN values (all traffic is either benign with a 0 value or an attack w the corresponding label)\n",
    "nan_values = data.isna()\n",
    "nan_columns = nan_values.any()\n",
    "columns_with_nan = data.columns[nan_columns].tolist()\n",
    "\n",
    "if len(columns_with_nan) != 0:\n",
    "    print('Amount of null values in columns:')\n",
    "    for col in columns_with_nan:\n",
    "        print(f'\\t{col}: {data[col].isna().sum()}')\n",
    "else:\n",
    "    print('No missing values in data')"
   ]
  },
  {
   "cell_type": "code",
   "execution_count": 9,
   "metadata": {},
   "outputs": [
    {
     "name": "stdout",
     "output_type": "stream",
     "text": [
      "[ 0.  1.  2.  4. 14.  8.  6. 12. 10.  3.  5. 36.  9. nan 16. 25. 30.]\n",
      "NaN     1348145\n",
      "0.0      986791\n",
      "1.0      188008\n",
      "6.0        7902\n",
      "4.0        6564\n",
      "3.0         738\n",
      "2.0         588\n",
      "5.0         430\n",
      "9.0         270\n",
      "14.0        224\n",
      "12.0        132\n",
      "30.0         60\n",
      "8.0          56\n",
      "16.0         48\n",
      "36.0         36\n",
      "10.0         30\n",
      "25.0         25\n",
      "Name: ct_flw_http_mthd, dtype: int64\n"
     ]
    }
   ],
   "source": [
    "#Check types and amounts of values of the first column with missing data\n",
    "print(pd.unique(data['ct_flw_http_mthd']))\n",
    "print(pd.value_counts(data['ct_flw_http_mthd'], dropna=False))"
   ]
  },
  {
   "cell_type": "code",
   "execution_count": 10,
   "metadata": {},
   "outputs": [
    {
     "name": "stdout",
     "output_type": "stream",
     "text": [
      "[ 0.  1. nan  2.  4.]\n",
      "NaN    1429879\n",
      "0.0    1066593\n",
      "1.0      43389\n",
      "4.0        156\n",
      "2.0         30\n",
      "Name: is_ftp_login, dtype: int64\n"
     ]
    }
   ],
   "source": [
    "#Check types and amounts of values of the second column with missing data\n",
    "print(pd.unique(data['is_ftp_login']))\n",
    "print(pd.value_counts(data['is_ftp_login'], dropna=False))"
   ]
  },
  {
   "cell_type": "code",
   "execution_count": 11,
   "metadata": {},
   "outputs": [
    {
     "name": "stdout",
     "output_type": "stream",
     "text": [
      "[0 'Exploits' 'Reconnaissance' 'DoS' 'Generic' 'Shellcode' ' Fuzzers'\n",
      " 'Worms' 'Backdoors' 'Analysis' ' Reconnaissance ' 'Backdoor' ' Fuzzers '\n",
      " ' Shellcode ']\n",
      "0                   2218764\n",
      "Generic              215481\n",
      "Exploits              44525\n",
      " Fuzzers              19195\n",
      "DoS                   16353\n",
      " Reconnaissance       12228\n",
      " Fuzzers               5051\n",
      "Analysis               2677\n",
      "Backdoor               1795\n",
      "Reconnaissance         1759\n",
      " Shellcode             1288\n",
      "Backdoors               534\n",
      "Shellcode               223\n",
      "Worms                   174\n",
      "Name: attack_cat, dtype: int64\n"
     ]
    }
   ],
   "source": [
    "#Check types and amounts of values from attack_cat col to see what the effect will be per attack type after removing the missing data\n",
    "print(pd.unique(data['attack_cat']))\n",
    "print(pd.value_counts(data['attack_cat'], dropna=False))"
   ]
  },
  {
   "cell_type": "code",
   "execution_count": 12,
   "metadata": {},
   "outputs": [],
   "source": [
    "#Remove NaN values anywhere they appear in dataset\n",
    "data = data.dropna(axis=0, how='any')"
   ]
  },
  {
   "cell_type": "code",
   "execution_count": 13,
   "metadata": {},
   "outputs": [
    {
     "data": {
      "text/plain": [
       "array([0, 1], dtype=int64)"
      ]
     },
     "execution_count": 13,
     "metadata": {},
     "output_type": "execute_result"
    }
   ],
   "source": [
    "#Ensure that label column still has both classes\n",
    "pd.unique(data['Label'])"
   ]
  },
  {
   "cell_type": "code",
   "execution_count": 14,
   "metadata": {},
   "outputs": [
    {
     "name": "stdout",
     "output_type": "stream",
     "text": [
      "[0 'Exploits' 'Reconnaissance' 'DoS' 'Generic' 'Shellcode' ' Fuzzers'\n",
      " 'Worms' 'Backdoors' 'Analysis']\n",
      "0                 1064988\n",
      "Generic              7522\n",
      "Exploits             5409\n",
      " Fuzzers             5051\n",
      "Reconnaissance       1759\n",
      "DoS                  1167\n",
      "Backdoors             534\n",
      "Analysis              526\n",
      "Shellcode             223\n",
      "Worms                  24\n",
      "Name: attack_cat, dtype: int64\n"
     ]
    }
   ],
   "source": [
    "#Removing the columns with missing data removed lots of samples from DoS category\n",
    "    #Reduced from 16353 -> 1167\n",
    "print(pd.unique(data['attack_cat']))\n",
    "print(pd.value_counts(data['attack_cat'], dropna=False))"
   ]
  },
  {
   "cell_type": "code",
   "execution_count": 15,
   "metadata": {},
   "outputs": [
    {
     "name": "stdout",
     "output_type": "stream",
     "text": [
      "No missing values in data\n"
     ]
    }
   ],
   "source": [
    "#Ensure no more missing data\n",
    "nan_values = data.isna()\n",
    "nan_columns = nan_values.any()\n",
    "columns_with_nan = data.columns[nan_columns].tolist()\n",
    "\n",
    "if len(columns_with_nan) != 0:\n",
    "    print('Amount of null values in columns:')\n",
    "    for col in columns_with_nan:\n",
    "        print(f'\\t{col}: {data[col].isna().sum()}')\n",
    "else:\n",
    "    print('No missing values in data')"
   ]
  },
  {
   "cell_type": "code",
   "execution_count": 16,
   "metadata": {},
   "outputs": [
    {
     "data": {
      "text/plain": [
       "1087203"
      ]
     },
     "execution_count": 16,
     "metadata": {},
     "output_type": "execute_result"
    }
   ],
   "source": [
    "len(data) #Num of samples remaining"
   ]
  },
  {
   "cell_type": "code",
   "execution_count": 17,
   "metadata": {},
   "outputs": [],
   "source": [
    "#Remove data that is not benign and not a DoS attack\n",
    "data = data.drop(data[(data['attack_cat'] != 'DoS') & (data['attack_cat'] != 0)].index)"
   ]
  },
  {
   "cell_type": "code",
   "execution_count": 18,
   "metadata": {},
   "outputs": [
    {
     "data": {
      "text/html": [
       "<div>\n",
       "<style scoped>\n",
       "    .dataframe tbody tr th:only-of-type {\n",
       "        vertical-align: middle;\n",
       "    }\n",
       "\n",
       "    .dataframe tbody tr th {\n",
       "        vertical-align: top;\n",
       "    }\n",
       "\n",
       "    .dataframe thead th {\n",
       "        text-align: right;\n",
       "    }\n",
       "</style>\n",
       "<table border=\"1\" class=\"dataframe\">\n",
       "  <thead>\n",
       "    <tr style=\"text-align: right;\">\n",
       "      <th></th>\n",
       "      <th>srcip</th>\n",
       "      <th>sport</th>\n",
       "      <th>dstip</th>\n",
       "      <th>dsport</th>\n",
       "      <th>proto</th>\n",
       "      <th>state</th>\n",
       "      <th>dur</th>\n",
       "      <th>sbytes</th>\n",
       "      <th>dbytes</th>\n",
       "      <th>sttl</th>\n",
       "      <th>...</th>\n",
       "      <th>ct_ftp_cmd</th>\n",
       "      <th>ct_srv_src</th>\n",
       "      <th>ct_srv_dst</th>\n",
       "      <th>ct_dst_ltm</th>\n",
       "      <th>ct_src_ltm</th>\n",
       "      <th>ct_src_dport_ltm</th>\n",
       "      <th>ct_dst_sport_ltm</th>\n",
       "      <th>ct_dst_src_ltm</th>\n",
       "      <th>attack_cat</th>\n",
       "      <th>Label</th>\n",
       "    </tr>\n",
       "  </thead>\n",
       "  <tbody>\n",
       "    <tr>\n",
       "      <th>0</th>\n",
       "      <td>59.166.0.0</td>\n",
       "      <td>1390</td>\n",
       "      <td>149.171.126.6</td>\n",
       "      <td>53</td>\n",
       "      <td>udp</td>\n",
       "      <td>CON</td>\n",
       "      <td>0.001055</td>\n",
       "      <td>132</td>\n",
       "      <td>164</td>\n",
       "      <td>31</td>\n",
       "      <td>...</td>\n",
       "      <td>0</td>\n",
       "      <td>3</td>\n",
       "      <td>7</td>\n",
       "      <td>1</td>\n",
       "      <td>3</td>\n",
       "      <td>1</td>\n",
       "      <td>1</td>\n",
       "      <td>1</td>\n",
       "      <td>0</td>\n",
       "      <td>0</td>\n",
       "    </tr>\n",
       "    <tr>\n",
       "      <th>1</th>\n",
       "      <td>59.166.0.0</td>\n",
       "      <td>33661</td>\n",
       "      <td>149.171.126.9</td>\n",
       "      <td>1024</td>\n",
       "      <td>udp</td>\n",
       "      <td>CON</td>\n",
       "      <td>0.036133</td>\n",
       "      <td>528</td>\n",
       "      <td>304</td>\n",
       "      <td>31</td>\n",
       "      <td>...</td>\n",
       "      <td>0</td>\n",
       "      <td>2</td>\n",
       "      <td>4</td>\n",
       "      <td>2</td>\n",
       "      <td>3</td>\n",
       "      <td>1</td>\n",
       "      <td>1</td>\n",
       "      <td>2</td>\n",
       "      <td>0</td>\n",
       "      <td>0</td>\n",
       "    </tr>\n",
       "    <tr>\n",
       "      <th>2</th>\n",
       "      <td>59.166.0.6</td>\n",
       "      <td>1464</td>\n",
       "      <td>149.171.126.7</td>\n",
       "      <td>53</td>\n",
       "      <td>udp</td>\n",
       "      <td>CON</td>\n",
       "      <td>0.001119</td>\n",
       "      <td>146</td>\n",
       "      <td>178</td>\n",
       "      <td>31</td>\n",
       "      <td>...</td>\n",
       "      <td>0</td>\n",
       "      <td>12</td>\n",
       "      <td>8</td>\n",
       "      <td>1</td>\n",
       "      <td>2</td>\n",
       "      <td>2</td>\n",
       "      <td>1</td>\n",
       "      <td>1</td>\n",
       "      <td>0</td>\n",
       "      <td>0</td>\n",
       "    </tr>\n",
       "    <tr>\n",
       "      <th>3</th>\n",
       "      <td>59.166.0.5</td>\n",
       "      <td>3593</td>\n",
       "      <td>149.171.126.5</td>\n",
       "      <td>53</td>\n",
       "      <td>udp</td>\n",
       "      <td>CON</td>\n",
       "      <td>0.001209</td>\n",
       "      <td>132</td>\n",
       "      <td>164</td>\n",
       "      <td>31</td>\n",
       "      <td>...</td>\n",
       "      <td>0</td>\n",
       "      <td>6</td>\n",
       "      <td>9</td>\n",
       "      <td>1</td>\n",
       "      <td>1</td>\n",
       "      <td>1</td>\n",
       "      <td>1</td>\n",
       "      <td>1</td>\n",
       "      <td>0</td>\n",
       "      <td>0</td>\n",
       "    </tr>\n",
       "    <tr>\n",
       "      <th>4</th>\n",
       "      <td>59.166.0.3</td>\n",
       "      <td>49664</td>\n",
       "      <td>149.171.126.0</td>\n",
       "      <td>53</td>\n",
       "      <td>udp</td>\n",
       "      <td>CON</td>\n",
       "      <td>0.001169</td>\n",
       "      <td>146</td>\n",
       "      <td>178</td>\n",
       "      <td>31</td>\n",
       "      <td>...</td>\n",
       "      <td>0</td>\n",
       "      <td>7</td>\n",
       "      <td>9</td>\n",
       "      <td>1</td>\n",
       "      <td>1</td>\n",
       "      <td>1</td>\n",
       "      <td>1</td>\n",
       "      <td>1</td>\n",
       "      <td>0</td>\n",
       "      <td>0</td>\n",
       "    </tr>\n",
       "    <tr>\n",
       "      <th>...</th>\n",
       "      <td>...</td>\n",
       "      <td>...</td>\n",
       "      <td>...</td>\n",
       "      <td>...</td>\n",
       "      <td>...</td>\n",
       "      <td>...</td>\n",
       "      <td>...</td>\n",
       "      <td>...</td>\n",
       "      <td>...</td>\n",
       "      <td>...</td>\n",
       "      <td>...</td>\n",
       "      <td>...</td>\n",
       "      <td>...</td>\n",
       "      <td>...</td>\n",
       "      <td>...</td>\n",
       "      <td>...</td>\n",
       "      <td>...</td>\n",
       "      <td>...</td>\n",
       "      <td>...</td>\n",
       "      <td>...</td>\n",
       "      <td>...</td>\n",
       "    </tr>\n",
       "    <tr>\n",
       "      <th>1087198</th>\n",
       "      <td>59.166.0.6</td>\n",
       "      <td>8647</td>\n",
       "      <td>149.171.126.8</td>\n",
       "      <td>25</td>\n",
       "      <td>tcp</td>\n",
       "      <td>CON</td>\n",
       "      <td>0.308446</td>\n",
       "      <td>31366</td>\n",
       "      <td>2566</td>\n",
       "      <td>31</td>\n",
       "      <td>...</td>\n",
       "      <td>0</td>\n",
       "      <td>1</td>\n",
       "      <td>1</td>\n",
       "      <td>2</td>\n",
       "      <td>1</td>\n",
       "      <td>1</td>\n",
       "      <td>1</td>\n",
       "      <td>1</td>\n",
       "      <td>0</td>\n",
       "      <td>0</td>\n",
       "    </tr>\n",
       "    <tr>\n",
       "      <th>1087199</th>\n",
       "      <td>59.166.0.2</td>\n",
       "      <td>4681</td>\n",
       "      <td>149.171.126.1</td>\n",
       "      <td>5190</td>\n",
       "      <td>tcp</td>\n",
       "      <td>FIN</td>\n",
       "      <td>0.006390</td>\n",
       "      <td>2054</td>\n",
       "      <td>2478</td>\n",
       "      <td>31</td>\n",
       "      <td>...</td>\n",
       "      <td>0</td>\n",
       "      <td>2</td>\n",
       "      <td>4</td>\n",
       "      <td>1</td>\n",
       "      <td>3</td>\n",
       "      <td>1</td>\n",
       "      <td>1</td>\n",
       "      <td>1</td>\n",
       "      <td>0</td>\n",
       "      <td>0</td>\n",
       "    </tr>\n",
       "    <tr>\n",
       "      <th>1087200</th>\n",
       "      <td>59.166.0.2</td>\n",
       "      <td>47560</td>\n",
       "      <td>149.171.126.2</td>\n",
       "      <td>6125</td>\n",
       "      <td>tcp</td>\n",
       "      <td>FIN</td>\n",
       "      <td>0.222470</td>\n",
       "      <td>8928</td>\n",
       "      <td>320</td>\n",
       "      <td>31</td>\n",
       "      <td>...</td>\n",
       "      <td>0</td>\n",
       "      <td>3</td>\n",
       "      <td>3</td>\n",
       "      <td>2</td>\n",
       "      <td>3</td>\n",
       "      <td>1</td>\n",
       "      <td>1</td>\n",
       "      <td>2</td>\n",
       "      <td>0</td>\n",
       "      <td>0</td>\n",
       "    </tr>\n",
       "    <tr>\n",
       "      <th>1087201</th>\n",
       "      <td>59.166.0.3</td>\n",
       "      <td>11047</td>\n",
       "      <td>149.171.126.5</td>\n",
       "      <td>80</td>\n",
       "      <td>tcp</td>\n",
       "      <td>CON</td>\n",
       "      <td>0.004158</td>\n",
       "      <td>890</td>\n",
       "      <td>8896</td>\n",
       "      <td>31</td>\n",
       "      <td>...</td>\n",
       "      <td>0</td>\n",
       "      <td>1</td>\n",
       "      <td>1</td>\n",
       "      <td>2</td>\n",
       "      <td>2</td>\n",
       "      <td>1</td>\n",
       "      <td>1</td>\n",
       "      <td>2</td>\n",
       "      <td>0</td>\n",
       "      <td>0</td>\n",
       "    </tr>\n",
       "    <tr>\n",
       "      <th>1087202</th>\n",
       "      <td>59.166.0.3</td>\n",
       "      <td>44991</td>\n",
       "      <td>149.171.126.5</td>\n",
       "      <td>53</td>\n",
       "      <td>udp</td>\n",
       "      <td>CON</td>\n",
       "      <td>0.001056</td>\n",
       "      <td>146</td>\n",
       "      <td>178</td>\n",
       "      <td>31</td>\n",
       "      <td>...</td>\n",
       "      <td>0</td>\n",
       "      <td>1</td>\n",
       "      <td>3</td>\n",
       "      <td>2</td>\n",
       "      <td>2</td>\n",
       "      <td>1</td>\n",
       "      <td>1</td>\n",
       "      <td>2</td>\n",
       "      <td>0</td>\n",
       "      <td>0</td>\n",
       "    </tr>\n",
       "  </tbody>\n",
       "</table>\n",
       "<p>1066155 rows × 49 columns</p>\n",
       "</div>"
      ],
      "text/plain": [
       "              srcip  sport          dstip dsport proto state       dur  \\\n",
       "0        59.166.0.0   1390  149.171.126.6     53   udp   CON  0.001055   \n",
       "1        59.166.0.0  33661  149.171.126.9   1024   udp   CON  0.036133   \n",
       "2        59.166.0.6   1464  149.171.126.7     53   udp   CON  0.001119   \n",
       "3        59.166.0.5   3593  149.171.126.5     53   udp   CON  0.001209   \n",
       "4        59.166.0.3  49664  149.171.126.0     53   udp   CON  0.001169   \n",
       "...             ...    ...            ...    ...   ...   ...       ...   \n",
       "1087198  59.166.0.6   8647  149.171.126.8     25   tcp   CON  0.308446   \n",
       "1087199  59.166.0.2   4681  149.171.126.1   5190   tcp   FIN  0.006390   \n",
       "1087200  59.166.0.2  47560  149.171.126.2   6125   tcp   FIN  0.222470   \n",
       "1087201  59.166.0.3  11047  149.171.126.5     80   tcp   CON  0.004158   \n",
       "1087202  59.166.0.3  44991  149.171.126.5     53   udp   CON  0.001056   \n",
       "\n",
       "         sbytes  dbytes  sttl  ...  ct_ftp_cmd  ct_srv_src  ct_srv_dst  \\\n",
       "0           132     164    31  ...           0           3           7   \n",
       "1           528     304    31  ...           0           2           4   \n",
       "2           146     178    31  ...           0          12           8   \n",
       "3           132     164    31  ...           0           6           9   \n",
       "4           146     178    31  ...           0           7           9   \n",
       "...         ...     ...   ...  ...         ...         ...         ...   \n",
       "1087198   31366    2566    31  ...           0           1           1   \n",
       "1087199    2054    2478    31  ...           0           2           4   \n",
       "1087200    8928     320    31  ...           0           3           3   \n",
       "1087201     890    8896    31  ...           0           1           1   \n",
       "1087202     146     178    31  ...           0           1           3   \n",
       "\n",
       "        ct_dst_ltm  ct_src_ltm  ct_src_dport_ltm  ct_dst_sport_ltm  \\\n",
       "0                1           3                 1                 1   \n",
       "1                2           3                 1                 1   \n",
       "2                1           2                 2                 1   \n",
       "3                1           1                 1                 1   \n",
       "4                1           1                 1                 1   \n",
       "...            ...         ...               ...               ...   \n",
       "1087198          2           1                 1                 1   \n",
       "1087199          1           3                 1                 1   \n",
       "1087200          2           3                 1                 1   \n",
       "1087201          2           2                 1                 1   \n",
       "1087202          2           2                 1                 1   \n",
       "\n",
       "         ct_dst_src_ltm  attack_cat  Label  \n",
       "0                     1           0      0  \n",
       "1                     2           0      0  \n",
       "2                     1           0      0  \n",
       "3                     1           0      0  \n",
       "4                     1           0      0  \n",
       "...                 ...         ...    ...  \n",
       "1087198               1           0      0  \n",
       "1087199               1           0      0  \n",
       "1087200               2           0      0  \n",
       "1087201               2           0      0  \n",
       "1087202               2           0      0  \n",
       "\n",
       "[1066155 rows x 49 columns]"
      ]
     },
     "execution_count": 18,
     "metadata": {},
     "output_type": "execute_result"
    }
   ],
   "source": [
    "data"
   ]
  },
  {
   "cell_type": "code",
   "execution_count": 19,
   "metadata": {},
   "outputs": [
    {
     "data": {
      "text/plain": [
       "array([0, 'DoS'], dtype=object)"
      ]
     },
     "execution_count": 19,
     "metadata": {},
     "output_type": "execute_result"
    }
   ],
   "source": [
    "pd.unique(data['attack_cat']) #Verify attack category remaining - benign and DoS"
   ]
  },
  {
   "cell_type": "code",
   "execution_count": 20,
   "metadata": {},
   "outputs": [
    {
     "name": "stdout",
     "output_type": "stream",
     "text": [
      "Amount of data per attack category type:\n",
      "0      1064988\n",
      "DoS       1167\n",
      "Name: attack_cat, dtype: int64\n"
     ]
    }
   ],
   "source": [
    "print('Amount of data per attack category type:')\n",
    "print(pd.value_counts(data['attack_cat']))"
   ]
  },
  {
   "cell_type": "markdown",
   "metadata": {},
   "source": [
    "### Balancing Data\n",
    "\n",
    "---"
   ]
  },
  {
   "cell_type": "code",
   "execution_count": 21,
   "metadata": {},
   "outputs": [
    {
     "data": {
      "text/html": [
       "<div>\n",
       "<style scoped>\n",
       "    .dataframe tbody tr th:only-of-type {\n",
       "        vertical-align: middle;\n",
       "    }\n",
       "\n",
       "    .dataframe tbody tr th {\n",
       "        vertical-align: top;\n",
       "    }\n",
       "\n",
       "    .dataframe thead th {\n",
       "        text-align: right;\n",
       "    }\n",
       "</style>\n",
       "<table border=\"1\" class=\"dataframe\">\n",
       "  <thead>\n",
       "    <tr style=\"text-align: right;\">\n",
       "      <th></th>\n",
       "      <th>srcip</th>\n",
       "      <th>sport</th>\n",
       "      <th>dstip</th>\n",
       "      <th>dsport</th>\n",
       "      <th>proto</th>\n",
       "      <th>state</th>\n",
       "      <th>dur</th>\n",
       "      <th>sbytes</th>\n",
       "      <th>dbytes</th>\n",
       "      <th>sttl</th>\n",
       "      <th>...</th>\n",
       "      <th>ct_ftp_cmd</th>\n",
       "      <th>ct_srv_src</th>\n",
       "      <th>ct_srv_dst</th>\n",
       "      <th>ct_dst_ltm</th>\n",
       "      <th>ct_src_ltm</th>\n",
       "      <th>ct_src_dport_ltm</th>\n",
       "      <th>ct_dst_sport_ltm</th>\n",
       "      <th>ct_dst_src_ltm</th>\n",
       "      <th>attack_cat</th>\n",
       "      <th>Label</th>\n",
       "    </tr>\n",
       "  </thead>\n",
       "  <tbody>\n",
       "  </tbody>\n",
       "</table>\n",
       "<p>0 rows × 49 columns</p>\n",
       "</div>"
      ],
      "text/plain": [
       "Empty DataFrame\n",
       "Columns: [srcip, sport, dstip, dsport, proto, state, dur, sbytes, dbytes, sttl, dttl, sloss, dloss, service, Sload, Dload, Spkts, Dpkts, swin, dwin, stcpb, dtcpb, smeansz, dmeansz, trans_depth, res_bdy_len, Sjit, Djit, Stime, Ltime, Sintpkt, Dintpkt, tcprtt, synack, ackdat, is_sm_ips_ports, ct_state_ttl, ct_flw_http_mthd, is_ftp_login, ct_ftp_cmd, ct_srv_src, ct_srv_dst, ct_dst_ltm, ct_src_ltm, ct_src_dport_ltm, ct_dst_sport_ltm, ct_dst_src_ltm, attack_cat, Label]\n",
       "Index: []\n",
       "\n",
       "[0 rows x 49 columns]"
      ]
     },
     "execution_count": 21,
     "metadata": {},
     "output_type": "execute_result"
    }
   ],
   "source": [
    "balancedData = data.copy()\n",
    "\n",
    "#remove all rows keep column labels\n",
    "balancedData = balancedData[0:0] \n",
    "balancedData"
   ]
  },
  {
   "cell_type": "code",
   "execution_count": 22,
   "metadata": {},
   "outputs": [],
   "source": [
    "normal = data.index[data['Label'] == 0].tolist()\n",
    "\n",
    "for i in range(2000):\n",
    "    balancedData = balancedData.append(data.loc[normal[i]])"
   ]
  },
  {
   "cell_type": "code",
   "execution_count": 23,
   "metadata": {},
   "outputs": [
    {
     "data": {
      "text/html": [
       "<div>\n",
       "<style scoped>\n",
       "    .dataframe tbody tr th:only-of-type {\n",
       "        vertical-align: middle;\n",
       "    }\n",
       "\n",
       "    .dataframe tbody tr th {\n",
       "        vertical-align: top;\n",
       "    }\n",
       "\n",
       "    .dataframe thead th {\n",
       "        text-align: right;\n",
       "    }\n",
       "</style>\n",
       "<table border=\"1\" class=\"dataframe\">\n",
       "  <thead>\n",
       "    <tr style=\"text-align: right;\">\n",
       "      <th></th>\n",
       "      <th>srcip</th>\n",
       "      <th>sport</th>\n",
       "      <th>dstip</th>\n",
       "      <th>dsport</th>\n",
       "      <th>proto</th>\n",
       "      <th>state</th>\n",
       "      <th>dur</th>\n",
       "      <th>sbytes</th>\n",
       "      <th>dbytes</th>\n",
       "      <th>sttl</th>\n",
       "      <th>...</th>\n",
       "      <th>ct_ftp_cmd</th>\n",
       "      <th>ct_srv_src</th>\n",
       "      <th>ct_srv_dst</th>\n",
       "      <th>ct_dst_ltm</th>\n",
       "      <th>ct_src_ltm</th>\n",
       "      <th>ct_src_dport_ltm</th>\n",
       "      <th>ct_dst_sport_ltm</th>\n",
       "      <th>ct_dst_src_ltm</th>\n",
       "      <th>attack_cat</th>\n",
       "      <th>Label</th>\n",
       "    </tr>\n",
       "  </thead>\n",
       "  <tbody>\n",
       "    <tr>\n",
       "      <th>0</th>\n",
       "      <td>59.166.0.0</td>\n",
       "      <td>1390</td>\n",
       "      <td>149.171.126.6</td>\n",
       "      <td>53</td>\n",
       "      <td>udp</td>\n",
       "      <td>CON</td>\n",
       "      <td>0.001055</td>\n",
       "      <td>132</td>\n",
       "      <td>164</td>\n",
       "      <td>31</td>\n",
       "      <td>...</td>\n",
       "      <td>0</td>\n",
       "      <td>3</td>\n",
       "      <td>7</td>\n",
       "      <td>1</td>\n",
       "      <td>3</td>\n",
       "      <td>1</td>\n",
       "      <td>1</td>\n",
       "      <td>1</td>\n",
       "      <td>0</td>\n",
       "      <td>0</td>\n",
       "    </tr>\n",
       "    <tr>\n",
       "      <th>1</th>\n",
       "      <td>59.166.0.0</td>\n",
       "      <td>33661</td>\n",
       "      <td>149.171.126.9</td>\n",
       "      <td>1024</td>\n",
       "      <td>udp</td>\n",
       "      <td>CON</td>\n",
       "      <td>0.036133</td>\n",
       "      <td>528</td>\n",
       "      <td>304</td>\n",
       "      <td>31</td>\n",
       "      <td>...</td>\n",
       "      <td>0</td>\n",
       "      <td>2</td>\n",
       "      <td>4</td>\n",
       "      <td>2</td>\n",
       "      <td>3</td>\n",
       "      <td>1</td>\n",
       "      <td>1</td>\n",
       "      <td>2</td>\n",
       "      <td>0</td>\n",
       "      <td>0</td>\n",
       "    </tr>\n",
       "    <tr>\n",
       "      <th>2</th>\n",
       "      <td>59.166.0.6</td>\n",
       "      <td>1464</td>\n",
       "      <td>149.171.126.7</td>\n",
       "      <td>53</td>\n",
       "      <td>udp</td>\n",
       "      <td>CON</td>\n",
       "      <td>0.001119</td>\n",
       "      <td>146</td>\n",
       "      <td>178</td>\n",
       "      <td>31</td>\n",
       "      <td>...</td>\n",
       "      <td>0</td>\n",
       "      <td>12</td>\n",
       "      <td>8</td>\n",
       "      <td>1</td>\n",
       "      <td>2</td>\n",
       "      <td>2</td>\n",
       "      <td>1</td>\n",
       "      <td>1</td>\n",
       "      <td>0</td>\n",
       "      <td>0</td>\n",
       "    </tr>\n",
       "    <tr>\n",
       "      <th>3</th>\n",
       "      <td>59.166.0.5</td>\n",
       "      <td>3593</td>\n",
       "      <td>149.171.126.5</td>\n",
       "      <td>53</td>\n",
       "      <td>udp</td>\n",
       "      <td>CON</td>\n",
       "      <td>0.001209</td>\n",
       "      <td>132</td>\n",
       "      <td>164</td>\n",
       "      <td>31</td>\n",
       "      <td>...</td>\n",
       "      <td>0</td>\n",
       "      <td>6</td>\n",
       "      <td>9</td>\n",
       "      <td>1</td>\n",
       "      <td>1</td>\n",
       "      <td>1</td>\n",
       "      <td>1</td>\n",
       "      <td>1</td>\n",
       "      <td>0</td>\n",
       "      <td>0</td>\n",
       "    </tr>\n",
       "    <tr>\n",
       "      <th>4</th>\n",
       "      <td>59.166.0.3</td>\n",
       "      <td>49664</td>\n",
       "      <td>149.171.126.0</td>\n",
       "      <td>53</td>\n",
       "      <td>udp</td>\n",
       "      <td>CON</td>\n",
       "      <td>0.001169</td>\n",
       "      <td>146</td>\n",
       "      <td>178</td>\n",
       "      <td>31</td>\n",
       "      <td>...</td>\n",
       "      <td>0</td>\n",
       "      <td>7</td>\n",
       "      <td>9</td>\n",
       "      <td>1</td>\n",
       "      <td>1</td>\n",
       "      <td>1</td>\n",
       "      <td>1</td>\n",
       "      <td>1</td>\n",
       "      <td>0</td>\n",
       "      <td>0</td>\n",
       "    </tr>\n",
       "    <tr>\n",
       "      <th>...</th>\n",
       "      <td>...</td>\n",
       "      <td>...</td>\n",
       "      <td>...</td>\n",
       "      <td>...</td>\n",
       "      <td>...</td>\n",
       "      <td>...</td>\n",
       "      <td>...</td>\n",
       "      <td>...</td>\n",
       "      <td>...</td>\n",
       "      <td>...</td>\n",
       "      <td>...</td>\n",
       "      <td>...</td>\n",
       "      <td>...</td>\n",
       "      <td>...</td>\n",
       "      <td>...</td>\n",
       "      <td>...</td>\n",
       "      <td>...</td>\n",
       "      <td>...</td>\n",
       "      <td>...</td>\n",
       "      <td>...</td>\n",
       "      <td>...</td>\n",
       "    </tr>\n",
       "    <tr>\n",
       "      <th>2053</th>\n",
       "      <td>59.166.0.3</td>\n",
       "      <td>5096</td>\n",
       "      <td>149.171.126.6</td>\n",
       "      <td>2020</td>\n",
       "      <td>tcp</td>\n",
       "      <td>FIN</td>\n",
       "      <td>0.061918</td>\n",
       "      <td>4550</td>\n",
       "      <td>72810</td>\n",
       "      <td>31</td>\n",
       "      <td>...</td>\n",
       "      <td>0</td>\n",
       "      <td>6</td>\n",
       "      <td>7</td>\n",
       "      <td>2</td>\n",
       "      <td>2</td>\n",
       "      <td>1</td>\n",
       "      <td>1</td>\n",
       "      <td>2</td>\n",
       "      <td>0</td>\n",
       "      <td>0</td>\n",
       "    </tr>\n",
       "    <tr>\n",
       "      <th>2054</th>\n",
       "      <td>59.166.0.9</td>\n",
       "      <td>43562</td>\n",
       "      <td>149.171.126.0</td>\n",
       "      <td>25</td>\n",
       "      <td>tcp</td>\n",
       "      <td>FIN</td>\n",
       "      <td>0.490707</td>\n",
       "      <td>37230</td>\n",
       "      <td>3380</td>\n",
       "      <td>31</td>\n",
       "      <td>...</td>\n",
       "      <td>0</td>\n",
       "      <td>1</td>\n",
       "      <td>2</td>\n",
       "      <td>2</td>\n",
       "      <td>4</td>\n",
       "      <td>1</td>\n",
       "      <td>1</td>\n",
       "      <td>1</td>\n",
       "      <td>0</td>\n",
       "      <td>0</td>\n",
       "    </tr>\n",
       "    <tr>\n",
       "      <th>2055</th>\n",
       "      <td>59.166.0.7</td>\n",
       "      <td>11218</td>\n",
       "      <td>149.171.126.7</td>\n",
       "      <td>53</td>\n",
       "      <td>udp</td>\n",
       "      <td>CON</td>\n",
       "      <td>0.001059</td>\n",
       "      <td>146</td>\n",
       "      <td>178</td>\n",
       "      <td>31</td>\n",
       "      <td>...</td>\n",
       "      <td>0</td>\n",
       "      <td>4</td>\n",
       "      <td>2</td>\n",
       "      <td>2</td>\n",
       "      <td>4</td>\n",
       "      <td>1</td>\n",
       "      <td>1</td>\n",
       "      <td>1</td>\n",
       "      <td>0</td>\n",
       "      <td>0</td>\n",
       "    </tr>\n",
       "    <tr>\n",
       "      <th>2058</th>\n",
       "      <td>59.166.0.8</td>\n",
       "      <td>19302</td>\n",
       "      <td>149.171.126.8</td>\n",
       "      <td>22</td>\n",
       "      <td>tcp</td>\n",
       "      <td>FIN</td>\n",
       "      <td>0.364869</td>\n",
       "      <td>5928</td>\n",
       "      <td>8010</td>\n",
       "      <td>31</td>\n",
       "      <td>...</td>\n",
       "      <td>0</td>\n",
       "      <td>1</td>\n",
       "      <td>1</td>\n",
       "      <td>4</td>\n",
       "      <td>2</td>\n",
       "      <td>1</td>\n",
       "      <td>1</td>\n",
       "      <td>1</td>\n",
       "      <td>0</td>\n",
       "      <td>0</td>\n",
       "    </tr>\n",
       "    <tr>\n",
       "      <th>2059</th>\n",
       "      <td>59.166.0.4</td>\n",
       "      <td>16005</td>\n",
       "      <td>149.171.126.7</td>\n",
       "      <td>11922</td>\n",
       "      <td>tcp</td>\n",
       "      <td>FIN</td>\n",
       "      <td>0.390373</td>\n",
       "      <td>424</td>\n",
       "      <td>8824</td>\n",
       "      <td>31</td>\n",
       "      <td>...</td>\n",
       "      <td>0</td>\n",
       "      <td>2</td>\n",
       "      <td>3</td>\n",
       "      <td>1</td>\n",
       "      <td>2</td>\n",
       "      <td>1</td>\n",
       "      <td>1</td>\n",
       "      <td>1</td>\n",
       "      <td>0</td>\n",
       "      <td>0</td>\n",
       "    </tr>\n",
       "  </tbody>\n",
       "</table>\n",
       "<p>2000 rows × 49 columns</p>\n",
       "</div>"
      ],
      "text/plain": [
       "           srcip  sport          dstip dsport proto state       dur  sbytes  \\\n",
       "0     59.166.0.0   1390  149.171.126.6     53   udp   CON  0.001055     132   \n",
       "1     59.166.0.0  33661  149.171.126.9   1024   udp   CON  0.036133     528   \n",
       "2     59.166.0.6   1464  149.171.126.7     53   udp   CON  0.001119     146   \n",
       "3     59.166.0.5   3593  149.171.126.5     53   udp   CON  0.001209     132   \n",
       "4     59.166.0.3  49664  149.171.126.0     53   udp   CON  0.001169     146   \n",
       "...          ...    ...            ...    ...   ...   ...       ...     ...   \n",
       "2053  59.166.0.3   5096  149.171.126.6   2020   tcp   FIN  0.061918    4550   \n",
       "2054  59.166.0.9  43562  149.171.126.0     25   tcp   FIN  0.490707   37230   \n",
       "2055  59.166.0.7  11218  149.171.126.7     53   udp   CON  0.001059     146   \n",
       "2058  59.166.0.8  19302  149.171.126.8     22   tcp   FIN  0.364869    5928   \n",
       "2059  59.166.0.4  16005  149.171.126.7  11922   tcp   FIN  0.390373     424   \n",
       "\n",
       "      dbytes  sttl  ...  ct_ftp_cmd  ct_srv_src  ct_srv_dst ct_dst_ltm  \\\n",
       "0        164    31  ...           0           3           7          1   \n",
       "1        304    31  ...           0           2           4          2   \n",
       "2        178    31  ...           0          12           8          1   \n",
       "3        164    31  ...           0           6           9          1   \n",
       "4        178    31  ...           0           7           9          1   \n",
       "...      ...   ...  ...         ...         ...         ...        ...   \n",
       "2053   72810    31  ...           0           6           7          2   \n",
       "2054    3380    31  ...           0           1           2          2   \n",
       "2055     178    31  ...           0           4           2          2   \n",
       "2058    8010    31  ...           0           1           1          4   \n",
       "2059    8824    31  ...           0           2           3          1   \n",
       "\n",
       "      ct_src_ltm  ct_src_dport_ltm  ct_dst_sport_ltm  ct_dst_src_ltm  \\\n",
       "0              3                 1                 1               1   \n",
       "1              3                 1                 1               2   \n",
       "2              2                 2                 1               1   \n",
       "3              1                 1                 1               1   \n",
       "4              1                 1                 1               1   \n",
       "...          ...               ...               ...             ...   \n",
       "2053           2                 1                 1               2   \n",
       "2054           4                 1                 1               1   \n",
       "2055           4                 1                 1               1   \n",
       "2058           2                 1                 1               1   \n",
       "2059           2                 1                 1               1   \n",
       "\n",
       "      attack_cat  Label  \n",
       "0              0      0  \n",
       "1              0      0  \n",
       "2              0      0  \n",
       "3              0      0  \n",
       "4              0      0  \n",
       "...          ...    ...  \n",
       "2053           0      0  \n",
       "2054           0      0  \n",
       "2055           0      0  \n",
       "2058           0      0  \n",
       "2059           0      0  \n",
       "\n",
       "[2000 rows x 49 columns]"
      ]
     },
     "execution_count": 23,
     "metadata": {},
     "output_type": "execute_result"
    }
   ],
   "source": [
    "balancedData"
   ]
  },
  {
   "cell_type": "code",
   "execution_count": 24,
   "metadata": {},
   "outputs": [
    {
     "data": {
      "text/plain": [
       "Index(['srcip', 'sport', 'dstip', 'dsport', 'proto', 'state', 'dur', 'sbytes',\n",
       "       'dbytes', 'sttl', 'dttl', 'sloss', 'dloss', 'service', 'Sload', 'Dload',\n",
       "       'Spkts', 'Dpkts', 'swin', 'dwin', 'stcpb', 'dtcpb', 'smeansz',\n",
       "       'dmeansz', 'trans_depth', 'res_bdy_len', 'Sjit', 'Djit', 'Stime',\n",
       "       'Ltime', 'Sintpkt', 'Dintpkt', 'tcprtt', 'synack', 'ackdat',\n",
       "       'is_sm_ips_ports', 'ct_state_ttl', 'ct_flw_http_mthd', 'is_ftp_login',\n",
       "       'ct_ftp_cmd', 'ct_srv_src', 'ct_srv_dst', 'ct_dst_ltm', 'ct_src_ltm',\n",
       "       'ct_src_dport_ltm', 'ct_dst_sport_ltm', 'ct_dst_src_ltm', 'attack_cat',\n",
       "       'Label'],\n",
       "      dtype='object')"
      ]
     },
     "execution_count": 24,
     "metadata": {},
     "output_type": "execute_result"
    }
   ],
   "source": [
    "balancedData.columns"
   ]
  },
  {
   "cell_type": "code",
   "execution_count": 25,
   "metadata": {},
   "outputs": [
    {
     "name": "stdout",
     "output_type": "stream",
     "text": [
      "Amount of data per attack category type:\n",
      "0    2000\n",
      "Name: Label, dtype: int64\n"
     ]
    }
   ],
   "source": [
    "print('Amount of data per attack category type:')\n",
    "print(pd.value_counts(balancedData['Label']))"
   ]
  },
  {
   "cell_type": "code",
   "execution_count": 26,
   "metadata": {},
   "outputs": [],
   "source": [
    "dos = data.index[data['Label'] == 1].tolist()\n",
    "\n",
    "for i in range(len(dos)):\n",
    "    balancedData = balancedData.append(data.loc[dos[i]])"
   ]
  },
  {
   "cell_type": "code",
   "execution_count": 27,
   "metadata": {},
   "outputs": [
    {
     "data": {
      "text/plain": [
       "Index(['srcip', 'sport', 'dstip', 'dsport', 'proto', 'state', 'dur', 'sbytes',\n",
       "       'dbytes', 'sttl', 'dttl', 'sloss', 'dloss', 'service', 'Sload', 'Dload',\n",
       "       'Spkts', 'Dpkts', 'swin', 'dwin', 'stcpb', 'dtcpb', 'smeansz',\n",
       "       'dmeansz', 'trans_depth', 'res_bdy_len', 'Sjit', 'Djit', 'Stime',\n",
       "       'Ltime', 'Sintpkt', 'Dintpkt', 'tcprtt', 'synack', 'ackdat',\n",
       "       'is_sm_ips_ports', 'ct_state_ttl', 'ct_flw_http_mthd', 'is_ftp_login',\n",
       "       'ct_ftp_cmd', 'ct_srv_src', 'ct_srv_dst', 'ct_dst_ltm', 'ct_src_ltm',\n",
       "       'ct_src_dport_ltm', 'ct_dst_sport_ltm', 'ct_dst_src_ltm', 'attack_cat',\n",
       "       'Label'],\n",
       "      dtype='object')"
      ]
     },
     "execution_count": 27,
     "metadata": {},
     "output_type": "execute_result"
    }
   ],
   "source": [
    "balancedData.columns"
   ]
  },
  {
   "cell_type": "code",
   "execution_count": 28,
   "metadata": {},
   "outputs": [],
   "source": [
    "balancedData = balancedData.drop(columns=['attack_cat', 'srcip', 'dstip', 'smeansz', 'dmeansz', 'trans_depth', 'res_bdy_len', 'Sjit', 'Djit', 'Stime', 'Ltime', 'Sintpkt', 'Dintpkt', 'tcprtt', 'synack', 'ackdat', 'is_sm_ips_ports', 'ct_state_ttl', 'ct_flw_http_mthd', 'is_ftp_login', 'ct_ftp_cmd', 'ct_srv_src', 'ct_srv_dst', 'ct_dst_ltm', 'ct_src_ltm', 'ct_src_dport_ltm', 'ct_dst_sport_ltm', 'ct_dst_src_ltm'])"
   ]
  },
  {
   "cell_type": "code",
   "execution_count": 29,
   "metadata": {},
   "outputs": [
    {
     "data": {
      "text/html": [
       "<div>\n",
       "<style scoped>\n",
       "    .dataframe tbody tr th:only-of-type {\n",
       "        vertical-align: middle;\n",
       "    }\n",
       "\n",
       "    .dataframe tbody tr th {\n",
       "        vertical-align: top;\n",
       "    }\n",
       "\n",
       "    .dataframe thead th {\n",
       "        text-align: right;\n",
       "    }\n",
       "</style>\n",
       "<table border=\"1\" class=\"dataframe\">\n",
       "  <thead>\n",
       "    <tr style=\"text-align: right;\">\n",
       "      <th></th>\n",
       "      <th>sport</th>\n",
       "      <th>dsport</th>\n",
       "      <th>proto</th>\n",
       "      <th>state</th>\n",
       "      <th>dur</th>\n",
       "      <th>sbytes</th>\n",
       "      <th>dbytes</th>\n",
       "      <th>sttl</th>\n",
       "      <th>dttl</th>\n",
       "      <th>sloss</th>\n",
       "      <th>...</th>\n",
       "      <th>service</th>\n",
       "      <th>Sload</th>\n",
       "      <th>Dload</th>\n",
       "      <th>Spkts</th>\n",
       "      <th>Dpkts</th>\n",
       "      <th>swin</th>\n",
       "      <th>dwin</th>\n",
       "      <th>stcpb</th>\n",
       "      <th>dtcpb</th>\n",
       "      <th>Label</th>\n",
       "    </tr>\n",
       "  </thead>\n",
       "  <tbody>\n",
       "    <tr>\n",
       "      <th>0</th>\n",
       "      <td>1390</td>\n",
       "      <td>53</td>\n",
       "      <td>udp</td>\n",
       "      <td>CON</td>\n",
       "      <td>0.001055</td>\n",
       "      <td>132</td>\n",
       "      <td>164</td>\n",
       "      <td>31</td>\n",
       "      <td>29</td>\n",
       "      <td>0</td>\n",
       "      <td>...</td>\n",
       "      <td>dns</td>\n",
       "      <td>500473.937500</td>\n",
       "      <td>6.218009e+05</td>\n",
       "      <td>2</td>\n",
       "      <td>2</td>\n",
       "      <td>0</td>\n",
       "      <td>0</td>\n",
       "      <td>0</td>\n",
       "      <td>0</td>\n",
       "      <td>0</td>\n",
       "    </tr>\n",
       "    <tr>\n",
       "      <th>1</th>\n",
       "      <td>33661</td>\n",
       "      <td>1024</td>\n",
       "      <td>udp</td>\n",
       "      <td>CON</td>\n",
       "      <td>0.036133</td>\n",
       "      <td>528</td>\n",
       "      <td>304</td>\n",
       "      <td>31</td>\n",
       "      <td>29</td>\n",
       "      <td>0</td>\n",
       "      <td>...</td>\n",
       "      <td>-</td>\n",
       "      <td>87676.085940</td>\n",
       "      <td>5.048017e+04</td>\n",
       "      <td>4</td>\n",
       "      <td>4</td>\n",
       "      <td>0</td>\n",
       "      <td>0</td>\n",
       "      <td>0</td>\n",
       "      <td>0</td>\n",
       "      <td>0</td>\n",
       "    </tr>\n",
       "    <tr>\n",
       "      <th>2</th>\n",
       "      <td>1464</td>\n",
       "      <td>53</td>\n",
       "      <td>udp</td>\n",
       "      <td>CON</td>\n",
       "      <td>0.001119</td>\n",
       "      <td>146</td>\n",
       "      <td>178</td>\n",
       "      <td>31</td>\n",
       "      <td>29</td>\n",
       "      <td>0</td>\n",
       "      <td>...</td>\n",
       "      <td>dns</td>\n",
       "      <td>521894.531300</td>\n",
       "      <td>6.362824e+05</td>\n",
       "      <td>2</td>\n",
       "      <td>2</td>\n",
       "      <td>0</td>\n",
       "      <td>0</td>\n",
       "      <td>0</td>\n",
       "      <td>0</td>\n",
       "      <td>0</td>\n",
       "    </tr>\n",
       "    <tr>\n",
       "      <th>3</th>\n",
       "      <td>3593</td>\n",
       "      <td>53</td>\n",
       "      <td>udp</td>\n",
       "      <td>CON</td>\n",
       "      <td>0.001209</td>\n",
       "      <td>132</td>\n",
       "      <td>164</td>\n",
       "      <td>31</td>\n",
       "      <td>29</td>\n",
       "      <td>0</td>\n",
       "      <td>...</td>\n",
       "      <td>dns</td>\n",
       "      <td>436724.562500</td>\n",
       "      <td>5.425972e+05</td>\n",
       "      <td>2</td>\n",
       "      <td>2</td>\n",
       "      <td>0</td>\n",
       "      <td>0</td>\n",
       "      <td>0</td>\n",
       "      <td>0</td>\n",
       "      <td>0</td>\n",
       "    </tr>\n",
       "    <tr>\n",
       "      <th>4</th>\n",
       "      <td>49664</td>\n",
       "      <td>53</td>\n",
       "      <td>udp</td>\n",
       "      <td>CON</td>\n",
       "      <td>0.001169</td>\n",
       "      <td>146</td>\n",
       "      <td>178</td>\n",
       "      <td>31</td>\n",
       "      <td>29</td>\n",
       "      <td>0</td>\n",
       "      <td>...</td>\n",
       "      <td>dns</td>\n",
       "      <td>499572.250000</td>\n",
       "      <td>6.090676e+05</td>\n",
       "      <td>2</td>\n",
       "      <td>2</td>\n",
       "      <td>0</td>\n",
       "      <td>0</td>\n",
       "      <td>0</td>\n",
       "      <td>0</td>\n",
       "      <td>0</td>\n",
       "    </tr>\n",
       "    <tr>\n",
       "      <th>...</th>\n",
       "      <td>...</td>\n",
       "      <td>...</td>\n",
       "      <td>...</td>\n",
       "      <td>...</td>\n",
       "      <td>...</td>\n",
       "      <td>...</td>\n",
       "      <td>...</td>\n",
       "      <td>...</td>\n",
       "      <td>...</td>\n",
       "      <td>...</td>\n",
       "      <td>...</td>\n",
       "      <td>...</td>\n",
       "      <td>...</td>\n",
       "      <td>...</td>\n",
       "      <td>...</td>\n",
       "      <td>...</td>\n",
       "      <td>...</td>\n",
       "      <td>...</td>\n",
       "      <td>...</td>\n",
       "      <td>...</td>\n",
       "      <td>...</td>\n",
       "    </tr>\n",
       "    <tr>\n",
       "      <th>183948</th>\n",
       "      <td>35369</td>\n",
       "      <td>80</td>\n",
       "      <td>tcp</td>\n",
       "      <td>FIN</td>\n",
       "      <td>0.289723</td>\n",
       "      <td>864</td>\n",
       "      <td>1390</td>\n",
       "      <td>254</td>\n",
       "      <td>252</td>\n",
       "      <td>2</td>\n",
       "      <td>...</td>\n",
       "      <td>-</td>\n",
       "      <td>21482.587890</td>\n",
       "      <td>3.360451e+04</td>\n",
       "      <td>10</td>\n",
       "      <td>8</td>\n",
       "      <td>255</td>\n",
       "      <td>255</td>\n",
       "      <td>3681792013</td>\n",
       "      <td>1705323518</td>\n",
       "      <td>1</td>\n",
       "    </tr>\n",
       "    <tr>\n",
       "      <th>184301</th>\n",
       "      <td>24841</td>\n",
       "      <td>25</td>\n",
       "      <td>tcp</td>\n",
       "      <td>FIN</td>\n",
       "      <td>1.012112</td>\n",
       "      <td>806</td>\n",
       "      <td>1096</td>\n",
       "      <td>254</td>\n",
       "      <td>252</td>\n",
       "      <td>5</td>\n",
       "      <td>...</td>\n",
       "      <td>-</td>\n",
       "      <td>5920.293457</td>\n",
       "      <td>8.046540e+03</td>\n",
       "      <td>14</td>\n",
       "      <td>14</td>\n",
       "      <td>255</td>\n",
       "      <td>255</td>\n",
       "      <td>4198805689</td>\n",
       "      <td>2462692123</td>\n",
       "      <td>1</td>\n",
       "    </tr>\n",
       "    <tr>\n",
       "      <th>184611</th>\n",
       "      <td>27333</td>\n",
       "      <td>143</td>\n",
       "      <td>tcp</td>\n",
       "      <td>FIN</td>\n",
       "      <td>1.206070</td>\n",
       "      <td>1010</td>\n",
       "      <td>4962</td>\n",
       "      <td>62</td>\n",
       "      <td>252</td>\n",
       "      <td>6</td>\n",
       "      <td>...</td>\n",
       "      <td>-</td>\n",
       "      <td>6327.991211</td>\n",
       "      <td>3.126850e+04</td>\n",
       "      <td>18</td>\n",
       "      <td>20</td>\n",
       "      <td>255</td>\n",
       "      <td>255</td>\n",
       "      <td>2909098937</td>\n",
       "      <td>254268601</td>\n",
       "      <td>1</td>\n",
       "    </tr>\n",
       "    <tr>\n",
       "      <th>184663</th>\n",
       "      <td>25474</td>\n",
       "      <td>88</td>\n",
       "      <td>udp</td>\n",
       "      <td>CON</td>\n",
       "      <td>0.169691</td>\n",
       "      <td>2132</td>\n",
       "      <td>1512</td>\n",
       "      <td>254</td>\n",
       "      <td>60</td>\n",
       "      <td>0</td>\n",
       "      <td>...</td>\n",
       "      <td>-</td>\n",
       "      <td>75384.085940</td>\n",
       "      <td>3.564125e+04</td>\n",
       "      <td>4</td>\n",
       "      <td>2</td>\n",
       "      <td>0</td>\n",
       "      <td>0</td>\n",
       "      <td>0</td>\n",
       "      <td>0</td>\n",
       "      <td>1</td>\n",
       "    </tr>\n",
       "    <tr>\n",
       "      <th>184961</th>\n",
       "      <td>30659</td>\n",
       "      <td>80</td>\n",
       "      <td>tcp</td>\n",
       "      <td>FIN</td>\n",
       "      <td>36.005539</td>\n",
       "      <td>30618</td>\n",
       "      <td>6040578</td>\n",
       "      <td>62</td>\n",
       "      <td>252</td>\n",
       "      <td>3</td>\n",
       "      <td>...</td>\n",
       "      <td>-</td>\n",
       "      <td>6793.177246</td>\n",
       "      <td>1.341843e+06</td>\n",
       "      <td>694</td>\n",
       "      <td>4455</td>\n",
       "      <td>255</td>\n",
       "      <td>255</td>\n",
       "      <td>3442881094</td>\n",
       "      <td>3162022681</td>\n",
       "      <td>1</td>\n",
       "    </tr>\n",
       "  </tbody>\n",
       "</table>\n",
       "<p>3167 rows × 21 columns</p>\n",
       "</div>"
      ],
      "text/plain": [
       "        sport dsport proto state        dur  sbytes   dbytes  sttl  dttl  \\\n",
       "0        1390     53   udp   CON   0.001055     132      164    31    29   \n",
       "1       33661   1024   udp   CON   0.036133     528      304    31    29   \n",
       "2        1464     53   udp   CON   0.001119     146      178    31    29   \n",
       "3        3593     53   udp   CON   0.001209     132      164    31    29   \n",
       "4       49664     53   udp   CON   0.001169     146      178    31    29   \n",
       "...       ...    ...   ...   ...        ...     ...      ...   ...   ...   \n",
       "183948  35369     80   tcp   FIN   0.289723     864     1390   254   252   \n",
       "184301  24841     25   tcp   FIN   1.012112     806     1096   254   252   \n",
       "184611  27333    143   tcp   FIN   1.206070    1010     4962    62   252   \n",
       "184663  25474     88   udp   CON   0.169691    2132     1512   254    60   \n",
       "184961  30659     80   tcp   FIN  36.005539   30618  6040578    62   252   \n",
       "\n",
       "        sloss  ...  service          Sload         Dload  Spkts  Dpkts  swin  \\\n",
       "0           0  ...      dns  500473.937500  6.218009e+05      2      2     0   \n",
       "1           0  ...        -   87676.085940  5.048017e+04      4      4     0   \n",
       "2           0  ...      dns  521894.531300  6.362824e+05      2      2     0   \n",
       "3           0  ...      dns  436724.562500  5.425972e+05      2      2     0   \n",
       "4           0  ...      dns  499572.250000  6.090676e+05      2      2     0   \n",
       "...       ...  ...      ...            ...           ...    ...    ...   ...   \n",
       "183948      2  ...        -   21482.587890  3.360451e+04     10      8   255   \n",
       "184301      5  ...        -    5920.293457  8.046540e+03     14     14   255   \n",
       "184611      6  ...        -    6327.991211  3.126850e+04     18     20   255   \n",
       "184663      0  ...        -   75384.085940  3.564125e+04      4      2     0   \n",
       "184961      3  ...        -    6793.177246  1.341843e+06    694   4455   255   \n",
       "\n",
       "        dwin       stcpb       dtcpb  Label  \n",
       "0          0           0           0      0  \n",
       "1          0           0           0      0  \n",
       "2          0           0           0      0  \n",
       "3          0           0           0      0  \n",
       "4          0           0           0      0  \n",
       "...      ...         ...         ...    ...  \n",
       "183948   255  3681792013  1705323518      1  \n",
       "184301   255  4198805689  2462692123      1  \n",
       "184611   255  2909098937   254268601      1  \n",
       "184663     0           0           0      1  \n",
       "184961   255  3442881094  3162022681      1  \n",
       "\n",
       "[3167 rows x 21 columns]"
      ]
     },
     "execution_count": 29,
     "metadata": {},
     "output_type": "execute_result"
    }
   ],
   "source": [
    "balancedData"
   ]
  },
  {
   "cell_type": "code",
   "execution_count": 30,
   "metadata": {},
   "outputs": [
    {
     "data": {
      "text/plain": [
       "Index(['sport', 'dsport', 'proto', 'state', 'dur', 'sbytes', 'dbytes', 'sttl',\n",
       "       'dttl', 'sloss', 'dloss', 'service', 'Sload', 'Dload', 'Spkts', 'Dpkts',\n",
       "       'swin', 'dwin', 'stcpb', 'dtcpb', 'Label'],\n",
       "      dtype='object')"
      ]
     },
     "execution_count": 30,
     "metadata": {},
     "output_type": "execute_result"
    }
   ],
   "source": [
    "balancedData.columns"
   ]
  },
  {
   "cell_type": "code",
   "execution_count": 42,
   "metadata": {},
   "outputs": [],
   "source": [
    "#One sample had an invalid dsport entry as a hex value (at index 196) should be deleted\n",
    "balancedData = balancedData.drop(balancedData[(balancedData['dsport'] == '0xc0a8')].index)"
   ]
  },
  {
   "cell_type": "code",
   "execution_count": 43,
   "metadata": {},
   "outputs": [
    {
     "name": "stdout",
     "output_type": "stream",
     "text": [
      "Amount of data per attack category type:\n",
      "0    1999\n",
      "1    1167\n",
      "Name: Label, dtype: int64\n"
     ]
    }
   ],
   "source": [
    "print('Amount of data per attack category type:')\n",
    "print(pd.value_counts(balancedData['Label']))"
   ]
  },
  {
   "cell_type": "markdown",
   "metadata": {},
   "source": [
    "### Pie Chart for Class Balance\n",
    "\n",
    "---"
   ]
  },
  {
   "cell_type": "markdown",
   "metadata": {},
   "source": [
    "Before balancing data"
   ]
  },
  {
   "cell_type": "code",
   "execution_count": 44,
   "metadata": {},
   "outputs": [
    {
     "data": {
      "text/plain": [
       "0    1064988\n",
       "1       1167\n",
       "Name: Label, dtype: int64"
      ]
     },
     "execution_count": 44,
     "metadata": {},
     "output_type": "execute_result"
    }
   ],
   "source": [
    "#Prepare data for pie chart\n",
    "class_counts = data['Label'].value_counts()\n",
    "class_counts"
   ]
  },
  {
   "cell_type": "code",
   "execution_count": 45,
   "metadata": {},
   "outputs": [
    {
     "data": {
      "text/plain": [
       "Text(0.5, 1.05, 'Class Balance')"
      ]
     },
     "execution_count": 45,
     "metadata": {},
     "output_type": "execute_result"
    },
    {
     "data": {
      "image/png": "[encoded data removed]",
      "text/plain": [
       "<Figure size 360x360 with 1 Axes>"
      ]
     },
     "metadata": {},
     "output_type": "display_data"
    }
   ],
   "source": [
    "colors = ['#ff9999','#ffcc99']\n",
    "plt.figure(figsize=(5, 5))\n",
    "plt.pie(class_counts, autopct='%1.4f%%', radius=1.25, colors=colors, shadow=True)\n",
    "plt.legend(labels=['Benign', 'DoS'], loc='center')\n",
    "plt.title('Class Balance', y=1.05)"
   ]
  },
  {
   "cell_type": "markdown",
   "metadata": {},
   "source": [
    "After Balancing Data"
   ]
  },
  {
   "cell_type": "code",
   "execution_count": 46,
   "metadata": {},
   "outputs": [
    {
     "data": {
      "text/plain": [
       "0    1999\n",
       "1    1167\n",
       "Name: Label, dtype: int64"
      ]
     },
     "execution_count": 46,
     "metadata": {},
     "output_type": "execute_result"
    }
   ],
   "source": [
    "#Prepare data for pie chart\n",
    "class_counts = balancedData['Label'].value_counts()\n",
    "class_counts"
   ]
  },
  {
   "cell_type": "code",
   "execution_count": 47,
   "metadata": {},
   "outputs": [
    {
     "data": {
      "text/plain": [
       "Text(0.5, 1.05, 'Class Balance')"
      ]
     },
     "execution_count": 47,
     "metadata": {},
     "output_type": "execute_result"
    },
    {
     "data": {
      "image/png": "[encoded data removed]",
      "text/plain": [
       "<Figure size 360x360 with 1 Axes>"
      ]
     },
     "metadata": {},
     "output_type": "display_data"
    }
   ],
   "source": [
    "colors = ['#ff9999','#ffcc99']\n",
    "plt.figure(figsize=(5, 5))\n",
    "plt.pie(class_counts, autopct='%1.4f%%', radius=1.25, colors=colors, shadow=True)\n",
    "plt.legend(labels=['Benign', 'DoS'], loc='center')\n",
    "plt.title('Class Balance', y=1.05)"
   ]
  },
  {
   "cell_type": "code",
   "execution_count": 48,
   "metadata": {},
   "outputs": [],
   "source": [
    "#save data to csv file\n",
    "balancedData.to_csv('data/balanced_data.csv', index=False)"
   ]
  },
  {
   "cell_type": "code",
   "execution_count": null,
   "metadata": {},
   "outputs": [],
   "source": []
  }
 ],
 "metadata": {
  "interpreter": {
   "hash": "3f7b4d280e36d22db217b3393870178bf3cf162d376e2d4dcdb69d264b1d9627"
  },
  "kernelspec": {
   "display_name": "Python 3.8.3 64-bit ('base': conda)",
   "name": "python3"
  },
  "language_info": {
   "codemirror_mode": {
    "name": "ipython",
    "version": 3
   },
   "file_extension": ".py",
   "mimetype": "text/x-python",
   "name": "python",
   "nbconvert_exporter": "python",
   "pygments_lexer": "ipython3",
   "version": "3.8.3"
  },
  "orig_nbformat": 4
 },
 "nbformat": 4,
 "nbformat_minor": 2
}
