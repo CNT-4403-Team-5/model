{
  "cells": [
    {
      "cell_type": "code",
      "execution_count": 1,
      "metadata": {
        "colab": {
          "base_uri": "https://localhost:8080/"
        },
        "id": "Bn8_qUnSAyIU",
        "outputId": "d5ba7597-25c2-4359-e331-6b4f8222c0ae"
      },
      "outputs": [],
      "source": [
        "from keras.models import Sequential\n",
        "from keras.layers import Dense\n",
        "from keras.optimizers import Adam\n",
        "from sklearn.model_selection import train_test_split\n",
        "from sklearn.preprocessing import MinMaxScaler\n",
        "from keras.backend import clear_session\n",
        "from tensorflow.keras.utils import to_categorical\n",
        "from sklearn.metrics import *\n",
        "from time import time\n",
        "import numpy as np\n",
        "import matplotlib.pyplot as plt\n",
        "import seaborn as sns\n",
        "import pandas as pd\n",
        "from keras.callbacks import ModelCheckpoint\n",
        "import import_ipynb\n",
        "from functions import * #custom functions"
      ]
    },
    {
      "cell_type": "markdown",
      "metadata": {
        "id": "O6PJmvWjAyIa"
      },
      "source": [
        "## Load Data\n",
        "\n",
        "---"
      ]
    },
    {
      "cell_type": "code",
      "execution_count": 3,
      "metadata": {
        "colab": {
          "base_uri": "https://localhost:8080/"
        },
        "id": "H7SfPARFMxzJ",
        "outputId": "1f44b026-0ec8-455e-e558-3688d12f5309"
      },
      "outputs": [
        {
          "name": "stdout",
          "output_type": "stream",
          "text": [
            "x_train shape:  (1922, 165)\n",
            "y_train shape:  (1922, 2)\n",
            "x_test shape:  (412, 165)\n",
            "y_test shape:  (412, 2)\n",
            "x_val shape:  (413, 165)\n",
            "y_val shape:  (413, 2)\n"
          ]
        }
      ],
      "source": [
        "data = np.load('data/data.npz', allow_pickle=True)\n",
        "\n",
        "x_train = data['x_train']\n",
        "y_train = data['y_train']\n",
        "x_test = data['x_test']\n",
        "y_test = data['y_test']\n",
        "x_val = data['x_val']\n",
        "y_val = data['y_val']\n",
        "\n",
        "\n",
        "print('x_train shape: ', x_train.shape)\n",
        "print('y_train shape: ', y_train.shape)\n",
        "print('x_test shape: ', x_test.shape)\n",
        "print('y_test shape: ', y_test.shape)\n",
        "print('x_val shape: ', x_val.shape)\n",
        "print('y_val shape: ', y_val.shape)"
      ]
    },
    {
      "cell_type": "markdown",
      "metadata": {
        "id": "2SVKPf-bAyIb"
      },
      "source": [
        "## DNN Model\n",
        "\n",
        "\n",
        "*'DEEP-INTRUSION DETECTION SYSTEM WITH ENHANCED UNSW-NB15 DATASET BASED ON DEEP LEARNING TECHNIQUES', A.M. ALEESA, MOHAMMED YOUNIS, AHMED A. MOHAMMED, NAN M. SAHAR*\n",
        "\n",
        "\n",
        "---"
      ]
    },
    {
      "cell_type": "markdown",
      "metadata": {},
      "source": [
        "<img src='img/models/dnn.png'>"
      ]
    },
    {
      "cell_type": "code",
      "execution_count": 4,
      "metadata": {
        "colab": {
          "base_uri": "https://localhost:8080/"
        },
        "id": "mo9bftx3AyIc",
        "outputId": "108d8e3c-0371-4a77-c22a-d54c88f43e8b"
      },
      "outputs": [
        {
          "name": "stdout",
          "output_type": "stream",
          "text": [
            "Model: \"sequential\"\n",
            "_________________________________________________________________\n",
            "Layer (type)                 Output Shape              Param #   \n",
            "=================================================================\n",
            "dense (Dense)                (None, 100)               16600     \n",
            "_________________________________________________________________\n",
            "dense_1 (Dense)              (None, 100)               10100     \n",
            "_________________________________________________________________\n",
            "dense_2 (Dense)              (None, 100)               10100     \n",
            "_________________________________________________________________\n",
            "dense_3 (Dense)              (None, 2)                 202       \n",
            "=================================================================\n",
            "Total params: 37,002\n",
            "Trainable params: 37,002\n",
            "Non-trainable params: 0\n",
            "_________________________________________________________________\n"
          ]
        }
      ],
      "source": [
        "#Define\n",
        "model = Sequential()\n",
        "\n",
        "model.add(Dense(input_dim=x_train.shape[1], units=100, activation='relu')) #input & hidden layer 1\n",
        "model.add(Dense(units=100, activation='relu')) #hidden layer 2\n",
        "model.add(Dense(units=100, activation='relu')) #hidden layer 3\n",
        "model.add(Dense(units=2, activation='softmax')) #output/prediction layer\n",
        "\n",
        "model.summary() #display model architecture information"
      ]
    },
    {
      "cell_type": "code",
      "execution_count": 5,
      "metadata": {
        "id": "TVbNrQHKAyIc"
      },
      "outputs": [],
      "source": [
        "#Compile\n",
        "model.compile(loss=\"binary_crossentropy\", #they did not specify loss function, assume binary cross entropy\n",
        "        optimizer=Adam(learning_rate=0.001), #they did not specify learning rate, placeholder value for now\n",
        "        metrics=[\"accuracy\"])"
      ]
    },
    {
      "cell_type": "code",
      "execution_count": 6,
      "metadata": {},
      "outputs": [],
      "source": [
        "#Best model callback\n",
        "model_path = 'trained_models/dnn'\n",
        "checkpoint = ModelCheckpoint(\n",
        "    filepath=model_path, \n",
        "    monitor='val_loss', #save model based on best validation loss\n",
        "    verbose=0, \n",
        "    save_best_only=True,\n",
        "    mode='min')\n",
        "callbacks = [checkpoint]"
      ]
    },
    {
      "cell_type": "code",
      "execution_count": 7,
      "metadata": {
        "colab": {
          "base_uri": "https://localhost:8080/"
        },
        "id": "GrPLP4MfAyId",
        "outputId": "e1d1209c-51cb-441b-b287-9d523687417b"
      },
      "outputs": [
        {
          "name": "stdout",
          "output_type": "stream",
          "text": [
            "Epoch 1/100\n",
            "20/20 [==============================] - 11s 26ms/step - loss: 0.6570 - accuracy: 0.6052 - val_loss: 0.4792 - val_accuracy: 0.8111\n",
            "INFO:tensorflow:Assets written to: trained_models/dnn/assets\n",
            "Epoch 2/100\n",
            "20/20 [==============================] - 0s 3ms/step - loss: 0.4096 - accuracy: 0.8154 - val_loss: 0.1455 - val_accuracy: 0.9709\n",
            "INFO:tensorflow:Assets written to: trained_models/dnn/assets\n",
            "Epoch 3/100\n",
            "20/20 [==============================] - 0s 6ms/step - loss: 0.0994 - accuracy: 0.9855 - val_loss: 0.0222 - val_accuracy: 0.9952\n",
            "INFO:tensorflow:Assets written to: trained_models/dnn/assets\n",
            "Epoch 4/100\n",
            "20/20 [==============================] - 0s 4ms/step - loss: 0.0091 - accuracy: 0.9995 - val_loss: 0.0131 - val_accuracy: 0.9952\n",
            "INFO:tensorflow:Assets written to: trained_models/dnn/assets\n",
            "Epoch 5/100\n",
            "20/20 [==============================] - 0s 3ms/step - loss: 0.0041 - accuracy: 0.9994 - val_loss: 0.0057 - val_accuracy: 0.9976\n",
            "INFO:tensorflow:Assets written to: trained_models/dnn/assets\n",
            "Epoch 6/100\n",
            "20/20 [==============================] - 0s 7ms/step - loss: 0.0019 - accuracy: 0.9997 - val_loss: 0.0027 - val_accuracy: 1.0000\n",
            "INFO:tensorflow:Assets written to: trained_models/dnn/assets\n",
            "Epoch 7/100\n",
            "20/20 [==============================] - 0s 4ms/step - loss: 0.0015 - accuracy: 1.0000 - val_loss: 0.0021 - val_accuracy: 1.0000\n",
            "INFO:tensorflow:Assets written to: trained_models/dnn/assets\n",
            "Epoch 8/100\n",
            "20/20 [==============================] - 0s 5ms/step - loss: 7.1648e-04 - accuracy: 1.0000 - val_loss: 0.0017 - val_accuracy: 1.0000\n",
            "INFO:tensorflow:Assets written to: trained_models/dnn/assets\n",
            "Epoch 9/100\n",
            "20/20 [==============================] - 0s 4ms/step - loss: 5.5645e-04 - accuracy: 1.0000 - val_loss: 0.0015 - val_accuracy: 1.0000\n",
            "INFO:tensorflow:Assets written to: trained_models/dnn/assets\n",
            "Epoch 10/100\n",
            "20/20 [==============================] - 0s 5ms/step - loss: 4.7848e-04 - accuracy: 1.0000 - val_loss: 0.0015 - val_accuracy: 1.0000\n",
            "Epoch 11/100\n",
            "20/20 [==============================] - 0s 6ms/step - loss: 4.9826e-04 - accuracy: 1.0000 - val_loss: 0.0012 - val_accuracy: 1.0000\n",
            "INFO:tensorflow:Assets written to: trained_models/dnn/assets\n",
            "Epoch 12/100\n",
            "20/20 [==============================] - 0s 4ms/step - loss: 3.0218e-04 - accuracy: 1.0000 - val_loss: 0.0012 - val_accuracy: 1.0000\n",
            "INFO:tensorflow:Assets written to: trained_models/dnn/assets\n",
            "Epoch 13/100\n",
            "20/20 [==============================] - 0s 4ms/step - loss: 2.0753e-04 - accuracy: 1.0000 - val_loss: 0.0011 - val_accuracy: 1.0000\n",
            "INFO:tensorflow:Assets written to: trained_models/dnn/assets\n",
            "Epoch 14/100\n",
            "20/20 [==============================] - 0s 4ms/step - loss: 2.0685e-04 - accuracy: 1.0000 - val_loss: 0.0011 - val_accuracy: 1.0000\n",
            "INFO:tensorflow:Assets written to: trained_models/dnn/assets\n",
            "Epoch 15/100\n",
            "20/20 [==============================] - 0s 6ms/step - loss: 1.4644e-04 - accuracy: 1.0000 - val_loss: 0.0011 - val_accuracy: 1.0000\n",
            "INFO:tensorflow:Assets written to: trained_models/dnn/assets\n",
            "Epoch 16/100\n",
            "20/20 [==============================] - 0s 5ms/step - loss: 1.6453e-04 - accuracy: 1.0000 - val_loss: 0.0010 - val_accuracy: 1.0000\n",
            "INFO:tensorflow:Assets written to: trained_models/dnn/assets\n",
            "Epoch 17/100\n",
            "20/20 [==============================] - 0s 5ms/step - loss: 1.1919e-04 - accuracy: 1.0000 - val_loss: 0.0010 - val_accuracy: 1.0000\n",
            "INFO:tensorflow:Assets written to: trained_models/dnn/assets\n",
            "Epoch 18/100\n",
            "20/20 [==============================] - 0s 4ms/step - loss: 1.0002e-04 - accuracy: 1.0000 - val_loss: 9.8364e-04 - val_accuracy: 1.0000\n",
            "INFO:tensorflow:Assets written to: trained_models/dnn/assets\n",
            "Epoch 19/100\n",
            "20/20 [==============================] - 0s 4ms/step - loss: 9.6897e-05 - accuracy: 1.0000 - val_loss: 9.7291e-04 - val_accuracy: 1.0000\n",
            "INFO:tensorflow:Assets written to: trained_models/dnn/assets\n",
            "Epoch 20/100\n",
            "20/20 [==============================] - 0s 3ms/step - loss: 7.9412e-05 - accuracy: 1.0000 - val_loss: 9.4689e-04 - val_accuracy: 1.0000\n",
            "INFO:tensorflow:Assets written to: trained_models/dnn/assets\n",
            "Epoch 21/100\n",
            "20/20 [==============================] - 0s 4ms/step - loss: 8.2503e-05 - accuracy: 1.0000 - val_loss: 9.5873e-04 - val_accuracy: 1.0000\n",
            "Epoch 22/100\n",
            "20/20 [==============================] - 0s 4ms/step - loss: 6.5884e-05 - accuracy: 1.0000 - val_loss: 9.1831e-04 - val_accuracy: 1.0000\n",
            "INFO:tensorflow:Assets written to: trained_models/dnn/assets\n",
            "Epoch 23/100\n",
            "20/20 [==============================] - 0s 5ms/step - loss: 6.8984e-05 - accuracy: 1.0000 - val_loss: 9.8582e-04 - val_accuracy: 1.0000\n",
            "Epoch 24/100\n",
            "20/20 [==============================] - 0s 4ms/step - loss: 4.8629e-05 - accuracy: 1.0000 - val_loss: 9.1462e-04 - val_accuracy: 1.0000\n",
            "INFO:tensorflow:Assets written to: trained_models/dnn/assets\n",
            "Epoch 25/100\n",
            "20/20 [==============================] - 0s 4ms/step - loss: 4.4521e-05 - accuracy: 1.0000 - val_loss: 9.1271e-04 - val_accuracy: 1.0000\n",
            "INFO:tensorflow:Assets written to: trained_models/dnn/assets\n",
            "Epoch 26/100\n",
            "20/20 [==============================] - 0s 5ms/step - loss: 3.5215e-05 - accuracy: 1.0000 - val_loss: 9.1067e-04 - val_accuracy: 1.0000\n",
            "INFO:tensorflow:Assets written to: trained_models/dnn/assets\n",
            "Epoch 27/100\n",
            "20/20 [==============================] - 0s 4ms/step - loss: 2.8017e-05 - accuracy: 1.0000 - val_loss: 8.9911e-04 - val_accuracy: 1.0000\n",
            "INFO:tensorflow:Assets written to: trained_models/dnn/assets\n",
            "Epoch 28/100\n",
            "20/20 [==============================] - 0s 8ms/step - loss: 3.5480e-05 - accuracy: 1.0000 - val_loss: 9.5531e-04 - val_accuracy: 1.0000\n",
            "Epoch 29/100\n",
            "20/20 [==============================] - 0s 4ms/step - loss: 3.1922e-05 - accuracy: 1.0000 - val_loss: 9.2048e-04 - val_accuracy: 1.0000\n",
            "Epoch 30/100\n",
            "20/20 [==============================] - 0s 4ms/step - loss: 2.6212e-05 - accuracy: 1.0000 - val_loss: 8.7948e-04 - val_accuracy: 1.0000\n",
            "INFO:tensorflow:Assets written to: trained_models/dnn/assets\n",
            "Epoch 31/100\n",
            "20/20 [==============================] - 0s 5ms/step - loss: 2.0052e-05 - accuracy: 1.0000 - val_loss: 9.2154e-04 - val_accuracy: 1.0000\n",
            "Epoch 32/100\n",
            "20/20 [==============================] - 0s 3ms/step - loss: 2.2089e-05 - accuracy: 1.0000 - val_loss: 8.7316e-04 - val_accuracy: 1.0000\n",
            "INFO:tensorflow:Assets written to: trained_models/dnn/assets\n",
            "Epoch 33/100\n",
            "20/20 [==============================] - 0s 3ms/step - loss: 1.8761e-05 - accuracy: 1.0000 - val_loss: 8.8428e-04 - val_accuracy: 1.0000\n",
            "Epoch 34/100\n",
            "20/20 [==============================] - 0s 3ms/step - loss: 2.0358e-05 - accuracy: 1.0000 - val_loss: 8.9680e-04 - val_accuracy: 1.0000\n",
            "Epoch 35/100\n",
            "20/20 [==============================] - 0s 4ms/step - loss: 1.7126e-05 - accuracy: 1.0000 - val_loss: 8.7218e-04 - val_accuracy: 1.0000\n",
            "INFO:tensorflow:Assets written to: trained_models/dnn/assets\n",
            "Epoch 36/100\n",
            "20/20 [==============================] - 0s 6ms/step - loss: 1.6612e-05 - accuracy: 1.0000 - val_loss: 8.7017e-04 - val_accuracy: 1.0000\n",
            "INFO:tensorflow:Assets written to: trained_models/dnn/assets\n",
            "Epoch 37/100\n",
            "20/20 [==============================] - 0s 4ms/step - loss: 1.3730e-05 - accuracy: 1.0000 - val_loss: 8.5495e-04 - val_accuracy: 1.0000\n",
            "INFO:tensorflow:Assets written to: trained_models/dnn/assets\n",
            "Epoch 38/100\n",
            "20/20 [==============================] - 0s 6ms/step - loss: 1.3607e-05 - accuracy: 1.0000 - val_loss: 8.4517e-04 - val_accuracy: 1.0000\n",
            "INFO:tensorflow:Assets written to: trained_models/dnn/assets\n",
            "Epoch 39/100\n",
            "20/20 [==============================] - 0s 4ms/step - loss: 1.4475e-05 - accuracy: 1.0000 - val_loss: 8.6220e-04 - val_accuracy: 1.0000\n",
            "Epoch 40/100\n",
            "20/20 [==============================] - 0s 4ms/step - loss: 1.3558e-05 - accuracy: 1.0000 - val_loss: 8.4761e-04 - val_accuracy: 1.0000\n",
            "Epoch 41/100\n",
            "20/20 [==============================] - 0s 3ms/step - loss: 1.2753e-05 - accuracy: 1.0000 - val_loss: 8.3539e-04 - val_accuracy: 1.0000\n",
            "INFO:tensorflow:Assets written to: trained_models/dnn/assets\n",
            "Epoch 42/100\n",
            "20/20 [==============================] - 0s 5ms/step - loss: 9.4969e-06 - accuracy: 1.0000 - val_loss: 8.4776e-04 - val_accuracy: 1.0000\n",
            "Epoch 43/100\n",
            "20/20 [==============================] - 0s 4ms/step - loss: 9.2516e-06 - accuracy: 1.0000 - val_loss: 8.4091e-04 - val_accuracy: 1.0000\n",
            "Epoch 44/100\n",
            "20/20 [==============================] - 0s 3ms/step - loss: 1.0663e-05 - accuracy: 1.0000 - val_loss: 8.4159e-04 - val_accuracy: 1.0000\n",
            "Epoch 45/100\n",
            "20/20 [==============================] - 0s 4ms/step - loss: 8.4906e-06 - accuracy: 1.0000 - val_loss: 8.2763e-04 - val_accuracy: 1.0000\n",
            "INFO:tensorflow:Assets written to: trained_models/dnn/assets\n",
            "Epoch 46/100\n",
            "20/20 [==============================] - 0s 3ms/step - loss: 8.4768e-06 - accuracy: 1.0000 - val_loss: 8.2269e-04 - val_accuracy: 1.0000\n",
            "INFO:tensorflow:Assets written to: trained_models/dnn/assets\n",
            "Epoch 47/100\n",
            "20/20 [==============================] - 0s 5ms/step - loss: 6.8941e-06 - accuracy: 1.0000 - val_loss: 8.3464e-04 - val_accuracy: 1.0000\n",
            "Epoch 48/100\n",
            "20/20 [==============================] - 0s 4ms/step - loss: 6.7574e-06 - accuracy: 1.0000 - val_loss: 8.1764e-04 - val_accuracy: 1.0000\n",
            "INFO:tensorflow:Assets written to: trained_models/dnn/assets\n",
            "Epoch 49/100\n",
            "20/20 [==============================] - 0s 7ms/step - loss: 8.0357e-06 - accuracy: 1.0000 - val_loss: 8.2483e-04 - val_accuracy: 1.0000\n",
            "Epoch 50/100\n",
            "20/20 [==============================] - 0s 4ms/step - loss: 5.9450e-06 - accuracy: 1.0000 - val_loss: 8.2528e-04 - val_accuracy: 1.0000\n",
            "Epoch 51/100\n",
            "20/20 [==============================] - 0s 5ms/step - loss: 6.2787e-06 - accuracy: 1.0000 - val_loss: 8.1718e-04 - val_accuracy: 1.0000\n",
            "INFO:tensorflow:Assets written to: trained_models/dnn/assets\n",
            "Epoch 52/100\n",
            "20/20 [==============================] - 0s 4ms/step - loss: 5.5400e-06 - accuracy: 1.0000 - val_loss: 8.2931e-04 - val_accuracy: 1.0000\n",
            "Epoch 53/100\n",
            "20/20 [==============================] - 0s 3ms/step - loss: 5.1891e-06 - accuracy: 1.0000 - val_loss: 8.2347e-04 - val_accuracy: 1.0000\n",
            "Epoch 54/100\n",
            "20/20 [==============================] - 0s 3ms/step - loss: 5.2874e-06 - accuracy: 1.0000 - val_loss: 8.2236e-04 - val_accuracy: 1.0000\n",
            "Epoch 55/100\n",
            "20/20 [==============================] - 0s 4ms/step - loss: 4.4734e-06 - accuracy: 1.0000 - val_loss: 8.1996e-04 - val_accuracy: 1.0000\n",
            "Epoch 56/100\n",
            "20/20 [==============================] - 0s 4ms/step - loss: 4.4706e-06 - accuracy: 1.0000 - val_loss: 8.1898e-04 - val_accuracy: 1.0000\n",
            "Epoch 57/100\n",
            "20/20 [==============================] - 0s 5ms/step - loss: 4.6167e-06 - accuracy: 1.0000 - val_loss: 8.1040e-04 - val_accuracy: 1.0000\n",
            "INFO:tensorflow:Assets written to: trained_models/dnn/assets\n",
            "Epoch 58/100\n",
            "20/20 [==============================] - 0s 5ms/step - loss: 4.3214e-06 - accuracy: 1.0000 - val_loss: 8.1215e-04 - val_accuracy: 1.0000\n",
            "Epoch 59/100\n",
            "20/20 [==============================] - 0s 5ms/step - loss: 4.1196e-06 - accuracy: 1.0000 - val_loss: 8.1177e-04 - val_accuracy: 1.0000\n",
            "Epoch 60/100\n",
            "20/20 [==============================] - 0s 4ms/step - loss: 4.5824e-06 - accuracy: 1.0000 - val_loss: 8.0916e-04 - val_accuracy: 1.0000\n",
            "INFO:tensorflow:Assets written to: trained_models/dnn/assets\n",
            "Epoch 61/100\n",
            "20/20 [==============================] - 0s 4ms/step - loss: 4.0767e-06 - accuracy: 1.0000 - val_loss: 8.0946e-04 - val_accuracy: 1.0000\n",
            "Epoch 62/100\n",
            "20/20 [==============================] - 0s 5ms/step - loss: 3.7751e-06 - accuracy: 1.0000 - val_loss: 8.0817e-04 - val_accuracy: 1.0000\n",
            "INFO:tensorflow:Assets written to: trained_models/dnn/assets\n",
            "Epoch 63/100\n",
            "20/20 [==============================] - 0s 4ms/step - loss: 3.7621e-06 - accuracy: 1.0000 - val_loss: 8.0191e-04 - val_accuracy: 1.0000\n",
            "INFO:tensorflow:Assets written to: trained_models/dnn/assets\n",
            "Epoch 64/100\n",
            "20/20 [==============================] - 0s 3ms/step - loss: 3.4903e-06 - accuracy: 1.0000 - val_loss: 8.0511e-04 - val_accuracy: 1.0000\n",
            "Epoch 65/100\n",
            "20/20 [==============================] - 0s 3ms/step - loss: 3.9975e-06 - accuracy: 1.0000 - val_loss: 8.0646e-04 - val_accuracy: 1.0000\n",
            "Epoch 66/100\n",
            "20/20 [==============================] - 0s 4ms/step - loss: 3.3139e-06 - accuracy: 1.0000 - val_loss: 8.0496e-04 - val_accuracy: 1.0000\n",
            "Epoch 67/100\n",
            "20/20 [==============================] - 0s 4ms/step - loss: 3.1419e-06 - accuracy: 1.0000 - val_loss: 7.3992e-04 - val_accuracy: 1.0000\n",
            "INFO:tensorflow:Assets written to: trained_models/dnn/assets\n",
            "Epoch 68/100\n",
            "20/20 [==============================] - 0s 7ms/step - loss: 2.7533e-06 - accuracy: 1.0000 - val_loss: 7.6040e-04 - val_accuracy: 1.0000\n",
            "Epoch 69/100\n",
            "20/20 [==============================] - 0s 4ms/step - loss: 2.9432e-06 - accuracy: 1.0000 - val_loss: 7.7139e-04 - val_accuracy: 1.0000\n",
            "Epoch 70/100\n",
            "20/20 [==============================] - 0s 5ms/step - loss: 3.6436e-06 - accuracy: 1.0000 - val_loss: 7.9842e-04 - val_accuracy: 1.0000\n",
            "Epoch 71/100\n",
            "20/20 [==============================] - 0s 4ms/step - loss: 3.0574e-06 - accuracy: 1.0000 - val_loss: 7.8920e-04 - val_accuracy: 1.0000\n",
            "Epoch 72/100\n",
            "20/20 [==============================] - 0s 4ms/step - loss: 2.5530e-06 - accuracy: 1.0000 - val_loss: 7.7384e-04 - val_accuracy: 1.0000\n",
            "Epoch 73/100\n",
            "20/20 [==============================] - 0s 4ms/step - loss: 2.6136e-06 - accuracy: 1.0000 - val_loss: 7.7372e-04 - val_accuracy: 1.0000\n",
            "Epoch 74/100\n",
            "20/20 [==============================] - 0s 5ms/step - loss: 3.1167e-06 - accuracy: 1.0000 - val_loss: 7.6135e-04 - val_accuracy: 1.0000\n",
            "Epoch 75/100\n",
            "20/20 [==============================] - 0s 5ms/step - loss: 3.3336e-06 - accuracy: 1.0000 - val_loss: 7.5339e-04 - val_accuracy: 1.0000\n",
            "Epoch 76/100\n",
            "20/20 [==============================] - 0s 5ms/step - loss: 2.5619e-06 - accuracy: 1.0000 - val_loss: 7.4446e-04 - val_accuracy: 1.0000\n",
            "Epoch 77/100\n",
            "20/20 [==============================] - 0s 4ms/step - loss: 2.1778e-06 - accuracy: 1.0000 - val_loss: 7.5363e-04 - val_accuracy: 1.0000\n",
            "Epoch 78/100\n",
            "20/20 [==============================] - 0s 5ms/step - loss: 1.8154e-06 - accuracy: 1.0000 - val_loss: 7.3349e-04 - val_accuracy: 1.0000\n",
            "INFO:tensorflow:Assets written to: trained_models/dnn/assets\n",
            "Epoch 79/100\n",
            "20/20 [==============================] - 0s 5ms/step - loss: 1.7484e-06 - accuracy: 1.0000 - val_loss: 7.2020e-04 - val_accuracy: 1.0000\n",
            "INFO:tensorflow:Assets written to: trained_models/dnn/assets\n",
            "Epoch 80/100\n",
            "20/20 [==============================] - 0s 6ms/step - loss: 2.0481e-06 - accuracy: 1.0000 - val_loss: 7.0546e-04 - val_accuracy: 1.0000\n",
            "INFO:tensorflow:Assets written to: trained_models/dnn/assets\n",
            "Epoch 81/100\n",
            "20/20 [==============================] - 0s 4ms/step - loss: 1.5202e-06 - accuracy: 1.0000 - val_loss: 6.9548e-04 - val_accuracy: 1.0000\n",
            "INFO:tensorflow:Assets written to: trained_models/dnn/assets\n",
            "Epoch 82/100\n",
            "20/20 [==============================] - 0s 4ms/step - loss: 1.4982e-06 - accuracy: 1.0000 - val_loss: 6.9185e-04 - val_accuracy: 1.0000\n",
            "INFO:tensorflow:Assets written to: trained_models/dnn/assets\n",
            "Epoch 83/100\n",
            "20/20 [==============================] - 0s 4ms/step - loss: 1.3279e-06 - accuracy: 1.0000 - val_loss: 6.7085e-04 - val_accuracy: 1.0000\n",
            "INFO:tensorflow:Assets written to: trained_models/dnn/assets\n",
            "Epoch 84/100\n",
            "20/20 [==============================] - 0s 4ms/step - loss: 1.7384e-06 - accuracy: 1.0000 - val_loss: 6.7675e-04 - val_accuracy: 1.0000\n",
            "Epoch 85/100\n",
            "20/20 [==============================] - 0s 6ms/step - loss: 1.1503e-06 - accuracy: 1.0000 - val_loss: 6.6138e-04 - val_accuracy: 1.0000\n",
            "INFO:tensorflow:Assets written to: trained_models/dnn/assets\n",
            "Epoch 86/100\n",
            "20/20 [==============================] - 0s 3ms/step - loss: 1.6076e-06 - accuracy: 1.0000 - val_loss: 6.5443e-04 - val_accuracy: 1.0000\n",
            "INFO:tensorflow:Assets written to: trained_models/dnn/assets\n",
            "Epoch 87/100\n",
            "20/20 [==============================] - 0s 4ms/step - loss: 1.0775e-06 - accuracy: 1.0000 - val_loss: 6.4296e-04 - val_accuracy: 1.0000\n",
            "INFO:tensorflow:Assets written to: trained_models/dnn/assets\n",
            "Epoch 88/100\n",
            "20/20 [==============================] - 0s 5ms/step - loss: 1.2972e-06 - accuracy: 1.0000 - val_loss: 6.2392e-04 - val_accuracy: 1.0000\n",
            "INFO:tensorflow:Assets written to: trained_models/dnn/assets\n",
            "Epoch 89/100\n",
            "20/20 [==============================] - 0s 5ms/step - loss: 8.7649e-07 - accuracy: 1.0000 - val_loss: 6.2586e-04 - val_accuracy: 1.0000\n",
            "Epoch 90/100\n",
            "20/20 [==============================] - 0s 4ms/step - loss: 9.3966e-07 - accuracy: 1.0000 - val_loss: 6.4061e-04 - val_accuracy: 1.0000\n",
            "Epoch 91/100\n",
            "20/20 [==============================] - 0s 6ms/step - loss: 7.6908e-07 - accuracy: 1.0000 - val_loss: 6.3771e-04 - val_accuracy: 1.0000\n",
            "Epoch 92/100\n",
            "20/20 [==============================] - 0s 4ms/step - loss: 8.1256e-07 - accuracy: 1.0000 - val_loss: 6.3444e-04 - val_accuracy: 1.0000\n",
            "Epoch 93/100\n",
            "20/20 [==============================] - 0s 4ms/step - loss: 8.4952e-07 - accuracy: 1.0000 - val_loss: 6.1191e-04 - val_accuracy: 1.0000\n",
            "INFO:tensorflow:Assets written to: trained_models/dnn/assets\n",
            "Epoch 94/100\n",
            "20/20 [==============================] - 0s 4ms/step - loss: 5.8447e-07 - accuracy: 1.0000 - val_loss: 6.0202e-04 - val_accuracy: 1.0000\n",
            "INFO:tensorflow:Assets written to: trained_models/dnn/assets\n",
            "Epoch 95/100\n",
            "20/20 [==============================] - 0s 7ms/step - loss: 6.3472e-07 - accuracy: 1.0000 - val_loss: 5.9776e-04 - val_accuracy: 1.0000\n",
            "INFO:tensorflow:Assets written to: trained_models/dnn/assets\n",
            "Epoch 96/100\n",
            "20/20 [==============================] - 0s 5ms/step - loss: 5.5945e-07 - accuracy: 1.0000 - val_loss: 6.0378e-04 - val_accuracy: 1.0000\n",
            "Epoch 97/100\n",
            "20/20 [==============================] - 0s 5ms/step - loss: 7.2170e-07 - accuracy: 1.0000 - val_loss: 5.8552e-04 - val_accuracy: 1.0000\n",
            "INFO:tensorflow:Assets written to: trained_models/dnn/assets\n",
            "Epoch 98/100\n",
            "20/20 [==============================] - 0s 4ms/step - loss: 6.8056e-07 - accuracy: 1.0000 - val_loss: 5.8512e-04 - val_accuracy: 1.0000\n",
            "INFO:tensorflow:Assets written to: trained_models/dnn/assets\n",
            "Epoch 99/100\n",
            "20/20 [==============================] - 0s 6ms/step - loss: 5.7448e-07 - accuracy: 1.0000 - val_loss: 5.7450e-04 - val_accuracy: 1.0000\n",
            "INFO:tensorflow:Assets written to: trained_models/dnn/assets\n",
            "Epoch 100/100\n",
            "20/20 [==============================] - 0s 4ms/step - loss: 6.2767e-07 - accuracy: 1.0000 - val_loss: 5.6231e-04 - val_accuracy: 1.0000\n",
            "INFO:tensorflow:Assets written to: trained_models/dnn/assets\n",
            "Complete. \n",
            "Model trained in 85.54 sec\n"
          ]
        }
      ],
      "source": [
        "#Fit\n",
        "start = time()\n",
        "history = model.fit(\n",
        "    x_train,\n",
        "    y_train,\n",
        "    validation_data=(x_val, y_val),\n",
        "    callbacks=callbacks,\n",
        "    epochs=100,\n",
        "    batch_size=100,\n",
        "    verbose=1\n",
        ")\n",
        "\n",
        "print(f'Complete. \\nModel trained in {round(time()-start, 2)} sec')"
      ]
    },
    {
      "cell_type": "code",
      "execution_count": 8,
      "metadata": {
        "colab": {
          "base_uri": "https://localhost:8080/",
          "height": 783
        },
        "id": "_cawDC-iNxFi",
        "outputId": "c353fd4c-f15c-4866-afca-ce15d624fab8"
      },
      "outputs": [
        {
          "name": "stdout",
          "output_type": "stream",
          "text": [
            "\n",
            "Training accuracy: 100.0%\n",
            "Training loss: 0.0\n",
            "\n",
            "Validation accuracy: 100.0%\n",
            "Validation loss: 0.0006\n"
          ]
        },
        {
          "data": {
            "image/png": "[encoded data removed]",
            "text/plain": [
              "<Figure size 720x360 with 1 Axes>"
            ]
          },
          "metadata": {
            "needs_background": "light"
          },
          "output_type": "display_data"
        },
        {
          "data": {
            "image/png": "[encoded data removed]",
            "text/plain": [
              "<Figure size 720x360 with 1 Axes>"
            ]
          },
          "metadata": {
            "needs_background": "light"
          },
          "output_type": "display_data"
        }
      ],
      "source": [
        "title_loss = 'DNN - Training & Validation Loss'\n",
        "title_acc = 'DNN - Training & Validation Accuracy'\n",
        "path_loss = 'img/models/dnn_loss'\n",
        "path_acc = 'img/models/dnn_acc'\n",
        "\n",
        "plot_train_val(history, title_acc=title_acc, title_loss=title_loss, path_acc=path_acc, path_loss=path_loss)"
      ]
    },
    {
      "cell_type": "markdown",
      "metadata": {
        "id": "zHul7a4JAyIe"
      },
      "source": [
        "## Evaluation Metrics\n",
        "---"
      ]
    },
    {
      "cell_type": "code",
      "execution_count": 9,
      "metadata": {
        "colab": {
          "base_uri": "https://localhost:8080/"
        },
        "id": "6cdujOYVAyIf",
        "outputId": "d6e735ea-d5af-47ff-da3c-0ed3e76f24fe"
      },
      "outputs": [
        {
          "name": "stdout",
          "output_type": "stream",
          "text": [
            "Accuracy:  1.0\n",
            "Precision:  1.0\n",
            "Recall:  1.0\n",
            "F1-score:  1.0\n",
            "AUC:  1.0\n"
          ]
        }
      ],
      "source": [
        "y_pred = np.argmax(model.predict(x_test), axis=-1) \n",
        "y_true = np.argmax(y_test, axis=-1) \n",
        "\n",
        "acc = accuracy_score(y_true, y_pred)\n",
        "recall = recall_score(y_true, y_pred, average='weighted')\n",
        "precision  = precision_score(y_true, y_pred, average='weighted')\n",
        "f1  = f1_score(y_true, y_pred, average='weighted')\n",
        "auc  = roc_auc_score(y_true, y_pred, average='weighted', multi_class='ovr')\n",
        "\n",
        "print('Accuracy: ', acc)\n",
        "print('Precision: ', recall)\n",
        "print('Recall: ', precision)\n",
        "print('F1-score: ', f1)\n",
        "print('AUC: ', auc)"
      ]
    },
    {
      "cell_type": "markdown",
      "metadata": {},
      "source": [
        "## Confusion Matrix\n",
        "\n",
        "---"
      ]
    },
    {
      "cell_type": "code",
      "execution_count": 10,
      "metadata": {},
      "outputs": [],
      "source": [
        "font = {'size': 16}\n",
        "labels = ['Normal', 'DoS']"
      ]
    },
    {
      "cell_type": "code",
      "execution_count": 11,
      "metadata": {},
      "outputs": [
        {
          "data": {
            "image/png": "[encoded data removed]",
            "text/plain": [
              "<Figure size 504x432 with 2 Axes>"
            ]
          },
          "metadata": {
            "needs_background": "light"
          },
          "output_type": "display_data"
        }
      ],
      "source": [
        "confusion = confusion_matrix(y_true, y_pred)\n",
        "plt.figure(figsize=(7,6))\n",
        "sns.heatmap(confusion, annot=True, linewidths=0.8, xticklabels=labels, yticklabels=labels, fmt='d', cmap='Blues')\n",
        "plt.title(f'DNN - Confusion Matrix', fontsize=20) \n",
        "plt.xlabel('Predicted', fontdict=font)\n",
        "plt.ylabel('True', fontdict=font)\n",
        "\n",
        "plt.savefig('img/models/dnn_cm', bbox_inches=\"tight\") "
      ]
    },
    {
      "cell_type": "code",
      "execution_count": null,
      "metadata": {},
      "outputs": [],
      "source": []
    }
  ],
  "metadata": {
    "colab": {
      "collapsed_sections": [],
      "name": "dnn.ipynb",
      "provenance": []
    },
    "interpreter": {
      "hash": "15d99b9aa0dbf3a358312963825951c4e42cc1dea07b49971ebf26684bae64aa"
    },
    "kernelspec": {
      "display_name": "Python 3.8.3 64-bit ('base': conda)",
      "name": "python3"
    },
    "language_info": {
      "codemirror_mode": {
        "name": "ipython",
        "version": 3
      },
      "file_extension": ".py",
      "mimetype": "text/x-python",
      "name": "python",
      "nbconvert_exporter": "python",
      "pygments_lexer": "ipython3",
      "version": "3.8.3"
    },
    "orig_nbformat": 4
  },
  "nbformat": 4,
  "nbformat_minor": 0
}
