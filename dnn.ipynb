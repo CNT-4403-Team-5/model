{
  "cells": [
    {
      "cell_type": "code",
      "execution_count": 13,
      "metadata": {
        "colab": {
          "base_uri": "https://localhost:8080/"
        },
        "id": "Bn8_qUnSAyIU",
        "outputId": "d5ba7597-25c2-4359-e331-6b4f8222c0ae"
      },
      "outputs": [],
      "source": [
        "from keras.models import Sequential\n",
        "from keras.layers import Dense\n",
        "from keras.optimizers import Adam\n",
        "from keras.utils import to_categorical\n",
        "from sklearn.model_selection import train_test_split\n",
        "from sklearn.preprocessing import MinMaxScaler\n",
        "from keras.backend import clear_session\n",
        "from keras.utils import to_categorical\n",
        "from sklearn.metrics import *\n",
        "from time import time\n",
        "import numpy as np\n",
        "import matplotlib.pyplot as plt\n",
        "import seaborn as sns\n",
        "import pandas as pd\n",
        "from keras.callbacks import ModelCheckpoint"
      ]
    },
    {
      "cell_type": "markdown",
      "metadata": {
        "id": "9JRJInF6Me16"
      },
      "source": [
        "## Functions\n",
        "\n",
        "---\n"
      ]
    },
    {
      "cell_type": "code",
      "execution_count": 14,
      "metadata": {
        "id": "BqN8XgSjMiI8"
      },
      "outputs": [],
      "source": [
        "#Removes column of class labels from dataframe and saves into new array\n",
        "def features_labels_split(data, label_column):\n",
        "    features = data.copy()\n",
        "    columns_titles = list(data.columns)\n",
        "    features = features.reindex(columns=columns_titles)\n",
        "    labels = features.pop(label_column)\n",
        "    features = np.array(features)\n",
        "    labels = np.array(labels)\n",
        "    return features, labels\n",
        "\n",
        "\n",
        "#Plots training/validation accuracy and loss. Can optionally print the numerical values.\n",
        "def plot_train_val(model_history, title_acc, title_loss, path_acc, path_loss, metrics=True):\n",
        "    train_acc = np.array(model_history.history[\"accuracy\"])\n",
        "    train_loss = np.array(model_history.history[\"loss\"])\n",
        "\n",
        "    val_loss = np.array(model_history.history[\"val_loss\"])\n",
        "    val_acc = np.array(model_history.history[\"val_accuracy\"])\n",
        "\n",
        "    epochs = np.arange(train_loss.shape[0])\n",
        "    plt.figure(figsize=(10,5)) \n",
        "    plt.subplot(1,2,1)\n",
        "    plt.plot(epochs, train_loss, label = \"Training\")\n",
        "    plt.plot(epochs, val_loss, label = \"Validation\")\n",
        "    plt.xlabel(\"Epochs\")\n",
        "    plt.ylabel(\"Loss\")\n",
        "    plt.title(title_acc)\n",
        "    plt.legend()\n",
        "    plt.savefig(path_acc, bbox_inches=\"tight\") \n",
        "\n",
        "    plt.figure(figsize=(10,5)) \n",
        "    plt.subplot(1,2,2)\n",
        "    plt.plot(epochs, train_acc, label = \"Training\")\n",
        "    plt.plot(epochs, val_acc, label = \"Validation\")\n",
        "    plt.xlabel(\"Epochs\")\n",
        "    plt.ylabel(\"Accuracy\")\n",
        "    plt.title(title_loss)\n",
        "    plt.legend()\n",
        "    plt.savefig(path_loss, bbox_inches=\"tight\") \n",
        "\n",
        "    train_score = [train_acc[-1], train_loss[-1]]\n",
        "    val_score = [val_acc[-1], val_loss[-1]]\n",
        "\n",
        "    if metrics == True:\n",
        "        print(f\"\\nTraining accuracy: {round(train_score[0], 5) * 100}%\")\n",
        "        print(f\"Training loss: {round(train_score[1], 4)}\")\n",
        "        print(f\"\\nValidation accuracy: {round(val_score[0], 5) * 100}%\")\n",
        "        print(f\"Validation loss: {round(val_score[1], 4)}\")"
      ]
    },
    {
      "cell_type": "markdown",
      "metadata": {
        "id": "O6PJmvWjAyIa"
      },
      "source": [
        "## Load Data\n",
        "\n",
        "---"
      ]
    },
    {
      "cell_type": "code",
      "execution_count": 15,
      "metadata": {
        "colab": {
          "base_uri": "https://localhost:8080/"
        },
        "id": "H7SfPARFMxzJ",
        "outputId": "1f44b026-0ec8-455e-e558-3688d12f5309"
      },
      "outputs": [
        {
          "name": "stdout",
          "output_type": "stream",
          "text": [
            "x_train shape:  (1922, 165)\n",
            "y_train shape:  (1922, 2)\n",
            "x_test shape:  (412, 165)\n",
            "y_test shape:  (412, 2)\n",
            "x_val shape:  (413, 165)\n",
            "y_val shape:  (413, 2)\n"
          ]
        }
      ],
      "source": [
        "data = np.load('data/data.npz', allow_pickle=True)\n",
        "\n",
        "x_train = data['x_train']\n",
        "y_train = data['y_train']\n",
        "x_test = data['x_test']\n",
        "y_test = data['y_test']\n",
        "x_val = data['x_val']\n",
        "y_val = data['y_val']\n",
        "\n",
        "\n",
        "print('x_train shape: ', x_train.shape)\n",
        "print('y_train shape: ', y_train.shape)\n",
        "print('x_test shape: ', x_test.shape)\n",
        "print('y_test shape: ', y_test.shape)\n",
        "print('x_val shape: ', x_val.shape)\n",
        "print('y_val shape: ', y_val.shape)"
      ]
    },
    {
      "cell_type": "markdown",
      "metadata": {
        "id": "2SVKPf-bAyIb"
      },
      "source": [
        "## DNN Model\n",
        "\n",
        "\n",
        "*'DEEP-INTRUSION DETECTION SYSTEM WITH ENHANCED UNSW-NB15 DATASET BASED ON DEEP LEARNING TECHNIQUES', A.M. ALEESA, MOHAMMED YOUNIS, AHMED A. MOHAMMED, NAN M. SAHAR*\n",
        "\n",
        "\n",
        "---"
      ]
    },
    {
      "cell_type": "code",
      "execution_count": 16,
      "metadata": {
        "colab": {
          "base_uri": "https://localhost:8080/"
        },
        "id": "mo9bftx3AyIc",
        "outputId": "108d8e3c-0371-4a77-c22a-d54c88f43e8b"
      },
      "outputs": [
        {
          "name": "stdout",
          "output_type": "stream",
          "text": [
            "Model: \"sequential_2\"\n",
            "_________________________________________________________________\n",
            "Layer (type)                 Output Shape              Param #   \n",
            "=================================================================\n",
            "dense_5 (Dense)              (None, 100)               16600     \n",
            "_________________________________________________________________\n",
            "dense_6 (Dense)              (None, 100)               10100     \n",
            "_________________________________________________________________\n",
            "dense_7 (Dense)              (None, 100)               10100     \n",
            "_________________________________________________________________\n",
            "dense_8 (Dense)              (None, 2)                 202       \n",
            "=================================================================\n",
            "Total params: 37,002\n",
            "Trainable params: 37,002\n",
            "Non-trainable params: 0\n",
            "_________________________________________________________________\n"
          ]
        }
      ],
      "source": [
        "#Define\n",
        "model = Sequential()\n",
        "\n",
        "model.add(Dense(input_dim=x_train.shape[1], units=100, activation='relu')) #input & hidden layer 1\n",
        "model.add(Dense(units=100, activation='relu')) #hidden layer 2\n",
        "model.add(Dense(units=100, activation='relu')) #hidden layer 3\n",
        "model.add(Dense(units=2, activation='softmax')) #output/prediction layer\n",
        "\n",
        "model.summary() #display model architecture information"
      ]
    },
    {
      "cell_type": "code",
      "execution_count": 17,
      "metadata": {
        "id": "TVbNrQHKAyIc"
      },
      "outputs": [],
      "source": [
        "#Compile\n",
        "model.compile(loss=\"binary_crossentropy\", #they did not specify loss function, assume binary cross entropy\n",
        "        optimizer=Adam(learning_rate=0.001), #they did not specify learning rate, placeholder value for now\n",
        "        metrics=[\"accuracy\"])"
      ]
    },
    {
      "cell_type": "code",
      "execution_count": 18,
      "metadata": {},
      "outputs": [],
      "source": [
        "#Best model callback\n",
        "model_path = 'trained_models/dnn'\n",
        "checkpoint = ModelCheckpoint(\n",
        "    filepath=model_path, \n",
        "    monitor='val_loss', #save model based on best validation loss\n",
        "    verbose=0, \n",
        "    save_best_only=True,\n",
        "    mode='min')\n",
        "callbacks = [checkpoint]"
      ]
    },
    {
      "cell_type": "code",
      "execution_count": 19,
      "metadata": {
        "colab": {
          "base_uri": "https://localhost:8080/"
        },
        "id": "GrPLP4MfAyId",
        "outputId": "e1d1209c-51cb-441b-b287-9d523687417b"
      },
      "outputs": [
        {
          "name": "stdout",
          "output_type": "stream",
          "text": [
            "Train on 1922 samples, validate on 413 samples\n",
            "Epoch 1/100\n",
            "1922/1922 [==============================] - 0s 162us/step - loss: 0.2890 - accuracy: 0.8798 - val_loss: 0.0127 - val_accuracy: 0.9976\n",
            "Epoch 2/100\n",
            "1922/1922 [==============================] - 0s 53us/step - loss: 0.0067 - accuracy: 0.9984 - val_loss: 0.0014 - val_accuracy: 1.0000\n",
            "Epoch 3/100\n",
            "1922/1922 [==============================] - 0s 53us/step - loss: 0.0012 - accuracy: 1.0000 - val_loss: 0.0011 - val_accuracy: 1.0000\n",
            "Epoch 4/100\n",
            "1922/1922 [==============================] - 0s 55us/step - loss: 6.1455e-04 - accuracy: 1.0000 - val_loss: 4.8528e-04 - val_accuracy: 1.0000\n",
            "Epoch 5/100\n",
            "1922/1922 [==============================] - 0s 58us/step - loss: 2.6841e-04 - accuracy: 1.0000 - val_loss: 3.0271e-04 - val_accuracy: 1.0000\n",
            "Epoch 6/100\n",
            "1922/1922 [==============================] - 0s 58us/step - loss: 1.7793e-04 - accuracy: 1.0000 - val_loss: 2.3856e-04 - val_accuracy: 1.0000\n",
            "Epoch 7/100\n",
            "1922/1922 [==============================] - 0s 84us/step - loss: 1.1819e-04 - accuracy: 1.0000 - val_loss: 2.2781e-04 - val_accuracy: 1.0000\n",
            "Epoch 8/100\n",
            "1922/1922 [==============================] - 0s 63us/step - loss: 8.5848e-05 - accuracy: 1.0000 - val_loss: 1.7315e-04 - val_accuracy: 1.0000\n",
            "Epoch 9/100\n",
            "1922/1922 [==============================] - 0s 55us/step - loss: 6.5717e-05 - accuracy: 1.0000 - val_loss: 1.6630e-04 - val_accuracy: 1.0000\n",
            "Epoch 10/100\n",
            "1922/1922 [==============================] - 0s 56us/step - loss: 5.0118e-05 - accuracy: 1.0000 - val_loss: 1.4265e-04 - val_accuracy: 1.0000\n",
            "Epoch 11/100\n",
            "1922/1922 [==============================] - 0s 54us/step - loss: 4.0353e-05 - accuracy: 1.0000 - val_loss: 1.3937e-04 - val_accuracy: 1.0000\n",
            "Epoch 12/100\n",
            "1922/1922 [==============================] - 0s 54us/step - loss: 3.2471e-05 - accuracy: 1.0000 - val_loss: 1.3094e-04 - val_accuracy: 1.0000\n",
            "Epoch 13/100\n",
            "1922/1922 [==============================] - 0s 56us/step - loss: 2.6849e-05 - accuracy: 1.0000 - val_loss: 1.1639e-04 - val_accuracy: 1.0000\n",
            "Epoch 14/100\n",
            "1922/1922 [==============================] - 0s 54us/step - loss: 2.2567e-05 - accuracy: 1.0000 - val_loss: 1.1079e-04 - val_accuracy: 1.0000\n",
            "Epoch 15/100\n",
            "1922/1922 [==============================] - 0s 48us/step - loss: 1.9030e-05 - accuracy: 1.0000 - val_loss: 1.0837e-04 - val_accuracy: 1.0000\n",
            "Epoch 16/100\n",
            "1922/1922 [==============================] - 0s 46us/step - loss: 1.6230e-05 - accuracy: 1.0000 - val_loss: 1.0246e-04 - val_accuracy: 1.0000\n",
            "Epoch 17/100\n",
            "1922/1922 [==============================] - 0s 47us/step - loss: 1.4100e-05 - accuracy: 1.0000 - val_loss: 1.0043e-04 - val_accuracy: 1.0000\n",
            "Epoch 18/100\n",
            "1922/1922 [==============================] - 0s 46us/step - loss: 1.2202e-05 - accuracy: 1.0000 - val_loss: 9.2076e-05 - val_accuracy: 1.0000\n",
            "Epoch 19/100\n",
            "1922/1922 [==============================] - 0s 48us/step - loss: 1.0483e-05 - accuracy: 1.0000 - val_loss: 9.0864e-05 - val_accuracy: 1.0000\n",
            "Epoch 20/100\n",
            "1922/1922 [==============================] - 0s 47us/step - loss: 8.8481e-06 - accuracy: 1.0000 - val_loss: 8.6701e-05 - val_accuracy: 1.0000\n",
            "Epoch 21/100\n",
            "1922/1922 [==============================] - 0s 47us/step - loss: 7.6696e-06 - accuracy: 1.0000 - val_loss: 8.4288e-05 - val_accuracy: 1.0000\n",
            "Epoch 22/100\n",
            "1922/1922 [==============================] - 0s 44us/step - loss: 6.6894e-06 - accuracy: 1.0000 - val_loss: 8.4487e-05 - val_accuracy: 1.0000\n",
            "Epoch 23/100\n",
            "1922/1922 [==============================] - 0s 47us/step - loss: 5.9520e-06 - accuracy: 1.0000 - val_loss: 8.1300e-05 - val_accuracy: 1.0000\n",
            "Epoch 24/100\n",
            "1922/1922 [==============================] - 0s 47us/step - loss: 5.2429e-06 - accuracy: 1.0000 - val_loss: 7.9295e-05 - val_accuracy: 1.0000\n",
            "Epoch 25/100\n",
            "1922/1922 [==============================] - 0s 45us/step - loss: 4.6706e-06 - accuracy: 1.0000 - val_loss: 8.0301e-05 - val_accuracy: 1.0000\n",
            "Epoch 26/100\n",
            "1922/1922 [==============================] - 0s 47us/step - loss: 4.1831e-06 - accuracy: 1.0000 - val_loss: 7.9522e-05 - val_accuracy: 1.0000\n",
            "Epoch 27/100\n",
            "1922/1922 [==============================] - 0s 50us/step - loss: 3.7405e-06 - accuracy: 1.0000 - val_loss: 7.9967e-05 - val_accuracy: 1.0000\n",
            "Epoch 28/100\n",
            "1922/1922 [==============================] - 0s 49us/step - loss: 3.3809e-06 - accuracy: 1.0000 - val_loss: 7.8903e-05 - val_accuracy: 1.0000\n",
            "Epoch 29/100\n",
            "1922/1922 [==============================] - 0s 49us/step - loss: 3.0617e-06 - accuracy: 1.0000 - val_loss: 7.7728e-05 - val_accuracy: 1.0000\n",
            "Epoch 30/100\n",
            "1922/1922 [==============================] - 0s 46us/step - loss: 2.7726e-06 - accuracy: 1.0000 - val_loss: 7.7012e-05 - val_accuracy: 1.0000\n",
            "Epoch 31/100\n",
            "1922/1922 [==============================] - 0s 48us/step - loss: 2.5234e-06 - accuracy: 1.0000 - val_loss: 7.6644e-05 - val_accuracy: 1.0000\n",
            "Epoch 32/100\n",
            "1922/1922 [==============================] - 0s 46us/step - loss: 2.3180e-06 - accuracy: 1.0000 - val_loss: 8.0034e-05 - val_accuracy: 1.0000\n",
            "Epoch 33/100\n",
            "1922/1922 [==============================] - 0s 47us/step - loss: 2.1107e-06 - accuracy: 1.0000 - val_loss: 7.5351e-05 - val_accuracy: 1.0000\n",
            "Epoch 34/100\n",
            "1922/1922 [==============================] - 0s 46us/step - loss: 1.9254e-06 - accuracy: 1.0000 - val_loss: 7.4190e-05 - val_accuracy: 1.0000\n",
            "Epoch 35/100\n",
            "1922/1922 [==============================] - 0s 49us/step - loss: 1.7657e-06 - accuracy: 1.0000 - val_loss: 7.5144e-05 - val_accuracy: 1.0000\n",
            "Epoch 36/100\n",
            "1922/1922 [==============================] - 0s 49us/step - loss: 1.6217e-06 - accuracy: 1.0000 - val_loss: 7.3348e-05 - val_accuracy: 1.0000\n",
            "Epoch 37/100\n",
            "1922/1922 [==============================] - 0s 45us/step - loss: 1.4925e-06 - accuracy: 1.0000 - val_loss: 7.3619e-05 - val_accuracy: 1.0000\n",
            "Epoch 38/100\n",
            "1922/1922 [==============================] - 0s 46us/step - loss: 1.3702e-06 - accuracy: 1.0000 - val_loss: 7.2353e-05 - val_accuracy: 1.0000\n",
            "Epoch 39/100\n",
            "1922/1922 [==============================] - 0s 48us/step - loss: 1.2684e-06 - accuracy: 1.0000 - val_loss: 7.1571e-05 - val_accuracy: 1.0000\n",
            "Epoch 40/100\n",
            "1922/1922 [==============================] - 0s 44us/step - loss: 1.1724e-06 - accuracy: 1.0000 - val_loss: 7.1035e-05 - val_accuracy: 1.0000\n",
            "Epoch 41/100\n",
            "1922/1922 [==============================] - 0s 47us/step - loss: 1.0863e-06 - accuracy: 1.0000 - val_loss: 7.0861e-05 - val_accuracy: 1.0000\n",
            "Epoch 42/100\n",
            "1922/1922 [==============================] - 0s 47us/step - loss: 1.0170e-06 - accuracy: 1.0000 - val_loss: 6.9018e-05 - val_accuracy: 1.0000\n",
            "Epoch 43/100\n",
            "1922/1922 [==============================] - 0s 46us/step - loss: 9.4142e-07 - accuracy: 1.0000 - val_loss: 7.0189e-05 - val_accuracy: 1.0000\n",
            "Epoch 44/100\n",
            "1922/1922 [==============================] - 0s 49us/step - loss: 8.7463e-07 - accuracy: 1.0000 - val_loss: 7.1129e-05 - val_accuracy: 1.0000\n",
            "Epoch 45/100\n",
            "1922/1922 [==============================] - 0s 47us/step - loss: 8.1568e-07 - accuracy: 1.0000 - val_loss: 6.9184e-05 - val_accuracy: 1.0000\n",
            "Epoch 46/100\n",
            "1922/1922 [==============================] - 0s 48us/step - loss: 7.6207e-07 - accuracy: 1.0000 - val_loss: 6.9215e-05 - val_accuracy: 1.0000\n",
            "Epoch 47/100\n",
            "1922/1922 [==============================] - 0s 48us/step - loss: 7.1243e-07 - accuracy: 1.0000 - val_loss: 6.7932e-05 - val_accuracy: 1.0000\n",
            "Epoch 48/100\n",
            "1922/1922 [==============================] - 0s 47us/step - loss: 6.6793e-07 - accuracy: 1.0000 - val_loss: 6.7738e-05 - val_accuracy: 1.0000\n",
            "Epoch 49/100\n",
            "1922/1922 [==============================] - 0s 63us/step - loss: 6.2417e-07 - accuracy: 1.0000 - val_loss: 6.7739e-05 - val_accuracy: 1.0000\n",
            "Epoch 50/100\n",
            "1922/1922 [==============================] - 0s 53us/step - loss: 5.8627e-07 - accuracy: 1.0000 - val_loss: 6.7093e-05 - val_accuracy: 1.0000\n",
            "Epoch 51/100\n",
            "1922/1922 [==============================] - 0s 47us/step - loss: 5.5009e-07 - accuracy: 1.0000 - val_loss: 6.7131e-05 - val_accuracy: 1.0000\n",
            "Epoch 52/100\n",
            "1922/1922 [==============================] - 0s 49us/step - loss: 5.1515e-07 - accuracy: 1.0000 - val_loss: 6.7196e-05 - val_accuracy: 1.0000\n",
            "Epoch 53/100\n",
            "1922/1922 [==============================] - 0s 48us/step - loss: 4.8486e-07 - accuracy: 1.0000 - val_loss: 6.6824e-05 - val_accuracy: 1.0000\n",
            "Epoch 54/100\n",
            "1922/1922 [==============================] - 0s 46us/step - loss: 4.5590e-07 - accuracy: 1.0000 - val_loss: 6.6227e-05 - val_accuracy: 1.0000\n",
            "Epoch 55/100\n",
            "1922/1922 [==============================] - 0s 48us/step - loss: 4.3051e-07 - accuracy: 1.0000 - val_loss: 6.5383e-05 - val_accuracy: 1.0000\n",
            "Epoch 56/100\n",
            "1922/1922 [==============================] - 0s 49us/step - loss: 4.0505e-07 - accuracy: 1.0000 - val_loss: 6.5527e-05 - val_accuracy: 1.0000\n",
            "Epoch 57/100\n",
            "1922/1922 [==============================] - 0s 49us/step - loss: 3.8000e-07 - accuracy: 1.0000 - val_loss: 6.6206e-05 - val_accuracy: 1.0000\n",
            "Epoch 58/100\n",
            "1922/1922 [==============================] - 0s 50us/step - loss: 3.6054e-07 - accuracy: 1.0000 - val_loss: 6.5562e-05 - val_accuracy: 1.0000\n",
            "Epoch 59/100\n",
            "1922/1922 [==============================] - 0s 48us/step - loss: 3.3835e-07 - accuracy: 1.0000 - val_loss: 6.6024e-05 - val_accuracy: 1.0000\n",
            "Epoch 60/100\n",
            "1922/1922 [==============================] - 0s 47us/step - loss: 3.2040e-07 - accuracy: 1.0000 - val_loss: 6.4544e-05 - val_accuracy: 1.0000\n",
            "Epoch 61/100\n",
            "1922/1922 [==============================] - 0s 48us/step - loss: 3.0256e-07 - accuracy: 1.0000 - val_loss: 6.4570e-05 - val_accuracy: 1.0000\n",
            "Epoch 62/100\n",
            "1922/1922 [==============================] - 0s 50us/step - loss: 2.8671e-07 - accuracy: 1.0000 - val_loss: 6.3679e-05 - val_accuracy: 1.0000\n",
            "Epoch 63/100\n",
            "1922/1922 [==============================] - 0s 48us/step - loss: 2.7147e-07 - accuracy: 1.0000 - val_loss: 6.3669e-05 - val_accuracy: 1.0000\n",
            "Epoch 64/100\n",
            "1922/1922 [==============================] - 0s 46us/step - loss: 2.5705e-07 - accuracy: 1.0000 - val_loss: 6.2927e-05 - val_accuracy: 1.0000\n",
            "Epoch 65/100\n",
            "1922/1922 [==============================] - 0s 48us/step - loss: 2.4466e-07 - accuracy: 1.0000 - val_loss: 6.2471e-05 - val_accuracy: 1.0000\n",
            "Epoch 66/100\n",
            "1922/1922 [==============================] - 0s 49us/step - loss: 2.3241e-07 - accuracy: 1.0000 - val_loss: 6.3414e-05 - val_accuracy: 1.0000\n",
            "Epoch 67/100\n",
            "1922/1922 [==============================] - 0s 45us/step - loss: 2.2244e-07 - accuracy: 1.0000 - val_loss: 6.1689e-05 - val_accuracy: 1.0000\n",
            "Epoch 68/100\n",
            "1922/1922 [==============================] - 0s 44us/step - loss: 2.0932e-07 - accuracy: 1.0000 - val_loss: 6.2469e-05 - val_accuracy: 1.0000\n",
            "Epoch 69/100\n",
            "1922/1922 [==============================] - 0s 47us/step - loss: 1.9957e-07 - accuracy: 1.0000 - val_loss: 6.2579e-05 - val_accuracy: 1.0000\n",
            "Epoch 70/100\n",
            "1922/1922 [==============================] - 0s 52us/step - loss: 1.9023e-07 - accuracy: 1.0000 - val_loss: 6.1670e-05 - val_accuracy: 1.0000\n",
            "Epoch 71/100\n",
            "1922/1922 [==============================] - 0s 36us/step - loss: 1.8079e-07 - accuracy: 1.0000 - val_loss: 6.1601e-05 - val_accuracy: 1.0000\n",
            "Epoch 72/100\n",
            "1922/1922 [==============================] - 0s 53us/step - loss: 1.7327e-07 - accuracy: 1.0000 - val_loss: 6.1444e-05 - val_accuracy: 1.0000\n",
            "Epoch 73/100\n",
            "1922/1922 [==============================] - 0s 51us/step - loss: 1.6401e-07 - accuracy: 1.0000 - val_loss: 6.1106e-05 - val_accuracy: 1.0000\n",
            "Epoch 74/100\n",
            "1922/1922 [==============================] - 0s 47us/step - loss: 1.5641e-07 - accuracy: 1.0000 - val_loss: 6.0828e-05 - val_accuracy: 1.0000\n",
            "Epoch 75/100\n",
            "1922/1922 [==============================] - 0s 49us/step - loss: 1.4936e-07 - accuracy: 1.0000 - val_loss: 6.1088e-05 - val_accuracy: 1.0000\n",
            "Epoch 76/100\n",
            "1922/1922 [==============================] - 0s 41us/step - loss: 1.4322e-07 - accuracy: 1.0000 - val_loss: 6.0591e-05 - val_accuracy: 1.0000\n",
            "Epoch 77/100\n",
            "1922/1922 [==============================] - 0s 45us/step - loss: 1.3712e-07 - accuracy: 1.0000 - val_loss: 5.9943e-05 - val_accuracy: 1.0000\n",
            "Epoch 78/100\n",
            "1922/1922 [==============================] - 0s 45us/step - loss: 1.3103e-07 - accuracy: 1.0000 - val_loss: 5.9992e-05 - val_accuracy: 1.0000\n",
            "Epoch 79/100\n",
            "1922/1922 [==============================] - 0s 45us/step - loss: 1.2509e-07 - accuracy: 1.0000 - val_loss: 6.0033e-05 - val_accuracy: 1.0000\n",
            "Epoch 80/100\n",
            "1922/1922 [==============================] - 0s 50us/step - loss: 1.1954e-07 - accuracy: 1.0000 - val_loss: 6.0276e-05 - val_accuracy: 1.0000\n",
            "Epoch 81/100\n",
            "1922/1922 [==============================] - 0s 49us/step - loss: 1.1467e-07 - accuracy: 1.0000 - val_loss: 6.0029e-05 - val_accuracy: 1.0000\n",
            "Epoch 82/100\n",
            "1922/1922 [==============================] - 0s 47us/step - loss: 1.1037e-07 - accuracy: 1.0000 - val_loss: 5.9860e-05 - val_accuracy: 1.0000\n",
            "Epoch 83/100\n",
            "1922/1922 [==============================] - 0s 48us/step - loss: 1.0553e-07 - accuracy: 1.0000 - val_loss: 5.9986e-05 - val_accuracy: 1.0000\n",
            "Epoch 84/100\n",
            "1922/1922 [==============================] - 0s 49us/step - loss: 1.0146e-07 - accuracy: 1.0000 - val_loss: 5.9961e-05 - val_accuracy: 1.0000\n",
            "Epoch 85/100\n",
            "1922/1922 [==============================] - 0s 45us/step - loss: 9.6557e-08 - accuracy: 1.0000 - val_loss: 5.9197e-05 - val_accuracy: 1.0000\n",
            "Epoch 86/100\n",
            "1922/1922 [==============================] - 0s 44us/step - loss: 9.2975e-08 - accuracy: 1.0000 - val_loss: 5.8192e-05 - val_accuracy: 1.0000\n",
            "Epoch 87/100\n",
            "1922/1922 [==============================] - 0s 38us/step - loss: 8.9346e-08 - accuracy: 1.0000 - val_loss: 5.8679e-05 - val_accuracy: 1.0000\n",
            "Epoch 88/100\n",
            "1922/1922 [==============================] - 0s 49us/step - loss: 8.5206e-08 - accuracy: 1.0000 - val_loss: 5.8763e-05 - val_accuracy: 1.0000\n",
            "Epoch 89/100\n",
            "1922/1922 [==============================] - 0s 45us/step - loss: 8.2198e-08 - accuracy: 1.0000 - val_loss: 5.7858e-05 - val_accuracy: 1.0000\n",
            "Epoch 90/100\n",
            "1922/1922 [==============================] - 0s 41us/step - loss: 7.9159e-08 - accuracy: 1.0000 - val_loss: 5.8409e-05 - val_accuracy: 1.0000\n",
            "Epoch 91/100\n",
            "1922/1922 [==============================] - 0s 49us/step - loss: 7.5918e-08 - accuracy: 1.0000 - val_loss: 5.8399e-05 - val_accuracy: 1.0000\n",
            "Epoch 92/100\n",
            "1922/1922 [==============================] - 0s 41us/step - loss: 7.3220e-08 - accuracy: 1.0000 - val_loss: 5.8017e-05 - val_accuracy: 1.0000\n",
            "Epoch 93/100\n",
            "1922/1922 [==============================] - 0s 49us/step - loss: 7.0227e-08 - accuracy: 1.0000 - val_loss: 5.7972e-05 - val_accuracy: 1.0000\n",
            "Epoch 94/100\n",
            "1922/1922 [==============================] - 0s 47us/step - loss: 6.7420e-08 - accuracy: 1.0000 - val_loss: 5.7901e-05 - val_accuracy: 1.0000\n",
            "Epoch 95/100\n",
            "1922/1922 [==============================] - 0s 46us/step - loss: 6.4800e-08 - accuracy: 1.0000 - val_loss: 5.7515e-05 - val_accuracy: 1.0000\n",
            "Epoch 96/100\n",
            "1922/1922 [==============================] - 0s 47us/step - loss: 6.2427e-08 - accuracy: 1.0000 - val_loss: 5.7403e-05 - val_accuracy: 1.0000\n",
            "Epoch 97/100\n",
            "1922/1922 [==============================] - 0s 46us/step - loss: 6.0288e-08 - accuracy: 1.0000 - val_loss: 5.7539e-05 - val_accuracy: 1.0000\n",
            "Epoch 98/100\n",
            "1922/1922 [==============================] - 0s 35us/step - loss: 5.8070e-08 - accuracy: 1.0000 - val_loss: 5.7200e-05 - val_accuracy: 1.0000\n",
            "Epoch 99/100\n",
            "1922/1922 [==============================] - 0s 41us/step - loss: 5.5775e-08 - accuracy: 1.0000 - val_loss: 5.7521e-05 - val_accuracy: 1.0000\n",
            "Epoch 100/100\n",
            "1922/1922 [==============================] - 0s 48us/step - loss: 5.3837e-08 - accuracy: 1.0000 - val_loss: 5.7396e-05 - val_accuracy: 1.0000\n",
            "Complete. \n",
            "Model trained in 12.52 sec\n"
          ]
        }
      ],
      "source": [
        "#Fit\n",
        "start = time()\n",
        "history = model.fit(\n",
        "    x_train,\n",
        "    y_train,\n",
        "    validation_data=(x_val, y_val),\n",
        "    callbacks=callbacks,\n",
        "    epochs=100,\n",
        "    #batch_size=100,\n",
        "    verbose=1\n",
        ")\n",
        "\n",
        "print(f'Complete. \\nModel trained in {round(time()-start, 2)} sec')"
      ]
    },
    {
      "cell_type": "code",
      "execution_count": 20,
      "metadata": {
        "colab": {
          "base_uri": "https://localhost:8080/",
          "height": 783
        },
        "id": "_cawDC-iNxFi",
        "outputId": "c353fd4c-f15c-4866-afca-ce15d624fab8"
      },
      "outputs": [
        {
          "name": "stdout",
          "output_type": "stream",
          "text": [
            "\n",
            "Training accuracy: 100.0%\n",
            "Training loss: 0.0\n",
            "\n",
            "Validation accuracy: 100.0%\n",
            "Validation loss: 0.0001\n"
          ]
        },
        {
          "data": {
            "image/png": "[encoded data removed]",
            "text/plain": [
              "<Figure size 720x360 with 1 Axes>"
            ]
          },
          "metadata": {
            "needs_background": "light"
          },
          "output_type": "display_data"
        },
        {
          "data": {
            "image/png": "[encoded data removed]",
            "text/plain": [
              "<Figure size 720x360 with 1 Axes>"
            ]
          },
          "metadata": {
            "needs_background": "light"
          },
          "output_type": "display_data"
        }
      ],
      "source": [
        "title_loss = 'DNN - Training & Validation Loss'\n",
        "title_acc = 'DNN - Training & Validation Accuracy'\n",
        "path_loss = 'img/models/dnn_loss'\n",
        "path_acc = 'img/models/dnn_acc'\n",
        "\n",
        "plot_train_val(history, title_acc=title_acc, title_loss=title_loss, path_acc=path_acc, path_loss=path_loss)"
      ]
    },
    {
      "cell_type": "markdown",
      "metadata": {
        "id": "zHul7a4JAyIe"
      },
      "source": [
        "## Evaluation Metrics\n",
        "---"
      ]
    },
    {
      "cell_type": "code",
      "execution_count": 21,
      "metadata": {
        "colab": {
          "base_uri": "https://localhost:8080/"
        },
        "id": "6cdujOYVAyIf",
        "outputId": "d6e735ea-d5af-47ff-da3c-0ed3e76f24fe"
      },
      "outputs": [
        {
          "name": "stdout",
          "output_type": "stream",
          "text": [
            "Accuracy:  1.0\n",
            "Precision:  1.0\n",
            "Recall:  1.0\n",
            "F1-score:  1.0\n",
            "AUC:  1.0\n"
          ]
        }
      ],
      "source": [
        "y_pred = np.argmax(model.predict(x_test), axis=-1) \n",
        "y_true = np.argmax(y_test, axis=-1) \n",
        "\n",
        "acc = accuracy_score(y_true, y_pred)\n",
        "recall = recall_score(y_true, y_pred, average='weighted')\n",
        "precision  = precision_score(y_true, y_pred, average='weighted')\n",
        "f1  = f1_score(y_true, y_pred, average='weighted')\n",
        "auc  = roc_auc_score(y_true, y_pred, average='weighted', multi_class='ovr')\n",
        "\n",
        "print('Accuracy: ', acc)\n",
        "print('Precision: ', recall)\n",
        "print('Recall: ', precision)\n",
        "print('F1-score: ', f1)\n",
        "print('AUC: ', auc)"
      ]
    },
    {
      "cell_type": "markdown",
      "metadata": {},
      "source": [
        "## Confusion Matrix\n",
        "\n",
        "---"
      ]
    },
    {
      "cell_type": "code",
      "execution_count": 22,
      "metadata": {},
      "outputs": [],
      "source": [
        "font = {'size': 16}\n",
        "labels = ['Normal', 'DoS']"
      ]
    },
    {
      "cell_type": "code",
      "execution_count": 23,
      "metadata": {},
      "outputs": [
        {
          "data": {
            "image/png": "[encoded data removed]",
            "text/plain": [
              "<Figure size 504x432 with 2 Axes>"
            ]
          },
          "metadata": {
            "needs_background": "light"
          },
          "output_type": "display_data"
        }
      ],
      "source": [
        "confusion = confusion_matrix(y_true, y_pred)\n",
        "plt.figure(figsize=(7,6))\n",
        "sns.heatmap(confusion, annot=True, linewidths=0.8, xticklabels=labels, yticklabels=labels, fmt='d', cmap='Blues')\n",
        "plt.title(f'DNN - Confusion Matrix', fontsize=20) \n",
        "plt.xlabel('Predicted', fontdict=font)\n",
        "plt.ylabel('True', fontdict=font)\n",
        "\n",
        "plt.savefig('img/models/dnn_cm', bbox_inches=\"tight\") "
      ]
    },
    {
      "cell_type": "code",
      "execution_count": null,
      "metadata": {},
      "outputs": [],
      "source": []
    }
  ],
  "metadata": {
    "colab": {
      "collapsed_sections": [],
      "name": "dnn.ipynb",
      "provenance": []
    },
    "interpreter": {
      "hash": "04635d289a519a1410467dd0afb0db42f9184808881ca68b2eb5a687a20a5a94"
    },
    "kernelspec": {
      "display_name": "Python 3.7.4 64-bit",
      "name": "python3"
    },
    "language_info": {
      "codemirror_mode": {
        "name": "ipython",
        "version": 3
      },
      "file_extension": ".py",
      "mimetype": "text/x-python",
      "name": "python",
      "nbconvert_exporter": "python",
      "pygments_lexer": "ipython3",
      "version": "3.7.4"
    },
    "orig_nbformat": 4
  },
  "nbformat": 4,
  "nbformat_minor": 0
}
