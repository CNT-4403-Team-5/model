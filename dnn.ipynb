{
  "cells": [
    {
      "cell_type": "code",
      "execution_count": 1,
      "metadata": {
        "colab": {
          "base_uri": "https://localhost:8080/"
        },
        "id": "Bn8_qUnSAyIU",
        "outputId": "d5ba7597-25c2-4359-e331-6b4f8222c0ae"
      },
      "outputs": [],
      "source": [
        "from keras.models import Sequential\n",
        "from keras.layers import Dense\n",
        "from keras.optimizers import Adam\n",
        "from sklearn.model_selection import train_test_split\n",
        "from sklearn.preprocessing import MinMaxScaler\n",
        "from keras.backend import clear_session\n",
        "from tensorflow.keras.utils import to_categorical\n",
        "from sklearn.metrics import *\n",
        "from time import time\n",
        "import numpy as np\n",
        "import matplotlib.pyplot as plt\n",
        "import seaborn as sns\n",
        "import pandas as pd\n",
        "from keras.callbacks import ModelCheckpoint"
      ]
    },
    {
      "cell_type": "markdown",
      "metadata": {
        "id": "9JRJInF6Me16"
      },
      "source": [
        "## Functions\n",
        "\n",
        "---\n"
      ]
    },
    {
      "cell_type": "code",
      "execution_count": 2,
      "metadata": {
        "id": "BqN8XgSjMiI8"
      },
      "outputs": [],
      "source": [
        "#Removes column of class labels from dataframe and saves into new array\n",
        "def features_labels_split(data, label_column):\n",
        "    features = data.copy()\n",
        "    columns_titles = list(data.columns)\n",
        "    features = features.reindex(columns=columns_titles)\n",
        "    labels = features.pop(label_column)\n",
        "    features = np.array(features)\n",
        "    labels = np.array(labels)\n",
        "    return features, labels\n",
        "\n",
        "\n",
        "#Plots training/validation accuracy and loss. Can optionally print the numerical values.\n",
        "def plot_train_val(model_history, title_acc, title_loss, path_acc, path_loss, metrics=True):\n",
        "    train_acc = np.array(model_history.history[\"accuracy\"])\n",
        "    train_loss = np.array(model_history.history[\"loss\"])\n",
        "\n",
        "    val_loss = np.array(model_history.history[\"val_loss\"])\n",
        "    val_acc = np.array(model_history.history[\"val_accuracy\"])\n",
        "\n",
        "    epochs = np.arange(train_loss.shape[0])\n",
        "    plt.figure(figsize=(10,5)) \n",
        "    plt.subplot(1,2,1)\n",
        "    plt.plot(epochs, train_loss, label = \"Training\")\n",
        "    plt.plot(epochs, val_loss, label = \"Validation\")\n",
        "    plt.xlabel(\"Epochs\")\n",
        "    plt.ylabel(\"Loss\")\n",
        "    plt.title(title_acc)\n",
        "    plt.legend()\n",
        "    plt.savefig(path_acc, bbox_inches=\"tight\") \n",
        "\n",
        "    plt.figure(figsize=(10,5)) \n",
        "    plt.subplot(1,2,2)\n",
        "    plt.plot(epochs, train_acc, label = \"Training\")\n",
        "    plt.plot(epochs, val_acc, label = \"Validation\")\n",
        "    plt.xlabel(\"Epochs\")\n",
        "    plt.ylabel(\"Accuracy\")\n",
        "    plt.title(title_loss)\n",
        "    plt.legend()\n",
        "    plt.savefig(path_loss, bbox_inches=\"tight\") \n",
        "\n",
        "    train_score = [train_acc[-1], train_loss[-1]]\n",
        "    val_score = [val_acc[-1], val_loss[-1]]\n",
        "\n",
        "    if metrics == True:\n",
        "        print(f\"\\nTraining accuracy: {round(train_score[0], 5) * 100}%\")\n",
        "        print(f\"Training loss: {round(train_score[1], 4)}\")\n",
        "        print(f\"\\nValidation accuracy: {round(val_score[0], 5) * 100}%\")\n",
        "        print(f\"Validation loss: {round(val_score[1], 4)}\")"
      ]
    },
    {
      "cell_type": "markdown",
      "metadata": {
        "id": "O6PJmvWjAyIa"
      },
      "source": [
        "## Load Data\n",
        "\n",
        "---"
      ]
    },
    {
      "cell_type": "code",
      "execution_count": 3,
      "metadata": {
        "colab": {
          "base_uri": "https://localhost:8080/"
        },
        "id": "H7SfPARFMxzJ",
        "outputId": "1f44b026-0ec8-455e-e558-3688d12f5309"
      },
      "outputs": [
        {
          "name": "stdout",
          "output_type": "stream",
          "text": [
            "x_train shape:  (1922, 165)\n",
            "y_train shape:  (1922, 2)\n",
            "x_test shape:  (412, 165)\n",
            "y_test shape:  (412, 2)\n",
            "x_val shape:  (413, 165)\n",
            "y_val shape:  (413, 2)\n"
          ]
        }
      ],
      "source": [
        "data = np.load('data/data.npz', allow_pickle=True)\n",
        "\n",
        "x_train = data['x_train']\n",
        "y_train = data['y_train']\n",
        "x_test = data['x_test']\n",
        "y_test = data['y_test']\n",
        "x_val = data['x_val']\n",
        "y_val = data['y_val']\n",
        "\n",
        "\n",
        "print('x_train shape: ', x_train.shape)\n",
        "print('y_train shape: ', y_train.shape)\n",
        "print('x_test shape: ', x_test.shape)\n",
        "print('y_test shape: ', y_test.shape)\n",
        "print('x_val shape: ', x_val.shape)\n",
        "print('y_val shape: ', y_val.shape)"
      ]
    },
    {
      "cell_type": "markdown",
      "metadata": {
        "id": "2SVKPf-bAyIb"
      },
      "source": [
        "## DNN Model\n",
        "\n",
        "\n",
        "*'DEEP-INTRUSION DETECTION SYSTEM WITH ENHANCED UNSW-NB15 DATASET BASED ON DEEP LEARNING TECHNIQUES', A.M. ALEESA, MOHAMMED YOUNIS, AHMED A. MOHAMMED, NAN M. SAHAR*\n",
        "\n",
        "\n",
        "---"
      ]
    },
    {
      "cell_type": "markdown",
      "metadata": {},
      "source": [
        "<img src='img/models/dnn.png'>"
      ]
    },
    {
      "cell_type": "code",
      "execution_count": 4,
      "metadata": {
        "colab": {
          "base_uri": "https://localhost:8080/"
        },
        "id": "mo9bftx3AyIc",
        "outputId": "108d8e3c-0371-4a77-c22a-d54c88f43e8b"
      },
      "outputs": [
        {
          "name": "stdout",
          "output_type": "stream",
          "text": [
            "Model: \"sequential\"\n",
            "_________________________________________________________________\n",
            "Layer (type)                 Output Shape              Param #   \n",
            "=================================================================\n",
            "dense (Dense)                (None, 100)               16600     \n",
            "_________________________________________________________________\n",
            "dense_1 (Dense)              (None, 100)               10100     \n",
            "_________________________________________________________________\n",
            "dense_2 (Dense)              (None, 100)               10100     \n",
            "_________________________________________________________________\n",
            "dense_3 (Dense)              (None, 2)                 202       \n",
            "=================================================================\n",
            "Total params: 37,002\n",
            "Trainable params: 37,002\n",
            "Non-trainable params: 0\n",
            "_________________________________________________________________\n"
          ]
        }
      ],
      "source": [
        "#Define\n",
        "model = Sequential()\n",
        "\n",
        "model.add(Dense(input_dim=x_train.shape[1], units=100, activation='relu')) #input & hidden layer 1\n",
        "model.add(Dense(units=100, activation='relu')) #hidden layer 2\n",
        "model.add(Dense(units=100, activation='relu')) #hidden layer 3\n",
        "model.add(Dense(units=2, activation='softmax')) #output/prediction layer\n",
        "\n",
        "model.summary() #display model architecture information"
      ]
    },
    {
      "cell_type": "code",
      "execution_count": 5,
      "metadata": {
        "id": "TVbNrQHKAyIc"
      },
      "outputs": [],
      "source": [
        "#Compile\n",
        "model.compile(loss=\"binary_crossentropy\", #they did not specify loss function, assume binary cross entropy\n",
        "        optimizer=Adam(learning_rate=0.001), #they did not specify learning rate, placeholder value for now\n",
        "        metrics=[\"accuracy\"])"
      ]
    },
    {
      "cell_type": "code",
      "execution_count": 6,
      "metadata": {},
      "outputs": [],
      "source": [
        "#Best model callback\n",
        "model_path = 'trained_models/dnn'\n",
        "checkpoint = ModelCheckpoint(\n",
        "    filepath=model_path, \n",
        "    monitor='val_loss', #save model based on best validation loss\n",
        "    verbose=0, \n",
        "    save_best_only=True,\n",
        "    mode='min')\n",
        "callbacks = [checkpoint]"
      ]
    },
    {
      "cell_type": "code",
      "execution_count": 7,
      "metadata": {
        "colab": {
          "base_uri": "https://localhost:8080/"
        },
        "id": "GrPLP4MfAyId",
        "outputId": "e1d1209c-51cb-441b-b287-9d523687417b"
      },
      "outputs": [
        {
          "name": "stdout",
          "output_type": "stream",
          "text": [
            "Epoch 1/100\n",
            "20/20 [==============================] - 9s 20ms/step - loss: 0.6427 - accuracy: 0.6821 - val_loss: 0.4705 - val_accuracy: 0.7312\n",
            "INFO:tensorflow:Assets written to: trained_models/dnn/assets\n",
            "Epoch 2/100\n",
            "20/20 [==============================] - 0s 3ms/step - loss: 0.3820 - accuracy: 0.8190 - val_loss: 0.1447 - val_accuracy: 0.9734\n",
            "INFO:tensorflow:Assets written to: trained_models/dnn/assets\n",
            "Epoch 3/100\n",
            "20/20 [==============================] - 0s 2ms/step - loss: 0.0961 - accuracy: 0.9887 - val_loss: 0.0170 - val_accuracy: 0.9976\n",
            "INFO:tensorflow:Assets written to: trained_models/dnn/assets\n",
            "Epoch 4/100\n",
            "20/20 [==============================] - 0s 2ms/step - loss: 0.0104 - accuracy: 0.9987 - val_loss: 0.0085 - val_accuracy: 0.9976\n",
            "INFO:tensorflow:Assets written to: trained_models/dnn/assets\n",
            "Epoch 5/100\n",
            "20/20 [==============================] - 0s 2ms/step - loss: 0.0048 - accuracy: 0.9986 - val_loss: 0.0036 - val_accuracy: 0.9976\n",
            "INFO:tensorflow:Assets written to: trained_models/dnn/assets\n",
            "Epoch 6/100\n",
            "20/20 [==============================] - 0s 2ms/step - loss: 0.0016 - accuracy: 0.9992 - val_loss: 0.0012 - val_accuracy: 1.0000\n",
            "INFO:tensorflow:Assets written to: trained_models/dnn/assets\n",
            "Epoch 7/100\n",
            "20/20 [==============================] - 0s 2ms/step - loss: 0.0011 - accuracy: 1.0000 - val_loss: 8.5495e-04 - val_accuracy: 1.0000\n",
            "INFO:tensorflow:Assets written to: trained_models/dnn/assets\n",
            "Epoch 8/100\n",
            "20/20 [==============================] - 0s 3ms/step - loss: 6.5689e-04 - accuracy: 1.0000 - val_loss: 8.0012e-04 - val_accuracy: 1.0000\n",
            "INFO:tensorflow:Assets written to: trained_models/dnn/assets\n",
            "Epoch 9/100\n",
            "20/20 [==============================] - 0s 2ms/step - loss: 5.3347e-04 - accuracy: 1.0000 - val_loss: 5.1016e-04 - val_accuracy: 1.0000\n",
            "INFO:tensorflow:Assets written to: trained_models/dnn/assets\n",
            "Epoch 10/100\n",
            "20/20 [==============================] - 0s 2ms/step - loss: 3.6094e-04 - accuracy: 1.0000 - val_loss: 4.3686e-04 - val_accuracy: 1.0000\n",
            "INFO:tensorflow:Assets written to: trained_models/dnn/assets\n",
            "Epoch 11/100\n",
            "20/20 [==============================] - 0s 2ms/step - loss: 2.5043e-04 - accuracy: 1.0000 - val_loss: 3.5654e-04 - val_accuracy: 1.0000\n",
            "INFO:tensorflow:Assets written to: trained_models/dnn/assets\n",
            "Epoch 12/100\n",
            "20/20 [==============================] - 0s 4ms/step - loss: 1.6490e-04 - accuracy: 1.0000 - val_loss: 3.1341e-04 - val_accuracy: 1.0000\n",
            "INFO:tensorflow:Assets written to: trained_models/dnn/assets\n",
            "Epoch 13/100\n",
            "20/20 [==============================] - 0s 2ms/step - loss: 2.3267e-04 - accuracy: 1.0000 - val_loss: 2.6752e-04 - val_accuracy: 1.0000\n",
            "INFO:tensorflow:Assets written to: trained_models/dnn/assets\n",
            "Epoch 14/100\n",
            "20/20 [==============================] - 0s 3ms/step - loss: 1.1053e-04 - accuracy: 1.0000 - val_loss: 2.3813e-04 - val_accuracy: 1.0000\n",
            "INFO:tensorflow:Assets written to: trained_models/dnn/assets\n",
            "Epoch 15/100\n",
            "20/20 [==============================] - 0s 2ms/step - loss: 9.8809e-05 - accuracy: 1.0000 - val_loss: 2.2354e-04 - val_accuracy: 1.0000\n",
            "INFO:tensorflow:Assets written to: trained_models/dnn/assets\n",
            "Epoch 16/100\n",
            "20/20 [==============================] - 0s 3ms/step - loss: 8.9565e-05 - accuracy: 1.0000 - val_loss: 1.9624e-04 - val_accuracy: 1.0000\n",
            "INFO:tensorflow:Assets written to: trained_models/dnn/assets\n",
            "Epoch 17/100\n",
            "20/20 [==============================] - 0s 3ms/step - loss: 9.1458e-05 - accuracy: 1.0000 - val_loss: 1.8037e-04 - val_accuracy: 1.0000\n",
            "INFO:tensorflow:Assets written to: trained_models/dnn/assets\n",
            "Epoch 18/100\n",
            "20/20 [==============================] - 0s 3ms/step - loss: 5.8414e-05 - accuracy: 1.0000 - val_loss: 1.7293e-04 - val_accuracy: 1.0000\n",
            "INFO:tensorflow:Assets written to: trained_models/dnn/assets\n",
            "Epoch 19/100\n",
            "20/20 [==============================] - 0s 2ms/step - loss: 4.9837e-05 - accuracy: 1.0000 - val_loss: 1.5526e-04 - val_accuracy: 1.0000\n",
            "INFO:tensorflow:Assets written to: trained_models/dnn/assets\n",
            "Epoch 20/100\n",
            "20/20 [==============================] - 0s 3ms/step - loss: 6.5220e-05 - accuracy: 1.0000 - val_loss: 1.5079e-04 - val_accuracy: 1.0000\n",
            "INFO:tensorflow:Assets written to: trained_models/dnn/assets\n",
            "Epoch 21/100\n",
            "20/20 [==============================] - 0s 3ms/step - loss: 5.2285e-05 - accuracy: 1.0000 - val_loss: 1.4244e-04 - val_accuracy: 1.0000\n",
            "INFO:tensorflow:Assets written to: trained_models/dnn/assets\n",
            "Epoch 22/100\n",
            "20/20 [==============================] - 0s 3ms/step - loss: 3.5754e-05 - accuracy: 1.0000 - val_loss: 1.3707e-04 - val_accuracy: 1.0000\n",
            "INFO:tensorflow:Assets written to: trained_models/dnn/assets\n",
            "Epoch 23/100\n",
            "20/20 [==============================] - 0s 4ms/step - loss: 3.6724e-05 - accuracy: 1.0000 - val_loss: 1.3027e-04 - val_accuracy: 1.0000\n",
            "INFO:tensorflow:Assets written to: trained_models/dnn/assets\n",
            "Epoch 24/100\n",
            "20/20 [==============================] - 0s 2ms/step - loss: 2.9176e-05 - accuracy: 1.0000 - val_loss: 1.2532e-04 - val_accuracy: 1.0000\n",
            "INFO:tensorflow:Assets written to: trained_models/dnn/assets\n",
            "Epoch 25/100\n",
            "20/20 [==============================] - 0s 2ms/step - loss: 3.5305e-05 - accuracy: 1.0000 - val_loss: 1.1953e-04 - val_accuracy: 1.0000\n",
            "INFO:tensorflow:Assets written to: trained_models/dnn/assets\n",
            "Epoch 26/100\n",
            "20/20 [==============================] - 0s 3ms/step - loss: 3.4049e-05 - accuracy: 1.0000 - val_loss: 1.1690e-04 - val_accuracy: 1.0000\n",
            "INFO:tensorflow:Assets written to: trained_models/dnn/assets\n",
            "Epoch 27/100\n",
            "20/20 [==============================] - 0s 2ms/step - loss: 3.2841e-05 - accuracy: 1.0000 - val_loss: 1.1520e-04 - val_accuracy: 1.0000\n",
            "INFO:tensorflow:Assets written to: trained_models/dnn/assets\n",
            "Epoch 28/100\n",
            "20/20 [==============================] - 0s 2ms/step - loss: 2.2344e-05 - accuracy: 1.0000 - val_loss: 1.1114e-04 - val_accuracy: 1.0000\n",
            "INFO:tensorflow:Assets written to: trained_models/dnn/assets\n",
            "Epoch 29/100\n",
            "20/20 [==============================] - 0s 2ms/step - loss: 1.7630e-05 - accuracy: 1.0000 - val_loss: 1.0856e-04 - val_accuracy: 1.0000\n",
            "INFO:tensorflow:Assets written to: trained_models/dnn/assets\n",
            "Epoch 30/100\n",
            "20/20 [==============================] - 0s 2ms/step - loss: 2.7345e-05 - accuracy: 1.0000 - val_loss: 9.5441e-05 - val_accuracy: 1.0000\n",
            "INFO:tensorflow:Assets written to: trained_models/dnn/assets\n",
            "Epoch 31/100\n",
            "20/20 [==============================] - 0s 2ms/step - loss: 1.8418e-05 - accuracy: 1.0000 - val_loss: 9.4046e-05 - val_accuracy: 1.0000\n",
            "INFO:tensorflow:Assets written to: trained_models/dnn/assets\n",
            "Epoch 32/100\n",
            "20/20 [==============================] - 0s 3ms/step - loss: 1.6503e-05 - accuracy: 1.0000 - val_loss: 9.4680e-05 - val_accuracy: 1.0000\n",
            "Epoch 33/100\n",
            "20/20 [==============================] - 0s 2ms/step - loss: 1.4886e-05 - accuracy: 1.0000 - val_loss: 9.5103e-05 - val_accuracy: 1.0000\n",
            "Epoch 34/100\n",
            "20/20 [==============================] - 0s 2ms/step - loss: 1.6663e-05 - accuracy: 1.0000 - val_loss: 9.0665e-05 - val_accuracy: 1.0000\n",
            "INFO:tensorflow:Assets written to: trained_models/dnn/assets\n",
            "Epoch 35/100\n",
            "20/20 [==============================] - 0s 2ms/step - loss: 1.2372e-05 - accuracy: 1.0000 - val_loss: 8.8823e-05 - val_accuracy: 1.0000\n",
            "INFO:tensorflow:Assets written to: trained_models/dnn/assets\n",
            "Epoch 36/100\n",
            "20/20 [==============================] - 0s 3ms/step - loss: 1.1509e-05 - accuracy: 1.0000 - val_loss: 8.8474e-05 - val_accuracy: 1.0000\n",
            "INFO:tensorflow:Assets written to: trained_models/dnn/assets\n",
            "Epoch 37/100\n",
            "20/20 [==============================] - 0s 2ms/step - loss: 1.7684e-05 - accuracy: 1.0000 - val_loss: 8.6893e-05 - val_accuracy: 1.0000\n",
            "INFO:tensorflow:Assets written to: trained_models/dnn/assets\n",
            "Epoch 38/100\n",
            "20/20 [==============================] - 0s 3ms/step - loss: 1.4938e-05 - accuracy: 1.0000 - val_loss: 8.5647e-05 - val_accuracy: 1.0000\n",
            "INFO:tensorflow:Assets written to: trained_models/dnn/assets\n",
            "Epoch 39/100\n",
            "20/20 [==============================] - 0s 2ms/step - loss: 1.1892e-05 - accuracy: 1.0000 - val_loss: 8.4357e-05 - val_accuracy: 1.0000\n",
            "INFO:tensorflow:Assets written to: trained_models/dnn/assets\n",
            "Epoch 40/100\n",
            "20/20 [==============================] - 0s 2ms/step - loss: 9.3357e-06 - accuracy: 1.0000 - val_loss: 8.3773e-05 - val_accuracy: 1.0000\n",
            "INFO:tensorflow:Assets written to: trained_models/dnn/assets\n",
            "Epoch 41/100\n",
            "20/20 [==============================] - 0s 2ms/step - loss: 9.2513e-06 - accuracy: 1.0000 - val_loss: 8.2049e-05 - val_accuracy: 1.0000\n",
            "INFO:tensorflow:Assets written to: trained_models/dnn/assets\n",
            "Epoch 42/100\n",
            "20/20 [==============================] - 0s 2ms/step - loss: 7.6550e-06 - accuracy: 1.0000 - val_loss: 8.1836e-05 - val_accuracy: 1.0000\n",
            "INFO:tensorflow:Assets written to: trained_models/dnn/assets\n",
            "Epoch 43/100\n",
            "20/20 [==============================] - 0s 2ms/step - loss: 9.1424e-06 - accuracy: 1.0000 - val_loss: 8.1663e-05 - val_accuracy: 1.0000\n",
            "INFO:tensorflow:Assets written to: trained_models/dnn/assets\n",
            "Epoch 44/100\n",
            "20/20 [==============================] - 0s 2ms/step - loss: 8.3425e-06 - accuracy: 1.0000 - val_loss: 7.9918e-05 - val_accuracy: 1.0000\n",
            "INFO:tensorflow:Assets written to: trained_models/dnn/assets\n",
            "Epoch 45/100\n",
            "20/20 [==============================] - 0s 2ms/step - loss: 1.1031e-05 - accuracy: 1.0000 - val_loss: 7.8270e-05 - val_accuracy: 1.0000\n",
            "INFO:tensorflow:Assets written to: trained_models/dnn/assets\n",
            "Epoch 46/100\n",
            "20/20 [==============================] - 0s 2ms/step - loss: 6.1488e-06 - accuracy: 1.0000 - val_loss: 7.6867e-05 - val_accuracy: 1.0000\n",
            "INFO:tensorflow:Assets written to: trained_models/dnn/assets\n",
            "Epoch 47/100\n",
            "20/20 [==============================] - 0s 2ms/step - loss: 7.2245e-06 - accuracy: 1.0000 - val_loss: 7.6503e-05 - val_accuracy: 1.0000\n",
            "INFO:tensorflow:Assets written to: trained_models/dnn/assets\n",
            "Epoch 48/100\n",
            "20/20 [==============================] - 0s 2ms/step - loss: 5.9385e-06 - accuracy: 1.0000 - val_loss: 7.6660e-05 - val_accuracy: 1.0000\n",
            "Epoch 49/100\n",
            "20/20 [==============================] - 0s 2ms/step - loss: 1.0483e-05 - accuracy: 1.0000 - val_loss: 7.5948e-05 - val_accuracy: 1.0000\n",
            "INFO:tensorflow:Assets written to: trained_models/dnn/assets\n",
            "Epoch 50/100\n",
            "20/20 [==============================] - 0s 3ms/step - loss: 7.9101e-06 - accuracy: 1.0000 - val_loss: 7.4555e-05 - val_accuracy: 1.0000\n",
            "INFO:tensorflow:Assets written to: trained_models/dnn/assets\n",
            "Epoch 51/100\n",
            "20/20 [==============================] - 0s 3ms/step - loss: 5.9552e-06 - accuracy: 1.0000 - val_loss: 7.3656e-05 - val_accuracy: 1.0000\n",
            "INFO:tensorflow:Assets written to: trained_models/dnn/assets\n",
            "Epoch 52/100\n",
            "20/20 [==============================] - 0s 2ms/step - loss: 6.4507e-06 - accuracy: 1.0000 - val_loss: 7.2826e-05 - val_accuracy: 1.0000\n",
            "INFO:tensorflow:Assets written to: trained_models/dnn/assets\n",
            "Epoch 53/100\n",
            "20/20 [==============================] - 0s 3ms/step - loss: 7.0205e-06 - accuracy: 1.0000 - val_loss: 7.2469e-05 - val_accuracy: 1.0000\n",
            "INFO:tensorflow:Assets written to: trained_models/dnn/assets\n",
            "Epoch 54/100\n",
            "20/20 [==============================] - 0s 3ms/step - loss: 6.4357e-06 - accuracy: 1.0000 - val_loss: 7.2206e-05 - val_accuracy: 1.0000\n",
            "INFO:tensorflow:Assets written to: trained_models/dnn/assets\n",
            "Epoch 55/100\n",
            "20/20 [==============================] - 0s 3ms/step - loss: 4.2826e-06 - accuracy: 1.0000 - val_loss: 7.1455e-05 - val_accuracy: 1.0000\n",
            "INFO:tensorflow:Assets written to: trained_models/dnn/assets\n",
            "Epoch 56/100\n",
            "20/20 [==============================] - 0s 2ms/step - loss: 5.2185e-06 - accuracy: 1.0000 - val_loss: 7.0951e-05 - val_accuracy: 1.0000\n",
            "INFO:tensorflow:Assets written to: trained_models/dnn/assets\n",
            "Epoch 57/100\n",
            "20/20 [==============================] - 0s 2ms/step - loss: 5.7617e-06 - accuracy: 1.0000 - val_loss: 7.0440e-05 - val_accuracy: 1.0000\n",
            "INFO:tensorflow:Assets written to: trained_models/dnn/assets\n",
            "Epoch 58/100\n",
            "20/20 [==============================] - 0s 2ms/step - loss: 3.6187e-06 - accuracy: 1.0000 - val_loss: 7.0372e-05 - val_accuracy: 1.0000\n",
            "INFO:tensorflow:Assets written to: trained_models/dnn/assets\n",
            "Epoch 59/100\n",
            "20/20 [==============================] - 0s 2ms/step - loss: 4.9580e-06 - accuracy: 1.0000 - val_loss: 6.9310e-05 - val_accuracy: 1.0000\n",
            "INFO:tensorflow:Assets written to: trained_models/dnn/assets\n",
            "Epoch 60/100\n",
            "20/20 [==============================] - 0s 2ms/step - loss: 3.7777e-06 - accuracy: 1.0000 - val_loss: 6.8802e-05 - val_accuracy: 1.0000\n",
            "INFO:tensorflow:Assets written to: trained_models/dnn/assets\n",
            "Epoch 61/100\n",
            "20/20 [==============================] - 0s 2ms/step - loss: 6.8696e-06 - accuracy: 1.0000 - val_loss: 6.8287e-05 - val_accuracy: 1.0000\n",
            "INFO:tensorflow:Assets written to: trained_models/dnn/assets\n",
            "Epoch 62/100\n",
            "20/20 [==============================] - 0s 2ms/step - loss: 3.3895e-06 - accuracy: 1.0000 - val_loss: 6.8181e-05 - val_accuracy: 1.0000\n",
            "INFO:tensorflow:Assets written to: trained_models/dnn/assets\n",
            "Epoch 63/100\n",
            "20/20 [==============================] - 0s 2ms/step - loss: 3.2895e-06 - accuracy: 1.0000 - val_loss: 6.7880e-05 - val_accuracy: 1.0000\n",
            "INFO:tensorflow:Assets written to: trained_models/dnn/assets\n",
            "Epoch 64/100\n",
            "20/20 [==============================] - 0s 2ms/step - loss: 3.3383e-06 - accuracy: 1.0000 - val_loss: 6.7293e-05 - val_accuracy: 1.0000\n",
            "INFO:tensorflow:Assets written to: trained_models/dnn/assets\n",
            "Epoch 65/100\n",
            "20/20 [==============================] - 0s 2ms/step - loss: 4.8668e-06 - accuracy: 1.0000 - val_loss: 6.6476e-05 - val_accuracy: 1.0000\n",
            "INFO:tensorflow:Assets written to: trained_models/dnn/assets\n",
            "Epoch 66/100\n",
            "20/20 [==============================] - 0s 2ms/step - loss: 2.8715e-06 - accuracy: 1.0000 - val_loss: 6.6223e-05 - val_accuracy: 1.0000\n",
            "INFO:tensorflow:Assets written to: trained_models/dnn/assets\n",
            "Epoch 67/100\n",
            "20/20 [==============================] - 0s 2ms/step - loss: 3.2086e-06 - accuracy: 1.0000 - val_loss: 6.5801e-05 - val_accuracy: 1.0000\n",
            "INFO:tensorflow:Assets written to: trained_models/dnn/assets\n",
            "Epoch 68/100\n",
            "20/20 [==============================] - 0s 2ms/step - loss: 4.4333e-06 - accuracy: 1.0000 - val_loss: 6.5623e-05 - val_accuracy: 1.0000\n",
            "INFO:tensorflow:Assets written to: trained_models/dnn/assets\n",
            "Epoch 69/100\n",
            "20/20 [==============================] - 0s 2ms/step - loss: 2.2353e-06 - accuracy: 1.0000 - val_loss: 6.5281e-05 - val_accuracy: 1.0000\n",
            "INFO:tensorflow:Assets written to: trained_models/dnn/assets\n",
            "Epoch 70/100\n",
            "20/20 [==============================] - 0s 2ms/step - loss: 2.9723e-06 - accuracy: 1.0000 - val_loss: 6.4871e-05 - val_accuracy: 1.0000\n",
            "INFO:tensorflow:Assets written to: trained_models/dnn/assets\n",
            "Epoch 71/100\n",
            "20/20 [==============================] - 0s 3ms/step - loss: 3.0402e-06 - accuracy: 1.0000 - val_loss: 6.4585e-05 - val_accuracy: 1.0000\n",
            "INFO:tensorflow:Assets written to: trained_models/dnn/assets\n",
            "Epoch 72/100\n",
            "20/20 [==============================] - 0s 3ms/step - loss: 2.7253e-06 - accuracy: 1.0000 - val_loss: 6.4488e-05 - val_accuracy: 1.0000\n",
            "INFO:tensorflow:Assets written to: trained_models/dnn/assets\n",
            "Epoch 73/100\n",
            "20/20 [==============================] - 0s 2ms/step - loss: 2.6806e-06 - accuracy: 1.0000 - val_loss: 6.4164e-05 - val_accuracy: 1.0000\n",
            "INFO:tensorflow:Assets written to: trained_models/dnn/assets\n",
            "Epoch 74/100\n",
            "20/20 [==============================] - 0s 2ms/step - loss: 3.4301e-06 - accuracy: 1.0000 - val_loss: 6.3796e-05 - val_accuracy: 1.0000\n",
            "INFO:tensorflow:Assets written to: trained_models/dnn/assets\n",
            "Epoch 75/100\n",
            "20/20 [==============================] - 0s 2ms/step - loss: 2.1469e-06 - accuracy: 1.0000 - val_loss: 6.1935e-05 - val_accuracy: 1.0000\n",
            "INFO:tensorflow:Assets written to: trained_models/dnn/assets\n",
            "Epoch 76/100\n",
            "20/20 [==============================] - 0s 3ms/step - loss: 2.2831e-06 - accuracy: 1.0000 - val_loss: 6.2022e-05 - val_accuracy: 1.0000\n",
            "Epoch 77/100\n",
            "20/20 [==============================] - 0s 3ms/step - loss: 2.4259e-06 - accuracy: 1.0000 - val_loss: 6.1773e-05 - val_accuracy: 1.0000\n",
            "INFO:tensorflow:Assets written to: trained_models/dnn/assets\n",
            "Epoch 78/100\n",
            "20/20 [==============================] - 0s 2ms/step - loss: 1.9341e-06 - accuracy: 1.0000 - val_loss: 6.2080e-05 - val_accuracy: 1.0000\n",
            "Epoch 79/100\n",
            "20/20 [==============================] - 0s 2ms/step - loss: 2.7374e-06 - accuracy: 1.0000 - val_loss: 6.2171e-05 - val_accuracy: 1.0000\n",
            "Epoch 80/100\n",
            "20/20 [==============================] - 0s 2ms/step - loss: 1.5782e-06 - accuracy: 1.0000 - val_loss: 6.1917e-05 - val_accuracy: 1.0000\n",
            "Epoch 81/100\n",
            "20/20 [==============================] - 0s 2ms/step - loss: 1.5617e-06 - accuracy: 1.0000 - val_loss: 6.1861e-05 - val_accuracy: 1.0000\n",
            "Epoch 82/100\n",
            "20/20 [==============================] - 0s 2ms/step - loss: 2.5937e-06 - accuracy: 1.0000 - val_loss: 6.1354e-05 - val_accuracy: 1.0000\n",
            "INFO:tensorflow:Assets written to: trained_models/dnn/assets\n",
            "Epoch 83/100\n",
            "20/20 [==============================] - 0s 3ms/step - loss: 1.8197e-06 - accuracy: 1.0000 - val_loss: 6.1760e-05 - val_accuracy: 1.0000\n",
            "Epoch 84/100\n",
            "20/20 [==============================] - 0s 3ms/step - loss: 1.8723e-06 - accuracy: 1.0000 - val_loss: 6.1299e-05 - val_accuracy: 1.0000\n",
            "INFO:tensorflow:Assets written to: trained_models/dnn/assets\n",
            "Epoch 85/100\n",
            "20/20 [==============================] - 0s 3ms/step - loss: 1.7216e-06 - accuracy: 1.0000 - val_loss: 6.1252e-05 - val_accuracy: 1.0000\n",
            "INFO:tensorflow:Assets written to: trained_models/dnn/assets\n",
            "Epoch 86/100\n",
            "20/20 [==============================] - 0s 3ms/step - loss: 1.6367e-06 - accuracy: 1.0000 - val_loss: 6.0755e-05 - val_accuracy: 1.0000\n",
            "INFO:tensorflow:Assets written to: trained_models/dnn/assets\n",
            "Epoch 87/100\n",
            "20/20 [==============================] - 0s 3ms/step - loss: 3.0006e-06 - accuracy: 1.0000 - val_loss: 6.0550e-05 - val_accuracy: 1.0000\n",
            "INFO:tensorflow:Assets written to: trained_models/dnn/assets\n",
            "Epoch 88/100\n",
            "20/20 [==============================] - 0s 2ms/step - loss: 2.4065e-06 - accuracy: 1.0000 - val_loss: 6.0159e-05 - val_accuracy: 1.0000\n",
            "INFO:tensorflow:Assets written to: trained_models/dnn/assets\n",
            "Epoch 89/100\n",
            "20/20 [==============================] - 0s 2ms/step - loss: 1.7486e-06 - accuracy: 1.0000 - val_loss: 5.9908e-05 - val_accuracy: 1.0000\n",
            "INFO:tensorflow:Assets written to: trained_models/dnn/assets\n",
            "Epoch 90/100\n",
            "20/20 [==============================] - 0s 3ms/step - loss: 1.6988e-06 - accuracy: 1.0000 - val_loss: 5.9607e-05 - val_accuracy: 1.0000\n",
            "INFO:tensorflow:Assets written to: trained_models/dnn/assets\n",
            "Epoch 91/100\n",
            "20/20 [==============================] - 0s 3ms/step - loss: 1.6404e-06 - accuracy: 1.0000 - val_loss: 5.9267e-05 - val_accuracy: 1.0000\n",
            "INFO:tensorflow:Assets written to: trained_models/dnn/assets\n",
            "Epoch 92/100\n",
            "20/20 [==============================] - 0s 2ms/step - loss: 1.7812e-06 - accuracy: 1.0000 - val_loss: 5.9256e-05 - val_accuracy: 1.0000\n",
            "INFO:tensorflow:Assets written to: trained_models/dnn/assets\n",
            "Epoch 93/100\n",
            "20/20 [==============================] - 0s 2ms/step - loss: 1.5910e-06 - accuracy: 1.0000 - val_loss: 5.9056e-05 - val_accuracy: 1.0000\n",
            "INFO:tensorflow:Assets written to: trained_models/dnn/assets\n",
            "Epoch 94/100\n",
            "20/20 [==============================] - 0s 3ms/step - loss: 1.6290e-06 - accuracy: 1.0000 - val_loss: 5.8940e-05 - val_accuracy: 1.0000\n",
            "INFO:tensorflow:Assets written to: trained_models/dnn/assets\n",
            "Epoch 95/100\n",
            "20/20 [==============================] - 0s 3ms/step - loss: 1.4635e-06 - accuracy: 1.0000 - val_loss: 5.8519e-05 - val_accuracy: 1.0000\n",
            "INFO:tensorflow:Assets written to: trained_models/dnn/assets\n",
            "Epoch 96/100\n",
            "20/20 [==============================] - 0s 2ms/step - loss: 1.4146e-06 - accuracy: 1.0000 - val_loss: 5.8942e-05 - val_accuracy: 1.0000\n",
            "Epoch 97/100\n",
            "20/20 [==============================] - 0s 2ms/step - loss: 1.2792e-06 - accuracy: 1.0000 - val_loss: 5.8483e-05 - val_accuracy: 1.0000\n",
            "INFO:tensorflow:Assets written to: trained_models/dnn/assets\n",
            "Epoch 98/100\n",
            "20/20 [==============================] - 0s 3ms/step - loss: 1.1255e-06 - accuracy: 1.0000 - val_loss: 5.8595e-05 - val_accuracy: 1.0000\n",
            "Epoch 99/100\n",
            "20/20 [==============================] - 0s 3ms/step - loss: 1.3931e-06 - accuracy: 1.0000 - val_loss: 5.7896e-05 - val_accuracy: 1.0000\n",
            "INFO:tensorflow:Assets written to: trained_models/dnn/assets\n",
            "Epoch 100/100\n",
            "20/20 [==============================] - 0s 3ms/step - loss: 2.1978e-06 - accuracy: 1.0000 - val_loss: 5.7607e-05 - val_accuracy: 1.0000\n",
            "INFO:tensorflow:Assets written to: trained_models/dnn/assets\n",
            "Complete. \n",
            "Model trained in 65.2 sec\n"
          ]
        }
      ],
      "source": [
        "#Fit\n",
        "start = time()\n",
        "history = model.fit(\n",
        "    x_train,\n",
        "    y_train,\n",
        "    validation_data=(x_val, y_val),\n",
        "    callbacks=callbacks,\n",
        "    epochs=100,\n",
        "    batch_size=100,\n",
        "    verbose=1\n",
        ")\n",
        "\n",
        "print(f'Complete. \\nModel trained in {round(time()-start, 2)} sec')"
      ]
    },
    {
      "cell_type": "code",
      "execution_count": 8,
      "metadata": {
        "colab": {
          "base_uri": "https://localhost:8080/",
          "height": 783
        },
        "id": "_cawDC-iNxFi",
        "outputId": "c353fd4c-f15c-4866-afca-ce15d624fab8"
      },
      "outputs": [
        {
          "name": "stdout",
          "output_type": "stream",
          "text": [
            "\n",
            "Training accuracy: 100.0%\n",
            "Training loss: 0.0\n",
            "\n",
            "Validation accuracy: 100.0%\n",
            "Validation loss: 0.0001\n"
          ]
        },
        {
          "data": {
            "image/png": "[encoded data removed]",
            "text/plain": [
              "<Figure size 720x360 with 1 Axes>"
            ]
          },
          "metadata": {
            "needs_background": "light"
          },
          "output_type": "display_data"
        },
        {
          "data": {
            "image/png": "[encoded data removed]",
            "text/plain": [
              "<Figure size 720x360 with 1 Axes>"
            ]
          },
          "metadata": {
            "needs_background": "light"
          },
          "output_type": "display_data"
        }
      ],
      "source": [
        "title_loss = 'DNN - Training & Validation Loss'\n",
        "title_acc = 'DNN - Training & Validation Accuracy'\n",
        "path_loss = 'img/models/dnn_loss'\n",
        "path_acc = 'img/models/dnn_acc'\n",
        "\n",
        "plot_train_val(history, title_acc=title_acc, title_loss=title_loss, path_acc=path_acc, path_loss=path_loss)"
      ]
    },
    {
      "cell_type": "markdown",
      "metadata": {
        "id": "zHul7a4JAyIe"
      },
      "source": [
        "## Evaluation Metrics\n",
        "---"
      ]
    },
    {
      "cell_type": "code",
      "execution_count": 9,
      "metadata": {
        "colab": {
          "base_uri": "https://localhost:8080/"
        },
        "id": "6cdujOYVAyIf",
        "outputId": "d6e735ea-d5af-47ff-da3c-0ed3e76f24fe"
      },
      "outputs": [
        {
          "name": "stdout",
          "output_type": "stream",
          "text": [
            "Accuracy:  1.0\n",
            "Precision:  1.0\n",
            "Recall:  1.0\n",
            "F1-score:  1.0\n",
            "AUC:  1.0\n"
          ]
        }
      ],
      "source": [
        "y_pred = np.argmax(model.predict(x_test), axis=-1) \n",
        "y_true = np.argmax(y_test, axis=-1) \n",
        "\n",
        "acc = accuracy_score(y_true, y_pred)\n",
        "recall = recall_score(y_true, y_pred, average='weighted')\n",
        "precision  = precision_score(y_true, y_pred, average='weighted')\n",
        "f1  = f1_score(y_true, y_pred, average='weighted')\n",
        "auc  = roc_auc_score(y_true, y_pred, average='weighted', multi_class='ovr')\n",
        "\n",
        "print('Accuracy: ', acc)\n",
        "print('Precision: ', recall)\n",
        "print('Recall: ', precision)\n",
        "print('F1-score: ', f1)\n",
        "print('AUC: ', auc)"
      ]
    },
    {
      "cell_type": "markdown",
      "metadata": {},
      "source": [
        "## Confusion Matrix\n",
        "\n",
        "---"
      ]
    },
    {
      "cell_type": "code",
      "execution_count": 10,
      "metadata": {},
      "outputs": [],
      "source": [
        "font = {'size': 16}\n",
        "labels = ['Normal', 'DoS']"
      ]
    },
    {
      "cell_type": "code",
      "execution_count": 11,
      "metadata": {},
      "outputs": [
        {
          "data": {
            "image/png": "[encoded data removed]",
            "text/plain": [
              "<Figure size 504x432 with 2 Axes>"
            ]
          },
          "metadata": {
            "needs_background": "light"
          },
          "output_type": "display_data"
        }
      ],
      "source": [
        "confusion = confusion_matrix(y_true, y_pred)\n",
        "plt.figure(figsize=(7,6))\n",
        "sns.heatmap(confusion, annot=True, linewidths=0.8, xticklabels=labels, yticklabels=labels, fmt='d', cmap='Blues')\n",
        "plt.title(f'DNN - Confusion Matrix', fontsize=20) \n",
        "plt.xlabel('Predicted', fontdict=font)\n",
        "plt.ylabel('True', fontdict=font)\n",
        "\n",
        "plt.savefig('img/models/dnn_cm', bbox_inches=\"tight\") "
      ]
    },
    {
      "cell_type": "code",
      "execution_count": null,
      "metadata": {},
      "outputs": [],
      "source": []
    }
  ],
  "metadata": {
    "colab": {
      "collapsed_sections": [],
      "name": "dnn.ipynb",
      "provenance": []
    },
    "interpreter": {
      "hash": "15d99b9aa0dbf3a358312963825951c4e42cc1dea07b49971ebf26684bae64aa"
    },
    "kernelspec": {
      "display_name": "Python 3.8.3 64-bit ('base': conda)",
      "name": "python3"
    },
    "language_info": {
      "codemirror_mode": {
        "name": "ipython",
        "version": 3
      },
      "file_extension": ".py",
      "mimetype": "text/x-python",
      "name": "python",
      "nbconvert_exporter": "python",
      "pygments_lexer": "ipython3",
      "version": "3.8.3"
    },
    "orig_nbformat": 4
  },
  "nbformat": 4,
  "nbformat_minor": 0
}
