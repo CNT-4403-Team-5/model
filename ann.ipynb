{
  "cells": [
    {
      "cell_type": "code",
      "execution_count": 1,
      "metadata": {
        "colab": {
          "base_uri": "https://localhost:8080/"
        },
        "id": "Bn8_qUnSAyIU",
        "outputId": "99aedeca-3a33-4214-d704-096da314372d"
      },
      "outputs": [],
      "source": [
        "from keras.models import Sequential\n",
        "from keras.layers import Dense\n",
        "from keras.optimizers import Adam\n",
        "from sklearn.model_selection import train_test_split\n",
        "from sklearn.preprocessing import MinMaxScaler\n",
        "from keras.backend import clear_session\n",
        "from tensorflow.keras.utils import to_categorical\n",
        "from sklearn.metrics import *\n",
        "from time import time\n",
        "import numpy as np\n",
        "import matplotlib.pyplot as plt\n",
        "import seaborn as sns\n",
        "import pandas as pd\n",
        "from keras.callbacks import ModelCheckpoint"
      ]
    },
    {
      "cell_type": "markdown",
      "metadata": {
        "id": "9JRJInF6Me16"
      },
      "source": [
        "## Functions\n",
        "\n",
        "---\n"
      ]
    },
    {
      "cell_type": "code",
      "execution_count": 2,
      "metadata": {
        "id": "BqN8XgSjMiI8"
      },
      "outputs": [],
      "source": [
        "#Removes column of class labels from dataframe and saves into new array\n",
        "def features_labels_split(data, label_column):\n",
        "    features = data.copy()\n",
        "    columns_titles = list(data.columns)\n",
        "    features = features.reindex(columns=columns_titles)\n",
        "    labels = features.pop(label_column)\n",
        "    features = np.array(features)\n",
        "    labels = np.array(labels)\n",
        "    return features, labels\n",
        "\n",
        "\n",
        "#Plots training/validation accuracy and loss. Can optionally print the numerical values.\n",
        "def plot_train_val(model_history, title_acc, title_loss, path_acc, path_loss, metrics=True):\n",
        "    train_acc = np.array(model_history.history[\"accuracy\"])\n",
        "    train_loss = np.array(model_history.history[\"loss\"])\n",
        "\n",
        "    val_loss = np.array(model_history.history[\"val_loss\"])\n",
        "    val_acc = np.array(model_history.history[\"val_accuracy\"])\n",
        "\n",
        "    epochs = np.arange(train_loss.shape[0])\n",
        "    plt.figure(figsize=(10,5)) \n",
        "    plt.subplot(1,2,1)\n",
        "    plt.plot(epochs, train_loss, label = \"Training\")\n",
        "    plt.plot(epochs, val_loss, label = \"Validation\")\n",
        "    plt.xlabel(\"Epochs\")\n",
        "    plt.ylabel(\"Loss\")\n",
        "    plt.title(title_acc)\n",
        "    plt.legend()\n",
        "    plt.savefig(path_acc, bbox_inches=\"tight\") \n",
        "\n",
        "    plt.figure(figsize=(10,5)) \n",
        "    plt.subplot(1,2,2)\n",
        "    plt.plot(epochs, train_acc, label = \"Training\")\n",
        "    plt.plot(epochs, val_acc, label = \"Validation\")\n",
        "    plt.xlabel(\"Epochs\")\n",
        "    plt.ylabel(\"Accuracy\")\n",
        "    plt.title(title_loss)\n",
        "    plt.legend()\n",
        "    plt.savefig(path_loss, bbox_inches=\"tight\") \n",
        "\n",
        "    train_score = [train_acc[-1], train_loss[-1]]\n",
        "    val_score = [val_acc[-1], val_loss[-1]]\n",
        "\n",
        "    if metrics == True:\n",
        "        print(f\"\\nTraining accuracy: {round(train_score[0], 5) * 100}%\")\n",
        "        print(f\"Training loss: {round(train_score[1], 4)}\")\n",
        "        print(f\"\\nValidation accuracy: {round(val_score[0], 5) * 100}%\")\n",
        "        print(f\"Validation loss: {round(val_score[1], 4)}\")"
      ]
    },
    {
      "cell_type": "markdown",
      "metadata": {
        "id": "O6PJmvWjAyIa"
      },
      "source": [
        "## Load Data\n",
        "\n",
        "---"
      ]
    },
    {
      "cell_type": "code",
      "execution_count": 3,
      "metadata": {
        "colab": {
          "base_uri": "https://localhost:8080/"
        },
        "id": "miDlixq1LES5",
        "outputId": "18997ef5-f69d-4ce9-abd3-892cbe1445cc"
      },
      "outputs": [
        {
          "name": "stdout",
          "output_type": "stream",
          "text": [
            "x_train shape:  (1922, 165)\n",
            "y_train shape:  (1922, 2)\n",
            "x_test shape:  (412, 165)\n",
            "y_test shape:  (412, 2)\n",
            "x_val shape:  (413, 165)\n",
            "y_val shape:  (413, 2)\n"
          ]
        }
      ],
      "source": [
        "data = np.load('data/data.npz', allow_pickle=True)\n",
        "\n",
        "x_train = data['x_train']\n",
        "y_train = data['y_train']\n",
        "x_test = data['x_test']\n",
        "y_test = data['y_test']\n",
        "x_val = data['x_val']\n",
        "y_val = data['y_val']\n",
        "\n",
        "\n",
        "print('x_train shape: ', x_train.shape)\n",
        "print('y_train shape: ', y_train.shape)\n",
        "print('x_test shape: ', x_test.shape)\n",
        "print('y_test shape: ', y_test.shape)\n",
        "print('x_val shape: ', x_val.shape)\n",
        "print('y_val shape: ', y_val.shape)"
      ]
    },
    {
      "cell_type": "markdown",
      "metadata": {
        "id": "2SVKPf-bAyIb"
      },
      "source": [
        "## ANN Model\n",
        "\n",
        "\n",
        "*'DEEP-INTRUSION DETECTION SYSTEM WITH ENHANCED UNSW-NB15 DATASET BASED ON DEEP LEARNING TECHNIQUES', A.M. ALEESA, MOHAMMED YOUNIS, AHMED A. MOHAMMED, NAN M. SAHAR*\n",
        "\n",
        "\n",
        "---"
      ]
    },
    {
      "cell_type": "markdown",
      "metadata": {},
      "source": [
        "<img src='img/models/ann.png'>"
      ]
    },
    {
      "cell_type": "code",
      "execution_count": 4,
      "metadata": {
        "colab": {
          "base_uri": "https://localhost:8080/"
        },
        "id": "mo9bftx3AyIc",
        "outputId": "e61229fc-8db3-44bd-9a7c-c529756d0b89"
      },
      "outputs": [
        {
          "name": "stdout",
          "output_type": "stream",
          "text": [
            "Model: \"sequential\"\n",
            "_________________________________________________________________\n",
            "Layer (type)                 Output Shape              Param #   \n",
            "=================================================================\n",
            "dense (Dense)                (None, 850)               141100    \n",
            "_________________________________________________________________\n",
            "dense_1 (Dense)              (None, 2)                 1702      \n",
            "=================================================================\n",
            "Total params: 142,802\n",
            "Trainable params: 142,802\n",
            "Non-trainable params: 0\n",
            "_________________________________________________________________\n"
          ]
        }
      ],
      "source": [
        "#Define\n",
        "model = Sequential()\n",
        "\n",
        "model.add(Dense(input_dim=x_train.shape[1], units=850, activation='relu')) #input & hidden layer 1\n",
        "model.add(Dense(units=2, activation='softmax')) #output/prediction layer\n",
        "\n",
        "model.summary() #display model architecture information"
      ]
    },
    {
      "cell_type": "code",
      "execution_count": 5,
      "metadata": {
        "id": "TVbNrQHKAyIc"
      },
      "outputs": [],
      "source": [
        "#Compile\n",
        "model.compile(loss=\"binary_crossentropy\",  #they did not specify loss function, assume binary cross entropy\n",
        "        optimizer=Adam(learning_rate=0.001), #they did not specify learning rate, placeholder value for now\n",
        "        metrics=[\"accuracy\"])"
      ]
    },
    {
      "cell_type": "code",
      "execution_count": 6,
      "metadata": {},
      "outputs": [],
      "source": [
        "#Best model callback\n",
        "model_path = 'trained_models/ann'\n",
        "checkpoint = ModelCheckpoint(\n",
        "    filepath=model_path, \n",
        "    monitor='val_loss', #save model based on best validation loss\n",
        "    verbose=0, \n",
        "    save_best_only=True,\n",
        "    mode='min')\n",
        "callbacks = [checkpoint]"
      ]
    },
    {
      "cell_type": "code",
      "execution_count": 7,
      "metadata": {
        "colab": {
          "base_uri": "https://localhost:8080/"
        },
        "id": "GrPLP4MfAyId",
        "outputId": "61cd8486-aad1-4302-ab09-94babe7c2498"
      },
      "outputs": [
        {
          "name": "stdout",
          "output_type": "stream",
          "text": [
            "Epoch 1/100\n",
            "20/20 [==============================] - 9s 18ms/step - loss: 0.6030 - accuracy: 0.6896 - val_loss: 0.4098 - val_accuracy: 0.8160\n",
            "INFO:tensorflow:Assets written to: trained_models/ann/assets\n",
            "Epoch 2/100\n",
            "20/20 [==============================] - 0s 3ms/step - loss: 0.3450 - accuracy: 0.8462 - val_loss: 0.2164 - val_accuracy: 0.9588\n",
            "INFO:tensorflow:Assets written to: trained_models/ann/assets\n",
            "Epoch 3/100\n",
            "20/20 [==============================] - 0s 2ms/step - loss: 0.1853 - accuracy: 0.9590 - val_loss: 0.1061 - val_accuracy: 0.9782\n",
            "INFO:tensorflow:Assets written to: trained_models/ann/assets\n",
            "Epoch 4/100\n",
            "20/20 [==============================] - 0s 2ms/step - loss: 0.0997 - accuracy: 0.9887 - val_loss: 0.0556 - val_accuracy: 0.9976\n",
            "INFO:tensorflow:Assets written to: trained_models/ann/assets\n",
            "Epoch 5/100\n",
            "20/20 [==============================] - 0s 2ms/step - loss: 0.0509 - accuracy: 0.9970 - val_loss: 0.0326 - val_accuracy: 0.9976\n",
            "INFO:tensorflow:Assets written to: trained_models/ann/assets\n",
            "Epoch 6/100\n",
            "20/20 [==============================] - 0s 2ms/step - loss: 0.0320 - accuracy: 0.9984 - val_loss: 0.0210 - val_accuracy: 0.9976\n",
            "INFO:tensorflow:Assets written to: trained_models/ann/assets\n",
            "Epoch 7/100\n",
            "20/20 [==============================] - 0s 3ms/step - loss: 0.0203 - accuracy: 0.9978 - val_loss: 0.0145 - val_accuracy: 1.0000\n",
            "INFO:tensorflow:Assets written to: trained_models/ann/assets\n",
            "Epoch 8/100\n",
            "20/20 [==============================] - 0s 2ms/step - loss: 0.0144 - accuracy: 1.0000 - val_loss: 0.0108 - val_accuracy: 1.0000\n",
            "INFO:tensorflow:Assets written to: trained_models/ann/assets\n",
            "Epoch 9/100\n",
            "20/20 [==============================] - 0s 3ms/step - loss: 0.0102 - accuracy: 1.0000 - val_loss: 0.0083 - val_accuracy: 1.0000\n",
            "INFO:tensorflow:Assets written to: trained_models/ann/assets\n",
            "Epoch 10/100\n",
            "20/20 [==============================] - 0s 3ms/step - loss: 0.0074 - accuracy: 1.0000 - val_loss: 0.0067 - val_accuracy: 1.0000\n",
            "INFO:tensorflow:Assets written to: trained_models/ann/assets\n",
            "Epoch 11/100\n",
            "20/20 [==============================] - 0s 2ms/step - loss: 0.0062 - accuracy: 1.0000 - val_loss: 0.0054 - val_accuracy: 1.0000\n",
            "INFO:tensorflow:Assets written to: trained_models/ann/assets\n",
            "Epoch 12/100\n",
            "20/20 [==============================] - 0s 3ms/step - loss: 0.0046 - accuracy: 1.0000 - val_loss: 0.0044 - val_accuracy: 1.0000\n",
            "INFO:tensorflow:Assets written to: trained_models/ann/assets\n",
            "Epoch 13/100\n",
            "20/20 [==============================] - 0s 3ms/step - loss: 0.0047 - accuracy: 1.0000 - val_loss: 0.0038 - val_accuracy: 1.0000\n",
            "INFO:tensorflow:Assets written to: trained_models/ann/assets\n",
            "Epoch 14/100\n",
            "20/20 [==============================] - 0s 2ms/step - loss: 0.0034 - accuracy: 1.0000 - val_loss: 0.0032 - val_accuracy: 1.0000\n",
            "INFO:tensorflow:Assets written to: trained_models/ann/assets\n",
            "Epoch 15/100\n",
            "20/20 [==============================] - 0s 2ms/step - loss: 0.0028 - accuracy: 1.0000 - val_loss: 0.0028 - val_accuracy: 1.0000\n",
            "INFO:tensorflow:Assets written to: trained_models/ann/assets\n",
            "Epoch 16/100\n",
            "20/20 [==============================] - 0s 3ms/step - loss: 0.0025 - accuracy: 1.0000 - val_loss: 0.0024 - val_accuracy: 1.0000\n",
            "INFO:tensorflow:Assets written to: trained_models/ann/assets\n",
            "Epoch 17/100\n",
            "20/20 [==============================] - 0s 2ms/step - loss: 0.0022 - accuracy: 1.0000 - val_loss: 0.0022 - val_accuracy: 1.0000\n",
            "INFO:tensorflow:Assets written to: trained_models/ann/assets\n",
            "Epoch 18/100\n",
            "20/20 [==============================] - 0s 3ms/step - loss: 0.0018 - accuracy: 1.0000 - val_loss: 0.0019 - val_accuracy: 1.0000\n",
            "INFO:tensorflow:Assets written to: trained_models/ann/assets\n",
            "Epoch 19/100\n",
            "20/20 [==============================] - 0s 3ms/step - loss: 0.0014 - accuracy: 1.0000 - val_loss: 0.0017 - val_accuracy: 1.0000\n",
            "INFO:tensorflow:Assets written to: trained_models/ann/assets\n",
            "Epoch 20/100\n",
            "20/20 [==============================] - 0s 3ms/step - loss: 0.0015 - accuracy: 1.0000 - val_loss: 0.0015 - val_accuracy: 1.0000\n",
            "INFO:tensorflow:Assets written to: trained_models/ann/assets\n",
            "Epoch 21/100\n",
            "20/20 [==============================] - 0s 2ms/step - loss: 0.0013 - accuracy: 1.0000 - val_loss: 0.0014 - val_accuracy: 1.0000\n",
            "INFO:tensorflow:Assets written to: trained_models/ann/assets\n",
            "Epoch 22/100\n",
            "20/20 [==============================] - 0s 3ms/step - loss: 0.0011 - accuracy: 1.0000 - val_loss: 0.0013 - val_accuracy: 1.0000\n",
            "INFO:tensorflow:Assets written to: trained_models/ann/assets\n",
            "Epoch 23/100\n",
            "20/20 [==============================] - 0s 2ms/step - loss: 9.1101e-04 - accuracy: 1.0000 - val_loss: 0.0012 - val_accuracy: 1.0000\n",
            "INFO:tensorflow:Assets written to: trained_models/ann/assets\n",
            "Epoch 24/100\n",
            "20/20 [==============================] - 0s 3ms/step - loss: 8.9622e-04 - accuracy: 1.0000 - val_loss: 0.0011 - val_accuracy: 1.0000\n",
            "INFO:tensorflow:Assets written to: trained_models/ann/assets\n",
            "Epoch 25/100\n",
            "20/20 [==============================] - 0s 3ms/step - loss: 7.8430e-04 - accuracy: 1.0000 - val_loss: 0.0010 - val_accuracy: 1.0000\n",
            "INFO:tensorflow:Assets written to: trained_models/ann/assets\n",
            "Epoch 26/100\n",
            "20/20 [==============================] - 0s 3ms/step - loss: 6.8720e-04 - accuracy: 1.0000 - val_loss: 9.4179e-04 - val_accuracy: 1.0000\n",
            "INFO:tensorflow:Assets written to: trained_models/ann/assets\n",
            "Epoch 27/100\n",
            "20/20 [==============================] - 0s 3ms/step - loss: 7.2363e-04 - accuracy: 1.0000 - val_loss: 8.9008e-04 - val_accuracy: 1.0000\n",
            "INFO:tensorflow:Assets written to: trained_models/ann/assets\n",
            "Epoch 28/100\n",
            "20/20 [==============================] - 0s 2ms/step - loss: 6.8567e-04 - accuracy: 1.0000 - val_loss: 8.4388e-04 - val_accuracy: 1.0000\n",
            "INFO:tensorflow:Assets written to: trained_models/ann/assets\n",
            "Epoch 29/100\n",
            "20/20 [==============================] - 0s 3ms/step - loss: 5.9563e-04 - accuracy: 1.0000 - val_loss: 7.8086e-04 - val_accuracy: 1.0000\n",
            "INFO:tensorflow:Assets written to: trained_models/ann/assets\n",
            "Epoch 30/100\n",
            "20/20 [==============================] - 0s 6ms/step - loss: 4.7359e-04 - accuracy: 1.0000 - val_loss: 7.5513e-04 - val_accuracy: 1.0000\n",
            "INFO:tensorflow:Assets written to: trained_models/ann/assets\n",
            "Epoch 31/100\n",
            "20/20 [==============================] - 0s 5ms/step - loss: 4.2438e-04 - accuracy: 1.0000 - val_loss: 7.0865e-04 - val_accuracy: 1.0000\n",
            "INFO:tensorflow:Assets written to: trained_models/ann/assets\n",
            "Epoch 32/100\n",
            "20/20 [==============================] - 0s 4ms/step - loss: 3.9264e-04 - accuracy: 1.0000 - val_loss: 6.8913e-04 - val_accuracy: 1.0000\n",
            "INFO:tensorflow:Assets written to: trained_models/ann/assets\n",
            "Epoch 33/100\n",
            "20/20 [==============================] - 0s 3ms/step - loss: 3.8728e-04 - accuracy: 1.0000 - val_loss: 6.7139e-04 - val_accuracy: 1.0000\n",
            "INFO:tensorflow:Assets written to: trained_models/ann/assets\n",
            "Epoch 34/100\n",
            "20/20 [==============================] - 0s 3ms/step - loss: 3.7001e-04 - accuracy: 1.0000 - val_loss: 6.2423e-04 - val_accuracy: 1.0000\n",
            "INFO:tensorflow:Assets written to: trained_models/ann/assets\n",
            "Epoch 35/100\n",
            "20/20 [==============================] - 0s 3ms/step - loss: 3.1817e-04 - accuracy: 1.0000 - val_loss: 5.9738e-04 - val_accuracy: 1.0000\n",
            "INFO:tensorflow:Assets written to: trained_models/ann/assets\n",
            "Epoch 36/100\n",
            "20/20 [==============================] - 0s 3ms/step - loss: 2.7949e-04 - accuracy: 1.0000 - val_loss: 5.9082e-04 - val_accuracy: 1.0000\n",
            "INFO:tensorflow:Assets written to: trained_models/ann/assets\n",
            "Epoch 37/100\n",
            "20/20 [==============================] - 0s 3ms/step - loss: 2.9520e-04 - accuracy: 1.0000 - val_loss: 5.6628e-04 - val_accuracy: 1.0000\n",
            "INFO:tensorflow:Assets written to: trained_models/ann/assets\n",
            "Epoch 38/100\n",
            "20/20 [==============================] - 0s 3ms/step - loss: 2.6573e-04 - accuracy: 1.0000 - val_loss: 5.4677e-04 - val_accuracy: 1.0000\n",
            "INFO:tensorflow:Assets written to: trained_models/ann/assets\n",
            "Epoch 39/100\n",
            "20/20 [==============================] - 0s 3ms/step - loss: 2.5825e-04 - accuracy: 1.0000 - val_loss: 5.5449e-04 - val_accuracy: 1.0000\n",
            "Epoch 40/100\n",
            "20/20 [==============================] - 0s 4ms/step - loss: 2.4869e-04 - accuracy: 1.0000 - val_loss: 5.2492e-04 - val_accuracy: 1.0000\n",
            "INFO:tensorflow:Assets written to: trained_models/ann/assets\n",
            "Epoch 41/100\n",
            "20/20 [==============================] - 0s 5ms/step - loss: 2.1377e-04 - accuracy: 1.0000 - val_loss: 4.9829e-04 - val_accuracy: 1.0000\n",
            "INFO:tensorflow:Assets written to: trained_models/ann/assets\n",
            "Epoch 42/100\n",
            "20/20 [==============================] - 0s 3ms/step - loss: 2.1563e-04 - accuracy: 1.0000 - val_loss: 5.0927e-04 - val_accuracy: 1.0000\n",
            "Epoch 43/100\n",
            "20/20 [==============================] - 0s 3ms/step - loss: 2.1454e-04 - accuracy: 1.0000 - val_loss: 4.7686e-04 - val_accuracy: 1.0000\n",
            "INFO:tensorflow:Assets written to: trained_models/ann/assets\n",
            "Epoch 44/100\n",
            "20/20 [==============================] - 0s 3ms/step - loss: 1.6557e-04 - accuracy: 1.0000 - val_loss: 4.6340e-04 - val_accuracy: 1.0000\n",
            "INFO:tensorflow:Assets written to: trained_models/ann/assets\n",
            "Epoch 45/100\n",
            "20/20 [==============================] - 0s 3ms/step - loss: 1.9656e-04 - accuracy: 1.0000 - val_loss: 4.6381e-04 - val_accuracy: 1.0000\n",
            "Epoch 46/100\n",
            "20/20 [==============================] - 0s 3ms/step - loss: 1.6683e-04 - accuracy: 1.0000 - val_loss: 4.6354e-04 - val_accuracy: 1.0000\n",
            "Epoch 47/100\n",
            "20/20 [==============================] - 0s 2ms/step - loss: 1.6428e-04 - accuracy: 1.0000 - val_loss: 4.4992e-04 - val_accuracy: 1.0000\n",
            "INFO:tensorflow:Assets written to: trained_models/ann/assets\n",
            "Epoch 48/100\n",
            "20/20 [==============================] - 0s 3ms/step - loss: 1.6126e-04 - accuracy: 1.0000 - val_loss: 4.3599e-04 - val_accuracy: 1.0000\n",
            "INFO:tensorflow:Assets written to: trained_models/ann/assets\n",
            "Epoch 49/100\n",
            "20/20 [==============================] - 0s 3ms/step - loss: 1.4946e-04 - accuracy: 1.0000 - val_loss: 4.2553e-04 - val_accuracy: 1.0000\n",
            "INFO:tensorflow:Assets written to: trained_models/ann/assets\n",
            "Epoch 50/100\n",
            "20/20 [==============================] - 0s 3ms/step - loss: 1.4817e-04 - accuracy: 1.0000 - val_loss: 4.1622e-04 - val_accuracy: 1.0000\n",
            "INFO:tensorflow:Assets written to: trained_models/ann/assets\n",
            "Epoch 51/100\n",
            "20/20 [==============================] - 0s 2ms/step - loss: 1.3987e-04 - accuracy: 1.0000 - val_loss: 4.0531e-04 - val_accuracy: 1.0000\n",
            "INFO:tensorflow:Assets written to: trained_models/ann/assets\n",
            "Epoch 52/100\n",
            "20/20 [==============================] - 0s 2ms/step - loss: 1.4844e-04 - accuracy: 1.0000 - val_loss: 4.0014e-04 - val_accuracy: 1.0000\n",
            "INFO:tensorflow:Assets written to: trained_models/ann/assets\n",
            "Epoch 53/100\n",
            "20/20 [==============================] - 0s 2ms/step - loss: 1.3572e-04 - accuracy: 1.0000 - val_loss: 3.9363e-04 - val_accuracy: 1.0000\n",
            "INFO:tensorflow:Assets written to: trained_models/ann/assets\n",
            "Epoch 54/100\n",
            "20/20 [==============================] - 0s 3ms/step - loss: 1.2629e-04 - accuracy: 1.0000 - val_loss: 3.9031e-04 - val_accuracy: 1.0000\n",
            "INFO:tensorflow:Assets written to: trained_models/ann/assets\n",
            "Epoch 55/100\n",
            "20/20 [==============================] - 0s 3ms/step - loss: 1.1271e-04 - accuracy: 1.0000 - val_loss: 3.8221e-04 - val_accuracy: 1.0000\n",
            "INFO:tensorflow:Assets written to: trained_models/ann/assets\n",
            "Epoch 56/100\n",
            "20/20 [==============================] - 0s 2ms/step - loss: 9.5192e-05 - accuracy: 1.0000 - val_loss: 3.7749e-04 - val_accuracy: 1.0000\n",
            "INFO:tensorflow:Assets written to: trained_models/ann/assets\n",
            "Epoch 57/100\n",
            "20/20 [==============================] - 0s 3ms/step - loss: 1.0298e-04 - accuracy: 1.0000 - val_loss: 3.7545e-04 - val_accuracy: 1.0000\n",
            "INFO:tensorflow:Assets written to: trained_models/ann/assets\n",
            "Epoch 58/100\n",
            "20/20 [==============================] - 0s 3ms/step - loss: 8.4364e-05 - accuracy: 1.0000 - val_loss: 3.6938e-04 - val_accuracy: 1.0000\n",
            "INFO:tensorflow:Assets written to: trained_models/ann/assets\n",
            "Epoch 59/100\n",
            "20/20 [==============================] - 0s 3ms/step - loss: 9.2839e-05 - accuracy: 1.0000 - val_loss: 3.7814e-04 - val_accuracy: 1.0000\n",
            "Epoch 60/100\n",
            "20/20 [==============================] - 0s 2ms/step - loss: 8.7532e-05 - accuracy: 1.0000 - val_loss: 3.7060e-04 - val_accuracy: 1.0000\n",
            "Epoch 61/100\n",
            "20/20 [==============================] - 0s 3ms/step - loss: 9.2292e-05 - accuracy: 1.0000 - val_loss: 3.6034e-04 - val_accuracy: 1.0000\n",
            "INFO:tensorflow:Assets written to: trained_models/ann/assets\n",
            "Epoch 62/100\n",
            "20/20 [==============================] - 0s 3ms/step - loss: 8.9659e-05 - accuracy: 1.0000 - val_loss: 3.5267e-04 - val_accuracy: 1.0000\n",
            "INFO:tensorflow:Assets written to: trained_models/ann/assets\n",
            "Epoch 63/100\n",
            "20/20 [==============================] - 0s 2ms/step - loss: 7.9229e-05 - accuracy: 1.0000 - val_loss: 3.5192e-04 - val_accuracy: 1.0000\n",
            "INFO:tensorflow:Assets written to: trained_models/ann/assets\n",
            "Epoch 64/100\n",
            "20/20 [==============================] - 0s 2ms/step - loss: 7.7822e-05 - accuracy: 1.0000 - val_loss: 3.4711e-04 - val_accuracy: 1.0000\n",
            "INFO:tensorflow:Assets written to: trained_models/ann/assets\n",
            "Epoch 65/100\n",
            "20/20 [==============================] - 0s 2ms/step - loss: 7.1869e-05 - accuracy: 1.0000 - val_loss: 3.4574e-04 - val_accuracy: 1.0000\n",
            "INFO:tensorflow:Assets written to: trained_models/ann/assets\n",
            "Epoch 66/100\n",
            "20/20 [==============================] - 0s 2ms/step - loss: 8.1691e-05 - accuracy: 1.0000 - val_loss: 3.3939e-04 - val_accuracy: 1.0000\n",
            "INFO:tensorflow:Assets written to: trained_models/ann/assets\n",
            "Epoch 67/100\n",
            "20/20 [==============================] - 0s 2ms/step - loss: 6.5483e-05 - accuracy: 1.0000 - val_loss: 3.4121e-04 - val_accuracy: 1.0000\n",
            "Epoch 68/100\n",
            "20/20 [==============================] - 0s 2ms/step - loss: 6.7956e-05 - accuracy: 1.0000 - val_loss: 3.3512e-04 - val_accuracy: 1.0000\n",
            "INFO:tensorflow:Assets written to: trained_models/ann/assets\n",
            "Epoch 69/100\n",
            "20/20 [==============================] - 0s 2ms/step - loss: 5.9388e-05 - accuracy: 1.0000 - val_loss: 3.3105e-04 - val_accuracy: 1.0000\n",
            "INFO:tensorflow:Assets written to: trained_models/ann/assets\n",
            "Epoch 70/100\n",
            "20/20 [==============================] - 0s 3ms/step - loss: 6.6925e-05 - accuracy: 1.0000 - val_loss: 3.3167e-04 - val_accuracy: 1.0000\n",
            "Epoch 71/100\n",
            "20/20 [==============================] - 0s 2ms/step - loss: 6.2517e-05 - accuracy: 1.0000 - val_loss: 3.2546e-04 - val_accuracy: 1.0000\n",
            "INFO:tensorflow:Assets written to: trained_models/ann/assets\n",
            "Epoch 72/100\n",
            "20/20 [==============================] - 0s 2ms/step - loss: 6.0422e-05 - accuracy: 1.0000 - val_loss: 3.2499e-04 - val_accuracy: 1.0000\n",
            "INFO:tensorflow:Assets written to: trained_models/ann/assets\n",
            "Epoch 73/100\n",
            "20/20 [==============================] - 0s 2ms/step - loss: 5.5102e-05 - accuracy: 1.0000 - val_loss: 3.2494e-04 - val_accuracy: 1.0000\n",
            "INFO:tensorflow:Assets written to: trained_models/ann/assets\n",
            "Epoch 74/100\n",
            "20/20 [==============================] - 0s 3ms/step - loss: 6.1985e-05 - accuracy: 1.0000 - val_loss: 3.1990e-04 - val_accuracy: 1.0000\n",
            "INFO:tensorflow:Assets written to: trained_models/ann/assets\n",
            "Epoch 75/100\n",
            "20/20 [==============================] - 0s 3ms/step - loss: 4.5998e-05 - accuracy: 1.0000 - val_loss: 3.1740e-04 - val_accuracy: 1.0000\n",
            "INFO:tensorflow:Assets written to: trained_models/ann/assets\n",
            "Epoch 76/100\n",
            "20/20 [==============================] - 0s 3ms/step - loss: 5.7399e-05 - accuracy: 1.0000 - val_loss: 3.1552e-04 - val_accuracy: 1.0000\n",
            "INFO:tensorflow:Assets written to: trained_models/ann/assets\n",
            "Epoch 77/100\n",
            "20/20 [==============================] - 0s 3ms/step - loss: 4.6023e-05 - accuracy: 1.0000 - val_loss: 3.1169e-04 - val_accuracy: 1.0000\n",
            "INFO:tensorflow:Assets written to: trained_models/ann/assets\n",
            "Epoch 78/100\n",
            "20/20 [==============================] - 0s 3ms/step - loss: 4.7553e-05 - accuracy: 1.0000 - val_loss: 3.1319e-04 - val_accuracy: 1.0000\n",
            "Epoch 79/100\n",
            "20/20 [==============================] - 0s 2ms/step - loss: 4.2375e-05 - accuracy: 1.0000 - val_loss: 3.0877e-04 - val_accuracy: 1.0000\n",
            "INFO:tensorflow:Assets written to: trained_models/ann/assets\n",
            "Epoch 80/100\n",
            "20/20 [==============================] - 0s 2ms/step - loss: 4.3951e-05 - accuracy: 1.0000 - val_loss: 3.0718e-04 - val_accuracy: 1.0000\n",
            "INFO:tensorflow:Assets written to: trained_models/ann/assets\n",
            "Epoch 81/100\n",
            "20/20 [==============================] - 0s 3ms/step - loss: 4.2906e-05 - accuracy: 1.0000 - val_loss: 3.0486e-04 - val_accuracy: 1.0000\n",
            "INFO:tensorflow:Assets written to: trained_models/ann/assets\n",
            "Epoch 82/100\n",
            "20/20 [==============================] - 0s 3ms/step - loss: 3.9507e-05 - accuracy: 1.0000 - val_loss: 3.0735e-04 - val_accuracy: 1.0000\n",
            "Epoch 83/100\n",
            "20/20 [==============================] - 0s 2ms/step - loss: 4.0544e-05 - accuracy: 1.0000 - val_loss: 3.0523e-04 - val_accuracy: 1.0000\n",
            "Epoch 84/100\n",
            "20/20 [==============================] - 0s 2ms/step - loss: 4.1247e-05 - accuracy: 1.0000 - val_loss: 2.9879e-04 - val_accuracy: 1.0000\n",
            "INFO:tensorflow:Assets written to: trained_models/ann/assets\n",
            "Epoch 85/100\n",
            "20/20 [==============================] - 0s 2ms/step - loss: 4.4918e-05 - accuracy: 1.0000 - val_loss: 3.0345e-04 - val_accuracy: 1.0000\n",
            "Epoch 86/100\n",
            "20/20 [==============================] - 0s 2ms/step - loss: 3.8687e-05 - accuracy: 1.0000 - val_loss: 3.0066e-04 - val_accuracy: 1.0000\n",
            "Epoch 87/100\n",
            "20/20 [==============================] - 0s 2ms/step - loss: 3.4397e-05 - accuracy: 1.0000 - val_loss: 3.0226e-04 - val_accuracy: 1.0000\n",
            "Epoch 88/100\n",
            "20/20 [==============================] - 0s 2ms/step - loss: 3.6471e-05 - accuracy: 1.0000 - val_loss: 2.9882e-04 - val_accuracy: 1.0000\n",
            "Epoch 89/100\n",
            "20/20 [==============================] - 0s 3ms/step - loss: 3.6338e-05 - accuracy: 1.0000 - val_loss: 2.9788e-04 - val_accuracy: 1.0000\n",
            "INFO:tensorflow:Assets written to: trained_models/ann/assets\n",
            "Epoch 90/100\n",
            "20/20 [==============================] - 0s 3ms/step - loss: 3.5327e-05 - accuracy: 1.0000 - val_loss: 2.9406e-04 - val_accuracy: 1.0000\n",
            "INFO:tensorflow:Assets written to: trained_models/ann/assets\n",
            "Epoch 91/100\n",
            "20/20 [==============================] - 0s 2ms/step - loss: 3.2702e-05 - accuracy: 1.0000 - val_loss: 2.9298e-04 - val_accuracy: 1.0000\n",
            "INFO:tensorflow:Assets written to: trained_models/ann/assets\n",
            "Epoch 92/100\n",
            "20/20 [==============================] - 0s 2ms/step - loss: 3.3259e-05 - accuracy: 1.0000 - val_loss: 2.9250e-04 - val_accuracy: 1.0000\n",
            "INFO:tensorflow:Assets written to: trained_models/ann/assets\n",
            "Epoch 93/100\n",
            "20/20 [==============================] - 0s 3ms/step - loss: 3.1673e-05 - accuracy: 1.0000 - val_loss: 2.8876e-04 - val_accuracy: 1.0000\n",
            "INFO:tensorflow:Assets written to: trained_models/ann/assets\n",
            "Epoch 94/100\n",
            "20/20 [==============================] - 0s 3ms/step - loss: 3.0691e-05 - accuracy: 1.0000 - val_loss: 2.8687e-04 - val_accuracy: 1.0000\n",
            "INFO:tensorflow:Assets written to: trained_models/ann/assets\n",
            "Epoch 95/100\n",
            "20/20 [==============================] - 0s 3ms/step - loss: 2.9250e-05 - accuracy: 1.0000 - val_loss: 2.9076e-04 - val_accuracy: 1.0000\n",
            "Epoch 96/100\n",
            "20/20 [==============================] - 0s 2ms/step - loss: 3.2044e-05 - accuracy: 1.0000 - val_loss: 2.8774e-04 - val_accuracy: 1.0000\n",
            "Epoch 97/100\n",
            "20/20 [==============================] - 0s 4ms/step - loss: 3.4638e-05 - accuracy: 1.0000 - val_loss: 2.8796e-04 - val_accuracy: 1.0000\n",
            "Epoch 98/100\n",
            "20/20 [==============================] - 0s 4ms/step - loss: 2.7098e-05 - accuracy: 1.0000 - val_loss: 2.8452e-04 - val_accuracy: 1.0000\n",
            "INFO:tensorflow:Assets written to: trained_models/ann/assets\n",
            "Epoch 99/100\n",
            "20/20 [==============================] - 0s 3ms/step - loss: 2.8814e-05 - accuracy: 1.0000 - val_loss: 2.8257e-04 - val_accuracy: 1.0000\n",
            "INFO:tensorflow:Assets written to: trained_models/ann/assets\n",
            "Epoch 100/100\n",
            "20/20 [==============================] - 0s 3ms/step - loss: 2.5855e-05 - accuracy: 1.0000 - val_loss: 2.8111e-04 - val_accuracy: 1.0000\n",
            "INFO:tensorflow:Assets written to: trained_models/ann/assets\n",
            "Complete. \n",
            "Model trained in 45.24 sec\n"
          ]
        }
      ],
      "source": [
        "#Fit\n",
        "start = time()\n",
        "history = model.fit(\n",
        "    x_train,\n",
        "    y_train,\n",
        "    validation_data=(x_val, y_val),\n",
        "    callbacks=callbacks,\n",
        "    epochs=100,\n",
        "    batch_size=100,\n",
        "    verbose=1 \n",
        ")\n",
        "\n",
        "\n",
        "print(f'Complete. \\nModel trained in {round(time()-start, 2)} sec')"
      ]
    },
    {
      "cell_type": "code",
      "execution_count": 8,
      "metadata": {
        "colab": {
          "base_uri": "https://localhost:8080/",
          "height": 783
        },
        "id": "_cawDC-iNxFi",
        "outputId": "4275db0e-097f-491e-e8fc-47090cee4339"
      },
      "outputs": [
        {
          "name": "stdout",
          "output_type": "stream",
          "text": [
            "\n",
            "Training accuracy: 100.0%\n",
            "Training loss: 0.0\n",
            "\n",
            "Validation accuracy: 100.0%\n",
            "Validation loss: 0.0003\n"
          ]
        },
        {
          "data": {
            "image/png": "[encoded data removed]",
            "text/plain": [
              "<Figure size 720x360 with 1 Axes>"
            ]
          },
          "metadata": {
            "needs_background": "light"
          },
          "output_type": "display_data"
        },
        {
          "data": {
            "image/png": "[encoded data removed]",
            "text/plain": [
              "<Figure size 720x360 with 1 Axes>"
            ]
          },
          "metadata": {
            "needs_background": "light"
          },
          "output_type": "display_data"
        }
      ],
      "source": [
        "title_loss = 'ANN - Training & Validation Loss'\n",
        "title_acc = 'ANN - Training & Validation Accuracy'\n",
        "path_loss = 'img/models/ann_loss'\n",
        "path_acc = 'img/models/ann_acc'\n",
        "\n",
        "plot_train_val(history, title_acc=title_acc, title_loss=title_loss, path_acc=path_acc, path_loss=path_loss)"
      ]
    },
    {
      "cell_type": "markdown",
      "metadata": {
        "id": "zHul7a4JAyIe"
      },
      "source": [
        "## Evaluation Metrics\n",
        "---"
      ]
    },
    {
      "cell_type": "code",
      "execution_count": 9,
      "metadata": {
        "colab": {
          "base_uri": "https://localhost:8080/"
        },
        "id": "6cdujOYVAyIf",
        "outputId": "6b78ee70-52d6-46b8-95b0-8e9eea6426ff"
      },
      "outputs": [
        {
          "name": "stdout",
          "output_type": "stream",
          "text": [
            "Accuracy:  1.0\n",
            "Precision:  1.0\n",
            "Recall:  1.0\n",
            "F1-score:  1.0\n",
            "AUC:  1.0\n"
          ]
        }
      ],
      "source": [
        "y_pred = np.argmax(model.predict(x_test), axis=-1) \n",
        "y_true = np.argmax(y_test, axis=-1) \n",
        "\n",
        "acc = accuracy_score(y_true, y_pred)\n",
        "recall = recall_score(y_true, y_pred, average='weighted')\n",
        "precision  = precision_score(y_true, y_pred, average='weighted')\n",
        "f1  = f1_score(y_true, y_pred, average='weighted')\n",
        "auc  = roc_auc_score(y_true, y_pred, average='weighted', multi_class='ovr')\n",
        "\n",
        "print('Accuracy: ', acc)\n",
        "print('Precision: ', recall)\n",
        "print('Recall: ', precision)\n",
        "print('F1-score: ', f1)\n",
        "print('AUC: ', auc)"
      ]
    },
    {
      "cell_type": "markdown",
      "metadata": {},
      "source": [
        "## Confusion Matrix\n",
        "\n",
        "---"
      ]
    },
    {
      "cell_type": "code",
      "execution_count": 10,
      "metadata": {},
      "outputs": [],
      "source": [
        "font = {'size': 16}\n",
        "labels = ['Normal', 'DoS']"
      ]
    },
    {
      "cell_type": "code",
      "execution_count": 11,
      "metadata": {},
      "outputs": [
        {
          "data": {
            "image/png": "[encoded data removed]",
            "text/plain": [
              "<Figure size 504x432 with 2 Axes>"
            ]
          },
          "metadata": {
            "needs_background": "light"
          },
          "output_type": "display_data"
        }
      ],
      "source": [
        "confusion = confusion_matrix(y_true, y_pred)\n",
        "plt.figure(figsize=(7,6))\n",
        "sns.heatmap(confusion, annot=True, linewidths=0.8, xticklabels=labels, yticklabels=labels, fmt='d', cmap='Blues')\n",
        "plt.title(f'ANN - Confusion Matrix', fontsize=20) \n",
        "plt.xlabel('Predicted', fontdict=font)\n",
        "plt.ylabel('True', fontdict=font)\n",
        "\n",
        "plt.savefig('img/models/ann_cm', bbox_inches=\"tight\") "
      ]
    },
    {
      "cell_type": "code",
      "execution_count": null,
      "metadata": {},
      "outputs": [],
      "source": []
    }
  ],
  "metadata": {
    "colab": {
      "collapsed_sections": [],
      "name": "ann.ipynb",
      "provenance": []
    },
    "interpreter": {
      "hash": "15d99b9aa0dbf3a358312963825951c4e42cc1dea07b49971ebf26684bae64aa"
    },
    "kernelspec": {
      "display_name": "Python 3.8.3 64-bit ('base': conda)",
      "name": "python3"
    },
    "language_info": {
      "codemirror_mode": {
        "name": "ipython",
        "version": 3
      },
      "file_extension": ".py",
      "mimetype": "text/x-python",
      "name": "python",
      "nbconvert_exporter": "python",
      "pygments_lexer": "ipython3",
      "version": "3.8.3"
    },
    "orig_nbformat": 4
  },
  "nbformat": 4,
  "nbformat_minor": 0
}
