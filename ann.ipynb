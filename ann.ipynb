{
  "cells": [
    {
      "cell_type": "code",
      "execution_count": 1,
      "metadata": {
        "colab": {
          "base_uri": "https://localhost:8080/"
        },
        "id": "Bn8_qUnSAyIU",
        "outputId": "99aedeca-3a33-4214-d704-096da314372d"
      },
      "outputs": [],
      "source": [
        "from keras.models import Sequential\n",
        "from keras.layers import Dense\n",
        "from keras.optimizers import Adam\n",
        "from sklearn.model_selection import train_test_split\n",
        "from sklearn.preprocessing import MinMaxScaler\n",
        "from keras.backend import clear_session\n",
        "from tensorflow.keras.utils import to_categorical\n",
        "from sklearn.metrics import *\n",
        "from time import time\n",
        "import numpy as np\n",
        "import matplotlib.pyplot as plt\n",
        "import seaborn as sns\n",
        "import pandas as pd\n",
        "from keras.callbacks import ModelCheckpoint\n",
        "import import_ipynb\n",
        "from functions import * #custom functions"
      ]
    },
    {
      "cell_type": "markdown",
      "metadata": {
        "id": "O6PJmvWjAyIa"
      },
      "source": [
        "## Load Data\n",
        "\n",
        "---"
      ]
    },
    {
      "cell_type": "code",
      "execution_count": 3,
      "metadata": {
        "colab": {
          "base_uri": "https://localhost:8080/"
        },
        "id": "miDlixq1LES5",
        "outputId": "18997ef5-f69d-4ce9-abd3-892cbe1445cc"
      },
      "outputs": [
        {
          "name": "stdout",
          "output_type": "stream",
          "text": [
            "x_train shape:  (1922, 165)\n",
            "y_train shape:  (1922, 2)\n",
            "x_test shape:  (412, 165)\n",
            "y_test shape:  (412, 2)\n",
            "x_val shape:  (413, 165)\n",
            "y_val shape:  (413, 2)\n"
          ]
        }
      ],
      "source": [
        "data = np.load('data/data.npz', allow_pickle=True)\n",
        "\n",
        "x_train = data['x_train']\n",
        "y_train = data['y_train']\n",
        "x_test = data['x_test']\n",
        "y_test = data['y_test']\n",
        "x_val = data['x_val']\n",
        "y_val = data['y_val']\n",
        "\n",
        "\n",
        "print('x_train shape: ', x_train.shape)\n",
        "print('y_train shape: ', y_train.shape)\n",
        "print('x_test shape: ', x_test.shape)\n",
        "print('y_test shape: ', y_test.shape)\n",
        "print('x_val shape: ', x_val.shape)\n",
        "print('y_val shape: ', y_val.shape)"
      ]
    },
    {
      "cell_type": "markdown",
      "metadata": {
        "id": "2SVKPf-bAyIb"
      },
      "source": [
        "## ANN Model\n",
        "\n",
        "\n",
        "*'DEEP-INTRUSION DETECTION SYSTEM WITH ENHANCED UNSW-NB15 DATASET BASED ON DEEP LEARNING TECHNIQUES', A.M. ALEESA, MOHAMMED YOUNIS, AHMED A. MOHAMMED, NAN M. SAHAR*\n",
        "\n",
        "\n",
        "---"
      ]
    },
    {
      "cell_type": "markdown",
      "metadata": {},
      "source": [
        "<img src='img/models/ann.png'>"
      ]
    },
    {
      "cell_type": "code",
      "execution_count": 4,
      "metadata": {
        "colab": {
          "base_uri": "https://localhost:8080/"
        },
        "id": "mo9bftx3AyIc",
        "outputId": "e61229fc-8db3-44bd-9a7c-c529756d0b89"
      },
      "outputs": [
        {
          "name": "stdout",
          "output_type": "stream",
          "text": [
            "Model: \"sequential\"\n",
            "_________________________________________________________________\n",
            "Layer (type)                 Output Shape              Param #   \n",
            "=================================================================\n",
            "dense (Dense)                (None, 850)               141100    \n",
            "_________________________________________________________________\n",
            "dense_1 (Dense)              (None, 2)                 1702      \n",
            "=================================================================\n",
            "Total params: 142,802\n",
            "Trainable params: 142,802\n",
            "Non-trainable params: 0\n",
            "_________________________________________________________________\n"
          ]
        }
      ],
      "source": [
        "#Define\n",
        "model = Sequential()\n",
        "\n",
        "model.add(Dense(input_dim=x_train.shape[1], units=850, activation='relu')) #input & hidden layer 1\n",
        "model.add(Dense(units=2, activation='softmax')) #output/prediction layer\n",
        "\n",
        "model.summary() #display model architecture information"
      ]
    },
    {
      "cell_type": "code",
      "execution_count": 5,
      "metadata": {
        "id": "TVbNrQHKAyIc"
      },
      "outputs": [],
      "source": [
        "#Compile\n",
        "model.compile(loss=\"binary_crossentropy\",  #they did not specify loss function, assume binary cross entropy\n",
        "        optimizer=Adam(learning_rate=0.001), #they did not specify learning rate, placeholder value for now\n",
        "        metrics=[\"accuracy\"])"
      ]
    },
    {
      "cell_type": "code",
      "execution_count": 6,
      "metadata": {},
      "outputs": [],
      "source": [
        "#Best model callback\n",
        "model_path = 'trained_models/ann'\n",
        "checkpoint = ModelCheckpoint(\n",
        "    filepath=model_path, \n",
        "    monitor='val_loss', #save model based on best validation loss\n",
        "    verbose=0, \n",
        "    save_best_only=True,\n",
        "    mode='min')\n",
        "callbacks = [checkpoint]"
      ]
    },
    {
      "cell_type": "code",
      "execution_count": 7,
      "metadata": {
        "colab": {
          "base_uri": "https://localhost:8080/"
        },
        "id": "GrPLP4MfAyId",
        "outputId": "61cd8486-aad1-4302-ab09-94babe7c2498"
      },
      "outputs": [
        {
          "name": "stdout",
          "output_type": "stream",
          "text": [
            "Epoch 1/100\n",
            "20/20 [==============================] - 11s 25ms/step - loss: 0.5970 - accuracy: 0.6469 - val_loss: 0.4102 - val_accuracy: 0.8111\n",
            "INFO:tensorflow:Assets written to: trained_models/ann/assets\n",
            "Epoch 2/100\n",
            "20/20 [==============================] - 0s 4ms/step - loss: 0.3314 - accuracy: 0.8457 - val_loss: 0.2101 - val_accuracy: 0.9637\n",
            "INFO:tensorflow:Assets written to: trained_models/ann/assets\n",
            "Epoch 3/100\n",
            "20/20 [==============================] - 0s 3ms/step - loss: 0.1807 - accuracy: 0.9522 - val_loss: 0.1004 - val_accuracy: 0.9806\n",
            "INFO:tensorflow:Assets written to: trained_models/ann/assets\n",
            "Epoch 4/100\n",
            "20/20 [==============================] - 0s 3ms/step - loss: 0.0868 - accuracy: 0.9959 - val_loss: 0.0544 - val_accuracy: 0.9976\n",
            "INFO:tensorflow:Assets written to: trained_models/ann/assets\n",
            "Epoch 5/100\n",
            "20/20 [==============================] - 0s 3ms/step - loss: 0.0499 - accuracy: 0.9978 - val_loss: 0.0325 - val_accuracy: 0.9976\n",
            "INFO:tensorflow:Assets written to: trained_models/ann/assets\n",
            "Epoch 6/100\n",
            "20/20 [==============================] - 0s 6ms/step - loss: 0.0331 - accuracy: 0.9957 - val_loss: 0.0212 - val_accuracy: 0.9976\n",
            "INFO:tensorflow:Assets written to: trained_models/ann/assets\n",
            "Epoch 7/100\n",
            "20/20 [==============================] - 0s 4ms/step - loss: 0.0194 - accuracy: 0.9984 - val_loss: 0.0149 - val_accuracy: 0.9976\n",
            "INFO:tensorflow:Assets written to: trained_models/ann/assets\n",
            "Epoch 8/100\n",
            "20/20 [==============================] - 0s 6ms/step - loss: 0.0142 - accuracy: 0.9991 - val_loss: 0.0107 - val_accuracy: 1.0000\n",
            "INFO:tensorflow:Assets written to: trained_models/ann/assets\n",
            "Epoch 9/100\n",
            "20/20 [==============================] - 0s 5ms/step - loss: 0.0098 - accuracy: 1.0000 - val_loss: 0.0082 - val_accuracy: 1.0000\n",
            "INFO:tensorflow:Assets written to: trained_models/ann/assets\n",
            "Epoch 10/100\n",
            "20/20 [==============================] - 0s 4ms/step - loss: 0.0076 - accuracy: 1.0000 - val_loss: 0.0066 - val_accuracy: 1.0000\n",
            "INFO:tensorflow:Assets written to: trained_models/ann/assets\n",
            "Epoch 11/100\n",
            "20/20 [==============================] - 0s 5ms/step - loss: 0.0066 - accuracy: 1.0000 - val_loss: 0.0053 - val_accuracy: 1.0000\n",
            "INFO:tensorflow:Assets written to: trained_models/ann/assets\n",
            "Epoch 12/100\n",
            "20/20 [==============================] - 0s 5ms/step - loss: 0.0052 - accuracy: 1.0000 - val_loss: 0.0043 - val_accuracy: 1.0000\n",
            "INFO:tensorflow:Assets written to: trained_models/ann/assets\n",
            "Epoch 13/100\n",
            "20/20 [==============================] - 0s 4ms/step - loss: 0.0040 - accuracy: 1.0000 - val_loss: 0.0037 - val_accuracy: 1.0000\n",
            "INFO:tensorflow:Assets written to: trained_models/ann/assets\n",
            "Epoch 14/100\n",
            "20/20 [==============================] - 0s 7ms/step - loss: 0.0037 - accuracy: 1.0000 - val_loss: 0.0032 - val_accuracy: 1.0000\n",
            "INFO:tensorflow:Assets written to: trained_models/ann/assets\n",
            "Epoch 15/100\n",
            "20/20 [==============================] - 0s 5ms/step - loss: 0.0028 - accuracy: 1.0000 - val_loss: 0.0027 - val_accuracy: 1.0000\n",
            "INFO:tensorflow:Assets written to: trained_models/ann/assets\n",
            "Epoch 16/100\n",
            "20/20 [==============================] - 0s 4ms/step - loss: 0.0024 - accuracy: 1.0000 - val_loss: 0.0023 - val_accuracy: 1.0000\n",
            "INFO:tensorflow:Assets written to: trained_models/ann/assets\n",
            "Epoch 17/100\n",
            "20/20 [==============================] - 0s 3ms/step - loss: 0.0022 - accuracy: 1.0000 - val_loss: 0.0021 - val_accuracy: 1.0000\n",
            "INFO:tensorflow:Assets written to: trained_models/ann/assets\n",
            "Epoch 18/100\n",
            "20/20 [==============================] - 0s 3ms/step - loss: 0.0019 - accuracy: 1.0000 - val_loss: 0.0018 - val_accuracy: 1.0000\n",
            "INFO:tensorflow:Assets written to: trained_models/ann/assets\n",
            "Epoch 19/100\n",
            "20/20 [==============================] - 0s 4ms/step - loss: 0.0017 - accuracy: 1.0000 - val_loss: 0.0016 - val_accuracy: 1.0000\n",
            "INFO:tensorflow:Assets written to: trained_models/ann/assets\n",
            "Epoch 20/100\n",
            "20/20 [==============================] - 0s 4ms/step - loss: 0.0013 - accuracy: 1.0000 - val_loss: 0.0015 - val_accuracy: 1.0000\n",
            "INFO:tensorflow:Assets written to: trained_models/ann/assets\n",
            "Epoch 21/100\n",
            "20/20 [==============================] - 0s 8ms/step - loss: 0.0012 - accuracy: 1.0000 - val_loss: 0.0014 - val_accuracy: 1.0000\n",
            "INFO:tensorflow:Assets written to: trained_models/ann/assets\n",
            "Epoch 22/100\n",
            "20/20 [==============================] - 0s 6ms/step - loss: 0.0011 - accuracy: 1.0000 - val_loss: 0.0012 - val_accuracy: 1.0000\n",
            "INFO:tensorflow:Assets written to: trained_models/ann/assets\n",
            "Epoch 23/100\n",
            "20/20 [==============================] - 0s 5ms/step - loss: 0.0010 - accuracy: 1.0000 - val_loss: 0.0011 - val_accuracy: 1.0000\n",
            "INFO:tensorflow:Assets written to: trained_models/ann/assets\n",
            "Epoch 24/100\n",
            "20/20 [==============================] - 0s 5ms/step - loss: 8.9936e-04 - accuracy: 1.0000 - val_loss: 0.0011 - val_accuracy: 1.0000\n",
            "INFO:tensorflow:Assets written to: trained_models/ann/assets\n",
            "Epoch 25/100\n",
            "20/20 [==============================] - 0s 6ms/step - loss: 8.1914e-04 - accuracy: 1.0000 - val_loss: 9.8704e-04 - val_accuracy: 1.0000\n",
            "INFO:tensorflow:Assets written to: trained_models/ann/assets\n",
            "Epoch 26/100\n",
            "20/20 [==============================] - 0s 4ms/step - loss: 6.9999e-04 - accuracy: 1.0000 - val_loss: 9.1816e-04 - val_accuracy: 1.0000\n",
            "INFO:tensorflow:Assets written to: trained_models/ann/assets\n",
            "Epoch 27/100\n",
            "20/20 [==============================] - 0s 6ms/step - loss: 8.3024e-04 - accuracy: 1.0000 - val_loss: 8.7507e-04 - val_accuracy: 1.0000\n",
            "INFO:tensorflow:Assets written to: trained_models/ann/assets\n",
            "Epoch 28/100\n",
            "20/20 [==============================] - 0s 6ms/step - loss: 6.5947e-04 - accuracy: 1.0000 - val_loss: 8.0947e-04 - val_accuracy: 1.0000\n",
            "INFO:tensorflow:Assets written to: trained_models/ann/assets\n",
            "Epoch 29/100\n",
            "20/20 [==============================] - 0s 7ms/step - loss: 6.0739e-04 - accuracy: 1.0000 - val_loss: 7.7079e-04 - val_accuracy: 1.0000\n",
            "INFO:tensorflow:Assets written to: trained_models/ann/assets\n",
            "Epoch 30/100\n",
            "20/20 [==============================] - 0s 4ms/step - loss: 5.0360e-04 - accuracy: 1.0000 - val_loss: 7.2094e-04 - val_accuracy: 1.0000\n",
            "INFO:tensorflow:Assets written to: trained_models/ann/assets\n",
            "Epoch 31/100\n",
            "20/20 [==============================] - 0s 5ms/step - loss: 5.4586e-04 - accuracy: 1.0000 - val_loss: 6.9259e-04 - val_accuracy: 1.0000\n",
            "INFO:tensorflow:Assets written to: trained_models/ann/assets\n",
            "Epoch 32/100\n",
            "20/20 [==============================] - 0s 6ms/step - loss: 4.3574e-04 - accuracy: 1.0000 - val_loss: 6.5656e-04 - val_accuracy: 1.0000\n",
            "INFO:tensorflow:Assets written to: trained_models/ann/assets\n",
            "Epoch 33/100\n",
            "20/20 [==============================] - 0s 4ms/step - loss: 4.5423e-04 - accuracy: 1.0000 - val_loss: 6.2566e-04 - val_accuracy: 1.0000\n",
            "INFO:tensorflow:Assets written to: trained_models/ann/assets\n",
            "Epoch 34/100\n",
            "20/20 [==============================] - 0s 8ms/step - loss: 3.9499e-04 - accuracy: 1.0000 - val_loss: 5.9898e-04 - val_accuracy: 1.0000\n",
            "INFO:tensorflow:Assets written to: trained_models/ann/assets\n",
            "Epoch 35/100\n",
            "20/20 [==============================] - 0s 5ms/step - loss: 3.7690e-04 - accuracy: 1.0000 - val_loss: 5.7503e-04 - val_accuracy: 1.0000\n",
            "INFO:tensorflow:Assets written to: trained_models/ann/assets\n",
            "Epoch 36/100\n",
            "20/20 [==============================] - 0s 9ms/step - loss: 3.2019e-04 - accuracy: 1.0000 - val_loss: 5.5617e-04 - val_accuracy: 1.0000\n",
            "INFO:tensorflow:Assets written to: trained_models/ann/assets\n",
            "Epoch 37/100\n",
            "20/20 [==============================] - 0s 4ms/step - loss: 2.9966e-04 - accuracy: 1.0000 - val_loss: 5.4295e-04 - val_accuracy: 1.0000\n",
            "INFO:tensorflow:Assets written to: trained_models/ann/assets\n",
            "Epoch 38/100\n",
            "20/20 [==============================] - 0s 8ms/step - loss: 3.0182e-04 - accuracy: 1.0000 - val_loss: 5.1616e-04 - val_accuracy: 1.0000\n",
            "INFO:tensorflow:Assets written to: trained_models/ann/assets\n",
            "Epoch 39/100\n",
            "20/20 [==============================] - 0s 3ms/step - loss: 2.6263e-04 - accuracy: 1.0000 - val_loss: 5.0171e-04 - val_accuracy: 1.0000\n",
            "INFO:tensorflow:Assets written to: trained_models/ann/assets\n",
            "Epoch 40/100\n",
            "20/20 [==============================] - 0s 3ms/step - loss: 2.8816e-04 - accuracy: 1.0000 - val_loss: 4.7728e-04 - val_accuracy: 1.0000\n",
            "INFO:tensorflow:Assets written to: trained_models/ann/assets\n",
            "Epoch 41/100\n",
            "20/20 [==============================] - 0s 4ms/step - loss: 2.3193e-04 - accuracy: 1.0000 - val_loss: 4.6408e-04 - val_accuracy: 1.0000\n",
            "INFO:tensorflow:Assets written to: trained_models/ann/assets\n",
            "Epoch 42/100\n",
            "20/20 [==============================] - 0s 4ms/step - loss: 2.3785e-04 - accuracy: 1.0000 - val_loss: 4.4786e-04 - val_accuracy: 1.0000\n",
            "INFO:tensorflow:Assets written to: trained_models/ann/assets\n",
            "Epoch 43/100\n",
            "20/20 [==============================] - 0s 4ms/step - loss: 2.4049e-04 - accuracy: 1.0000 - val_loss: 4.3816e-04 - val_accuracy: 1.0000\n",
            "INFO:tensorflow:Assets written to: trained_models/ann/assets\n",
            "Epoch 44/100\n",
            "20/20 [==============================] - 0s 9ms/step - loss: 1.9443e-04 - accuracy: 1.0000 - val_loss: 4.2589e-04 - val_accuracy: 1.0000\n",
            "INFO:tensorflow:Assets written to: trained_models/ann/assets\n",
            "Epoch 45/100\n",
            "20/20 [==============================] - 0s 3ms/step - loss: 2.0439e-04 - accuracy: 1.0000 - val_loss: 4.1532e-04 - val_accuracy: 1.0000\n",
            "INFO:tensorflow:Assets written to: trained_models/ann/assets\n",
            "Epoch 46/100\n",
            "20/20 [==============================] - 0s 6ms/step - loss: 1.9407e-04 - accuracy: 1.0000 - val_loss: 4.0350e-04 - val_accuracy: 1.0000\n",
            "INFO:tensorflow:Assets written to: trained_models/ann/assets\n",
            "Epoch 47/100\n",
            "20/20 [==============================] - 0s 4ms/step - loss: 1.5684e-04 - accuracy: 1.0000 - val_loss: 3.9505e-04 - val_accuracy: 1.0000\n",
            "INFO:tensorflow:Assets written to: trained_models/ann/assets\n",
            "Epoch 48/100\n",
            "20/20 [==============================] - 0s 4ms/step - loss: 1.7846e-04 - accuracy: 1.0000 - val_loss: 3.8441e-04 - val_accuracy: 1.0000\n",
            "INFO:tensorflow:Assets written to: trained_models/ann/assets\n",
            "Epoch 49/100\n",
            "20/20 [==============================] - 0s 4ms/step - loss: 1.5568e-04 - accuracy: 1.0000 - val_loss: 3.7867e-04 - val_accuracy: 1.0000\n",
            "INFO:tensorflow:Assets written to: trained_models/ann/assets\n",
            "Epoch 50/100\n",
            "20/20 [==============================] - 0s 6ms/step - loss: 1.4160e-04 - accuracy: 1.0000 - val_loss: 3.7187e-04 - val_accuracy: 1.0000\n",
            "INFO:tensorflow:Assets written to: trained_models/ann/assets\n",
            "Epoch 51/100\n",
            "20/20 [==============================] - 0s 4ms/step - loss: 1.4979e-04 - accuracy: 1.0000 - val_loss: 3.6785e-04 - val_accuracy: 1.0000\n",
            "INFO:tensorflow:Assets written to: trained_models/ann/assets\n",
            "Epoch 52/100\n",
            "20/20 [==============================] - 0s 5ms/step - loss: 1.3605e-04 - accuracy: 1.0000 - val_loss: 3.5585e-04 - val_accuracy: 1.0000\n",
            "INFO:tensorflow:Assets written to: trained_models/ann/assets\n",
            "Epoch 53/100\n",
            "20/20 [==============================] - 0s 4ms/step - loss: 1.3262e-04 - accuracy: 1.0000 - val_loss: 3.4873e-04 - val_accuracy: 1.0000\n",
            "INFO:tensorflow:Assets written to: trained_models/ann/assets\n",
            "Epoch 54/100\n",
            "20/20 [==============================] - 0s 4ms/step - loss: 1.4035e-04 - accuracy: 1.0000 - val_loss: 3.5054e-04 - val_accuracy: 1.0000\n",
            "Epoch 55/100\n",
            "20/20 [==============================] - 0s 5ms/step - loss: 1.2149e-04 - accuracy: 1.0000 - val_loss: 3.4403e-04 - val_accuracy: 1.0000\n",
            "INFO:tensorflow:Assets written to: trained_models/ann/assets\n",
            "Epoch 56/100\n",
            "20/20 [==============================] - 0s 4ms/step - loss: 1.1184e-04 - accuracy: 1.0000 - val_loss: 3.3561e-04 - val_accuracy: 1.0000\n",
            "INFO:tensorflow:Assets written to: trained_models/ann/assets\n",
            "Epoch 57/100\n",
            "20/20 [==============================] - 0s 3ms/step - loss: 1.0907e-04 - accuracy: 1.0000 - val_loss: 3.2662e-04 - val_accuracy: 1.0000\n",
            "INFO:tensorflow:Assets written to: trained_models/ann/assets\n",
            "Epoch 58/100\n",
            "20/20 [==============================] - 0s 5ms/step - loss: 1.0990e-04 - accuracy: 1.0000 - val_loss: 3.2231e-04 - val_accuracy: 1.0000\n",
            "INFO:tensorflow:Assets written to: trained_models/ann/assets\n",
            "Epoch 59/100\n",
            "20/20 [==============================] - 0s 3ms/step - loss: 1.1659e-04 - accuracy: 1.0000 - val_loss: 3.1401e-04 - val_accuracy: 1.0000\n",
            "INFO:tensorflow:Assets written to: trained_models/ann/assets\n",
            "Epoch 60/100\n",
            "20/20 [==============================] - 0s 12ms/step - loss: 9.3484e-05 - accuracy: 1.0000 - val_loss: 3.1325e-04 - val_accuracy: 1.0000\n",
            "INFO:tensorflow:Assets written to: trained_models/ann/assets\n",
            "Epoch 61/100\n",
            "20/20 [==============================] - 0s 6ms/step - loss: 9.6418e-05 - accuracy: 1.0000 - val_loss: 3.0858e-04 - val_accuracy: 1.0000\n",
            "INFO:tensorflow:Assets written to: trained_models/ann/assets\n",
            "Epoch 62/100\n",
            "20/20 [==============================] - 0s 5ms/step - loss: 8.6775e-05 - accuracy: 1.0000 - val_loss: 3.0441e-04 - val_accuracy: 1.0000\n",
            "INFO:tensorflow:Assets written to: trained_models/ann/assets\n",
            "Epoch 63/100\n",
            "20/20 [==============================] - 0s 4ms/step - loss: 7.6836e-05 - accuracy: 1.0000 - val_loss: 2.9875e-04 - val_accuracy: 1.0000\n",
            "INFO:tensorflow:Assets written to: trained_models/ann/assets\n",
            "Epoch 64/100\n",
            "20/20 [==============================] - 0s 8ms/step - loss: 8.0604e-05 - accuracy: 1.0000 - val_loss: 2.9817e-04 - val_accuracy: 1.0000\n",
            "INFO:tensorflow:Assets written to: trained_models/ann/assets\n",
            "Epoch 65/100\n",
            "20/20 [==============================] - 0s 5ms/step - loss: 9.0057e-05 - accuracy: 1.0000 - val_loss: 2.9300e-04 - val_accuracy: 1.0000\n",
            "INFO:tensorflow:Assets written to: trained_models/ann/assets\n",
            "Epoch 66/100\n",
            "20/20 [==============================] - 0s 10ms/step - loss: 7.7979e-05 - accuracy: 1.0000 - val_loss: 2.9012e-04 - val_accuracy: 1.0000\n",
            "INFO:tensorflow:Assets written to: trained_models/ann/assets\n",
            "Epoch 67/100\n",
            "20/20 [==============================] - 0s 4ms/step - loss: 8.0684e-05 - accuracy: 1.0000 - val_loss: 2.8927e-04 - val_accuracy: 1.0000\n",
            "INFO:tensorflow:Assets written to: trained_models/ann/assets\n",
            "Epoch 68/100\n",
            "20/20 [==============================] - 0s 4ms/step - loss: 7.4353e-05 - accuracy: 1.0000 - val_loss: 2.8476e-04 - val_accuracy: 1.0000\n",
            "INFO:tensorflow:Assets written to: trained_models/ann/assets\n",
            "Epoch 69/100\n",
            "20/20 [==============================] - 0s 6ms/step - loss: 6.1486e-05 - accuracy: 1.0000 - val_loss: 2.8046e-04 - val_accuracy: 1.0000\n",
            "INFO:tensorflow:Assets written to: trained_models/ann/assets\n",
            "Epoch 70/100\n",
            "20/20 [==============================] - 0s 4ms/step - loss: 6.5834e-05 - accuracy: 1.0000 - val_loss: 2.7982e-04 - val_accuracy: 1.0000\n",
            "INFO:tensorflow:Assets written to: trained_models/ann/assets\n",
            "Epoch 71/100\n",
            "20/20 [==============================] - 0s 10ms/step - loss: 6.0080e-05 - accuracy: 1.0000 - val_loss: 2.7632e-04 - val_accuracy: 1.0000\n",
            "INFO:tensorflow:Assets written to: trained_models/ann/assets\n",
            "Epoch 72/100\n",
            "20/20 [==============================] - 0s 4ms/step - loss: 5.9055e-05 - accuracy: 1.0000 - val_loss: 2.7560e-04 - val_accuracy: 1.0000\n",
            "INFO:tensorflow:Assets written to: trained_models/ann/assets\n",
            "Epoch 73/100\n",
            "20/20 [==============================] - 0s 4ms/step - loss: 5.4629e-05 - accuracy: 1.0000 - val_loss: 2.7342e-04 - val_accuracy: 1.0000\n",
            "INFO:tensorflow:Assets written to: trained_models/ann/assets\n",
            "Epoch 74/100\n",
            "20/20 [==============================] - 0s 4ms/step - loss: 5.5062e-05 - accuracy: 1.0000 - val_loss: 2.7267e-04 - val_accuracy: 1.0000\n",
            "INFO:tensorflow:Assets written to: trained_models/ann/assets\n",
            "Epoch 75/100\n",
            "20/20 [==============================] - 0s 5ms/step - loss: 5.5408e-05 - accuracy: 1.0000 - val_loss: 2.6654e-04 - val_accuracy: 1.0000\n",
            "INFO:tensorflow:Assets written to: trained_models/ann/assets\n",
            "Epoch 76/100\n",
            "20/20 [==============================] - 0s 6ms/step - loss: 5.4981e-05 - accuracy: 1.0000 - val_loss: 2.6723e-04 - val_accuracy: 1.0000\n",
            "Epoch 77/100\n",
            "20/20 [==============================] - 0s 4ms/step - loss: 5.1338e-05 - accuracy: 1.0000 - val_loss: 2.7001e-04 - val_accuracy: 1.0000\n",
            "Epoch 78/100\n",
            "20/20 [==============================] - 0s 5ms/step - loss: 4.8880e-05 - accuracy: 1.0000 - val_loss: 2.6558e-04 - val_accuracy: 1.0000\n",
            "INFO:tensorflow:Assets written to: trained_models/ann/assets\n",
            "Epoch 79/100\n",
            "20/20 [==============================] - 0s 3ms/step - loss: 4.6929e-05 - accuracy: 1.0000 - val_loss: 2.6273e-04 - val_accuracy: 1.0000\n",
            "INFO:tensorflow:Assets written to: trained_models/ann/assets\n",
            "Epoch 80/100\n",
            "20/20 [==============================] - 0s 5ms/step - loss: 3.8791e-05 - accuracy: 1.0000 - val_loss: 2.5685e-04 - val_accuracy: 1.0000\n",
            "INFO:tensorflow:Assets written to: trained_models/ann/assets\n",
            "Epoch 81/100\n",
            "20/20 [==============================] - 0s 4ms/step - loss: 4.8996e-05 - accuracy: 1.0000 - val_loss: 2.5641e-04 - val_accuracy: 1.0000\n",
            "INFO:tensorflow:Assets written to: trained_models/ann/assets\n",
            "Epoch 82/100\n",
            "20/20 [==============================] - 0s 4ms/step - loss: 4.5457e-05 - accuracy: 1.0000 - val_loss: 2.5395e-04 - val_accuracy: 1.0000\n",
            "INFO:tensorflow:Assets written to: trained_models/ann/assets\n",
            "Epoch 83/100\n",
            "20/20 [==============================] - 0s 4ms/step - loss: 4.1325e-05 - accuracy: 1.0000 - val_loss: 2.5294e-04 - val_accuracy: 1.0000\n",
            "INFO:tensorflow:Assets written to: trained_models/ann/assets\n",
            "Epoch 84/100\n",
            "20/20 [==============================] - 0s 3ms/step - loss: 4.7751e-05 - accuracy: 1.0000 - val_loss: 2.5214e-04 - val_accuracy: 1.0000\n",
            "INFO:tensorflow:Assets written to: trained_models/ann/assets\n",
            "Epoch 85/100\n",
            "20/20 [==============================] - 0s 4ms/step - loss: 3.3150e-05 - accuracy: 1.0000 - val_loss: 2.4810e-04 - val_accuracy: 1.0000\n",
            "INFO:tensorflow:Assets written to: trained_models/ann/assets\n",
            "Epoch 86/100\n",
            "20/20 [==============================] - 0s 4ms/step - loss: 3.4327e-05 - accuracy: 1.0000 - val_loss: 2.4931e-04 - val_accuracy: 1.0000\n",
            "Epoch 87/100\n",
            "20/20 [==============================] - 0s 4ms/step - loss: 3.6244e-05 - accuracy: 1.0000 - val_loss: 2.4700e-04 - val_accuracy: 1.0000\n",
            "INFO:tensorflow:Assets written to: trained_models/ann/assets\n",
            "Epoch 88/100\n",
            "20/20 [==============================] - 0s 8ms/step - loss: 3.0766e-05 - accuracy: 1.0000 - val_loss: 2.4839e-04 - val_accuracy: 1.0000\n",
            "Epoch 89/100\n",
            "20/20 [==============================] - 0s 6ms/step - loss: 3.3501e-05 - accuracy: 1.0000 - val_loss: 2.4547e-04 - val_accuracy: 1.0000\n",
            "INFO:tensorflow:Assets written to: trained_models/ann/assets\n",
            "Epoch 90/100\n",
            "20/20 [==============================] - 0s 4ms/step - loss: 3.2473e-05 - accuracy: 1.0000 - val_loss: 2.4430e-04 - val_accuracy: 1.0000\n",
            "INFO:tensorflow:Assets written to: trained_models/ann/assets\n",
            "Epoch 91/100\n",
            "20/20 [==============================] - 0s 4ms/step - loss: 3.4660e-05 - accuracy: 1.0000 - val_loss: 2.4441e-04 - val_accuracy: 1.0000\n",
            "Epoch 92/100\n",
            "20/20 [==============================] - 0s 6ms/step - loss: 3.4767e-05 - accuracy: 1.0000 - val_loss: 2.4181e-04 - val_accuracy: 1.0000\n",
            "INFO:tensorflow:Assets written to: trained_models/ann/assets\n",
            "Epoch 93/100\n",
            "20/20 [==============================] - 0s 4ms/step - loss: 2.9182e-05 - accuracy: 1.0000 - val_loss: 2.4086e-04 - val_accuracy: 1.0000\n",
            "INFO:tensorflow:Assets written to: trained_models/ann/assets\n",
            "Epoch 94/100\n",
            "20/20 [==============================] - 0s 3ms/step - loss: 3.2709e-05 - accuracy: 1.0000 - val_loss: 2.4347e-04 - val_accuracy: 1.0000\n",
            "Epoch 95/100\n",
            "20/20 [==============================] - 0s 5ms/step - loss: 2.7529e-05 - accuracy: 1.0000 - val_loss: 2.3884e-04 - val_accuracy: 1.0000\n",
            "INFO:tensorflow:Assets written to: trained_models/ann/assets\n",
            "Epoch 96/100\n",
            "20/20 [==============================] - 0s 4ms/step - loss: 2.6556e-05 - accuracy: 1.0000 - val_loss: 2.3778e-04 - val_accuracy: 1.0000\n",
            "INFO:tensorflow:Assets written to: trained_models/ann/assets\n",
            "Epoch 97/100\n",
            "20/20 [==============================] - 0s 4ms/step - loss: 3.0222e-05 - accuracy: 1.0000 - val_loss: 2.3813e-04 - val_accuracy: 1.0000\n",
            "Epoch 98/100\n",
            "20/20 [==============================] - 0s 5ms/step - loss: 2.7643e-05 - accuracy: 1.0000 - val_loss: 2.3739e-04 - val_accuracy: 1.0000\n",
            "INFO:tensorflow:Assets written to: trained_models/ann/assets\n",
            "Epoch 99/100\n",
            "20/20 [==============================] - 0s 3ms/step - loss: 3.0350e-05 - accuracy: 1.0000 - val_loss: 2.3750e-04 - val_accuracy: 1.0000\n",
            "Epoch 100/100\n",
            "20/20 [==============================] - 0s 4ms/step - loss: 2.1757e-05 - accuracy: 1.0000 - val_loss: 2.3590e-04 - val_accuracy: 1.0000\n",
            "INFO:tensorflow:Assets written to: trained_models/ann/assets\n",
            "Complete. \n",
            "Model trained in 88.27 sec\n"
          ]
        }
      ],
      "source": [
        "#Fit\n",
        "start = time()\n",
        "history = model.fit(\n",
        "    x_train,\n",
        "    y_train,\n",
        "    validation_data=(x_val, y_val),\n",
        "    callbacks=callbacks,\n",
        "    epochs=100,\n",
        "    batch_size=100,\n",
        "    verbose=1 \n",
        ")\n",
        "\n",
        "\n",
        "print(f'Complete. \\nModel trained in {round(time()-start, 2)} sec')"
      ]
    },
    {
      "cell_type": "code",
      "execution_count": 8,
      "metadata": {
        "colab": {
          "base_uri": "https://localhost:8080/",
          "height": 783
        },
        "id": "_cawDC-iNxFi",
        "outputId": "4275db0e-097f-491e-e8fc-47090cee4339"
      },
      "outputs": [
        {
          "name": "stdout",
          "output_type": "stream",
          "text": [
            "\n",
            "Training accuracy: 100.0%\n",
            "Training loss: 0.0\n",
            "\n",
            "Validation accuracy: 100.0%\n",
            "Validation loss: 0.0002\n"
          ]
        },
        {
          "data": {
            "image/png": "[encoded data removed]",
            "text/plain": [
              "<Figure size 720x360 with 1 Axes>"
            ]
          },
          "metadata": {
            "needs_background": "light"
          },
          "output_type": "display_data"
        },
        {
          "data": {
            "image/png": "[encoded data removed]",
            "text/plain": [
              "<Figure size 720x360 with 1 Axes>"
            ]
          },
          "metadata": {
            "needs_background": "light"
          },
          "output_type": "display_data"
        }
      ],
      "source": [
        "title_loss = 'ANN - Training & Validation Loss'\n",
        "title_acc = 'ANN - Training & Validation Accuracy'\n",
        "path_loss = 'img/models/ann_loss'\n",
        "path_acc = 'img/models/ann_acc'\n",
        "\n",
        "plot_train_val(history, title_acc=title_acc, title_loss=title_loss, path_acc=path_acc, path_loss=path_loss)"
      ]
    },
    {
      "cell_type": "markdown",
      "metadata": {
        "id": "zHul7a4JAyIe"
      },
      "source": [
        "## Evaluation Metrics\n",
        "---"
      ]
    },
    {
      "cell_type": "code",
      "execution_count": 9,
      "metadata": {
        "colab": {
          "base_uri": "https://localhost:8080/"
        },
        "id": "6cdujOYVAyIf",
        "outputId": "6b78ee70-52d6-46b8-95b0-8e9eea6426ff"
      },
      "outputs": [
        {
          "name": "stdout",
          "output_type": "stream",
          "text": [
            "Accuracy:  1.0\n",
            "Precision:  1.0\n",
            "Recall:  1.0\n",
            "F1-score:  1.0\n",
            "AUC:  1.0\n"
          ]
        }
      ],
      "source": [
        "y_pred = np.argmax(model.predict(x_test), axis=-1) \n",
        "y_true = np.argmax(y_test, axis=-1) \n",
        "\n",
        "acc = accuracy_score(y_true, y_pred)\n",
        "recall = recall_score(y_true, y_pred, average='weighted')\n",
        "precision  = precision_score(y_true, y_pred, average='weighted')\n",
        "f1  = f1_score(y_true, y_pred, average='weighted')\n",
        "auc  = roc_auc_score(y_true, y_pred, average='weighted', multi_class='ovr')\n",
        "\n",
        "print('Accuracy: ', acc)\n",
        "print('Precision: ', recall)\n",
        "print('Recall: ', precision)\n",
        "print('F1-score: ', f1)\n",
        "print('AUC: ', auc)"
      ]
    },
    {
      "cell_type": "markdown",
      "metadata": {},
      "source": [
        "## Confusion Matrix\n",
        "\n",
        "---"
      ]
    },
    {
      "cell_type": "code",
      "execution_count": 10,
      "metadata": {},
      "outputs": [],
      "source": [
        "font = {'size': 16}\n",
        "labels = ['Normal', 'DoS']"
      ]
    },
    {
      "cell_type": "code",
      "execution_count": 11,
      "metadata": {},
      "outputs": [
        {
          "data": {
            "image/png": "[encoded data removed]",
            "text/plain": [
              "<Figure size 504x432 with 2 Axes>"
            ]
          },
          "metadata": {
            "needs_background": "light"
          },
          "output_type": "display_data"
        }
      ],
      "source": [
        "confusion = confusion_matrix(y_true, y_pred)\n",
        "plt.figure(figsize=(7,6))\n",
        "sns.heatmap(confusion, annot=True, linewidths=0.8, xticklabels=labels, yticklabels=labels, fmt='d', cmap='Blues')\n",
        "plt.title(f'ANN - Confusion Matrix', fontsize=20) \n",
        "plt.xlabel('Predicted', fontdict=font)\n",
        "plt.ylabel('True', fontdict=font)\n",
        "\n",
        "plt.savefig('img/models/ann_cm', bbox_inches=\"tight\") "
      ]
    },
    {
      "cell_type": "code",
      "execution_count": null,
      "metadata": {},
      "outputs": [],
      "source": []
    }
  ],
  "metadata": {
    "colab": {
      "collapsed_sections": [],
      "name": "ann.ipynb",
      "provenance": []
    },
    "interpreter": {
      "hash": "15d99b9aa0dbf3a358312963825951c4e42cc1dea07b49971ebf26684bae64aa"
    },
    "kernelspec": {
      "display_name": "Python 3.8.3 64-bit ('base': conda)",
      "name": "python3"
    },
    "language_info": {
      "codemirror_mode": {
        "name": "ipython",
        "version": 3
      },
      "file_extension": ".py",
      "mimetype": "text/x-python",
      "name": "python",
      "nbconvert_exporter": "python",
      "pygments_lexer": "ipython3",
      "version": "3.8.3"
    },
    "orig_nbformat": 4
  },
  "nbformat": 4,
  "nbformat_minor": 0
}
