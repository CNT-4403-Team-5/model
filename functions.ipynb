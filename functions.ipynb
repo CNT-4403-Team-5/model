{
 "cells": [
  {
   "cell_type": "code",
   "execution_count": 1,
   "metadata": {},
   "outputs": [],
   "source": [
    "import numpy as np\n",
    "import matplotlib.pyplot as plt\n",
    "\n",
    "#Removes column of class labels from dataframe and saves into new array\n",
    "def features_labels_split(data, label_column):\n",
    "    features = data.copy()\n",
    "    columns_titles = list(data.columns)\n",
    "    features = features.reindex(columns=columns_titles)\n",
    "    labels = features.pop(label_column)\n",
    "    features = np.array(features)\n",
    "    labels = np.array(labels)\n",
    "    return features, labels\n",
    "\n",
    "\n",
    "#Plots training/validation accuracy and loss. Can optionally print the numerical values.\n",
    "def plot_train_val(model_history, title_acc, title_loss, path_acc, path_loss, metrics=True):\n",
    "    train_acc = np.array(model_history.history[\"accuracy\"])\n",
    "    train_loss = np.array(model_history.history[\"loss\"])\n",
    "\n",
    "    val_loss = np.array(model_history.history[\"val_loss\"])\n",
    "    val_acc = np.array(model_history.history[\"val_accuracy\"])\n",
    "\n",
    "    epochs = np.arange(train_loss.shape[0])\n",
    "    plt.figure(figsize=(10,5)) \n",
    "    plt.subplot(1,2,1)\n",
    "    plt.plot(epochs, train_loss, label = \"Training\")\n",
    "    plt.plot(epochs, val_loss, label = \"Validation\")\n",
    "    plt.xlabel(\"Epochs\")\n",
    "    plt.ylabel(\"Loss\")\n",
    "    plt.title(title_loss)\n",
    "    plt.legend()\n",
    "    plt.savefig(path_loss, bbox_inches=\"tight\") \n",
    "\n",
    "    plt.figure(figsize=(10,5)) \n",
    "    plt.subplot(1,2,2)\n",
    "    plt.plot(epochs, train_acc, label = \"Training\")\n",
    "    plt.plot(epochs, val_acc, label = \"Validation\")\n",
    "    plt.xlabel(\"Epochs\")\n",
    "    plt.ylabel(\"Accuracy\")\n",
    "    plt.title(title_acc)\n",
    "    plt.legend()\n",
    "    plt.savefig(path_acc, bbox_inches=\"tight\") \n",
    "\n",
    "    train_score = [train_acc[-1], train_loss[-1]]\n",
    "    val_score = [val_acc[-1], val_loss[-1]]\n",
    "\n",
    "    if metrics == True:\n",
    "        print(f\"\\nTraining accuracy: {round(train_score[0], 5) * 100}%\")\n",
    "        print(f\"Training loss: {round(train_score[1], 4)}\")\n",
    "        print(f\"\\nValidation accuracy: {round(val_score[0], 5) * 100}%\")\n",
    "        print(f\"Validation loss: {round(val_score[1], 4)}\")"
   ]
  },
  {
   "cell_type": "code",
   "execution_count": null,
   "metadata": {},
   "outputs": [],
   "source": []
  }
 ],
 "metadata": {
  "interpreter": {
   "hash": "15d99b9aa0dbf3a358312963825951c4e42cc1dea07b49971ebf26684bae64aa"
  },
  "kernelspec": {
   "display_name": "Python 3.8.3 64-bit ('base': conda)",
   "language": "python",
   "name": "python3"
  },
  "language_info": {
   "codemirror_mode": {
    "name": "ipython",
    "version": 3
   },
   "file_extension": ".py",
   "mimetype": "text/x-python",
   "name": "python",
   "nbconvert_exporter": "python",
   "pygments_lexer": "ipython3",
   "version": "3.8.3"
  },
  "orig_nbformat": 4
 },
 "nbformat": 4,
 "nbformat_minor": 2
}
