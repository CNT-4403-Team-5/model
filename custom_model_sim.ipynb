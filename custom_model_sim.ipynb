{
 "cells": [
  {
   "cell_type": "markdown",
   "metadata": {},
   "source": [
    "## Functions\n",
    "\n",
    "---\n"
   ]
  },
  {
   "cell_type": "code",
   "execution_count": 3,
   "metadata": {},
   "outputs": [],
   "source": [
    "from keras.models import Sequential\n",
    "from keras.layers import Dense, Dropout\n",
    "from tensorflow.keras.optimizers import Adam\n",
    "from sklearn.model_selection import train_test_split\n",
    "from sklearn.preprocessing import MinMaxScaler\n",
    "from keras.backend import clear_session\n",
    "from tensorflow.keras.utils import to_categorical\n",
    "from sklearn.metrics import *\n",
    "from time import time\n",
    "import numpy as np\n",
    "import matplotlib.pyplot as plt\n",
    "import seaborn as sns\n",
    "import pandas as pd\n",
    "from keras.callbacks import ModelCheckpoint"
   ]
  },
  {
   "cell_type": "code",
   "execution_count": 4,
   "metadata": {},
   "outputs": [],
   "source": [
    "#Removes column of class labels from dataframe and saves into new array\n",
    "def features_labels_split(data, label_column):\n",
    "    features = data.copy()\n",
    "    columns_titles = list(data.columns)\n",
    "    features = features.reindex(columns=columns_titles)\n",
    "    labels = features.pop(label_column)\n",
    "    features = np.array(features)\n",
    "    labels = np.array(labels)\n",
    "    return features, labels\n",
    "\n",
    "\n",
    "#Plots training/validation accuracy and loss. Can optionally print the numerical values.\n",
    "def plot_train_val(model_history, title_acc, title_loss, path_acc, path_loss, metrics=True):\n",
    "    train_acc = np.array(model_history.history[\"accuracy\"])\n",
    "    train_loss = np.array(model_history.history[\"loss\"])\n",
    "\n",
    "    val_loss = np.array(model_history.history[\"val_loss\"])\n",
    "    val_acc = np.array(model_history.history[\"val_accuracy\"])\n",
    "\n",
    "    epochs = np.arange(train_loss.shape[0])\n",
    "    plt.figure(figsize=(10,5)) \n",
    "    plt.subplot(1,2,1)\n",
    "    plt.plot(epochs, train_loss, label = \"Training\")\n",
    "    plt.plot(epochs, val_loss, label = \"Validation\")\n",
    "    plt.xlabel(\"Epochs\")\n",
    "    plt.ylabel(\"Loss\")\n",
    "    plt.title(title_acc)\n",
    "    plt.legend()\n",
    "    plt.savefig(path_acc, bbox_inches=\"tight\") \n",
    "\n",
    "    plt.figure(figsize=(10,5)) \n",
    "    plt.subplot(1,2,2)\n",
    "    plt.plot(epochs, train_acc, label = \"Training\")\n",
    "    plt.plot(epochs, val_acc, label = \"Validation\")\n",
    "    plt.xlabel(\"Epochs\")\n",
    "    plt.ylabel(\"Accuracy\")\n",
    "    plt.title(title_loss)\n",
    "    plt.legend()\n",
    "    plt.savefig(path_loss, bbox_inches=\"tight\") \n",
    "\n",
    "    train_score = [train_acc[-1], train_loss[-1]]\n",
    "    val_score = [val_acc[-1], val_loss[-1]]\n",
    "\n",
    "    if metrics == True:\n",
    "        print(f\"\\nTraining accuracy: {round(train_score[0], 5) * 100}%\")\n",
    "        print(f\"Training loss: {round(train_score[1], 4)}\")\n",
    "        print(f\"\\nValidation accuracy: {round(val_score[0], 5) * 100}%\")\n",
    "        print(f\"Validation loss: {round(val_score[1], 4)}\")"
   ]
  },
  {
   "cell_type": "code",
   "execution_count": 5,
   "metadata": {},
   "outputs": [
    {
     "name": "stdout",
     "output_type": "stream",
     "text": [
      "x_train shape:  (2063, 18)\n",
      "y_train shape:  (2063, 2)\n",
      "x_test shape:  (442, 18)\n",
      "y_test shape:  (442, 2)\n",
      "x_val shape:  (443, 18)\n",
      "y_val shape:  (443, 2)\n"
     ]
    }
   ],
   "source": [
    "data = np.load('data/data_sim.npz', allow_pickle=True)\n",
    "\n",
    "x_train = data['x_train']\n",
    "y_train = data['y_train']\n",
    "x_test = data['x_test']\n",
    "y_test = data['y_test']\n",
    "x_val = data['x_val']\n",
    "y_val = data['y_val']\n",
    "\n",
    "\n",
    "print('x_train shape: ', x_train.shape)\n",
    "print('y_train shape: ', y_train.shape)\n",
    "print('x_test shape: ', x_test.shape)\n",
    "print('y_test shape: ', y_test.shape)\n",
    "print('x_val shape: ', x_val.shape)\n",
    "print('y_val shape: ', y_val.shape)"
   ]
  },
  {
   "cell_type": "code",
   "execution_count": 6,
   "metadata": {},
   "outputs": [
    {
     "name": "stdout",
     "output_type": "stream",
     "text": [
      "Model: \"sequential\"\n",
      "_________________________________________________________________\n",
      " Layer (type)                Output Shape              Param #   \n",
      "=================================================================\n",
      " dense (Dense)               (None, 4)                 76        \n",
      "                                                                 \n",
      " dropout (Dropout)           (None, 4)                 0         \n",
      "                                                                 \n",
      " dense_1 (Dense)             (None, 4)                 20        \n",
      "                                                                 \n",
      " dense_2 (Dense)             (None, 2)                 10        \n",
      "                                                                 \n",
      "=================================================================\n",
      "Total params: 106\n",
      "Trainable params: 106\n",
      "Non-trainable params: 0\n",
      "_________________________________________________________________\n"
     ]
    }
   ],
   "source": [
    "#Define\n",
    "model = Sequential()\n",
    "\n",
    "model.add(Dense(input_dim=x_train.shape[1], units=4, activation='relu')) #input & hidden layer 1\n",
    "model.add(Dropout(0.4))\n",
    "model.add(Dense(units=4, activation='relu')) #hidden layer 2\n",
    "model.add(Dense(units=2, activation='softmax')) #output/prediction layer\n",
    "\n",
    "model.summary() #display model architecture information"
   ]
  },
  {
   "cell_type": "code",
   "execution_count": 8,
   "metadata": {},
   "outputs": [],
   "source": [
    "#Compile\n",
    "model.compile(loss=\"binary_crossentropy\", \n",
    "        optimizer=Adam(learning_rate=0.001), \n",
    "        metrics=[\"accuracy\"])"
   ]
  },
  {
   "cell_type": "code",
   "execution_count": 9,
   "metadata": {},
   "outputs": [],
   "source": [
    "#Best model callback\n",
    "model_path = 'trained_models/custom'\n",
    "checkpoint = ModelCheckpoint(\n",
    "    filepath=model_path, \n",
    "    monitor='val_loss', #save model based on best validation loss\n",
    "    verbose=0, \n",
    "    save_best_only=True,\n",
    "    mode='min')\n",
    "callbacks = [checkpoint]"
   ]
  },
  {
   "cell_type": "code",
   "execution_count": 10,
   "metadata": {},
   "outputs": [
    {
     "name": "stdout",
     "output_type": "stream",
     "text": [
      "Epoch 1/50\n",
      "33/42 [======================>.......] - ETA: 0s - loss: 0.7160 - accuracy: 0.5097 INFO:tensorflow:Assets written to: trained_models\\custom\\assets\n",
      "42/42 [==============================] - 2s 29ms/step - loss: 0.7129 - accuracy: 0.5313 - val_loss: 0.6938 - val_accuracy: 0.6411\n",
      "Epoch 2/50\n",
      "25/42 [================>.............] - ETA: 0s - loss: 0.6881 - accuracy: 0.6360INFO:tensorflow:Assets written to: trained_models\\custom\\assets\n",
      "42/42 [==============================] - 1s 36ms/step - loss: 0.6819 - accuracy: 0.6297 - val_loss: 0.6740 - val_accuracy: 0.6546\n",
      "Epoch 3/50\n",
      "34/42 [=======================>......] - ETA: 0s - loss: 0.6606 - accuracy: 0.6759INFO:tensorflow:Assets written to: trained_models\\custom\\assets\n",
      "42/42 [==============================] - 2s 50ms/step - loss: 0.6569 - accuracy: 0.6869 - val_loss: 0.6567 - val_accuracy: 0.6546\n",
      "Epoch 4/50\n",
      "34/42 [=======================>......] - ETA: 0s - loss: 0.6361 - accuracy: 0.7029INFO:tensorflow:Assets written to: trained_models\\custom\\assets\n",
      "42/42 [==============================] - 2s 52ms/step - loss: 0.6329 - accuracy: 0.7072 - val_loss: 0.6360 - val_accuracy: 0.6546\n",
      "Epoch 5/50\n",
      "35/42 [========================>.....] - ETA: 0s - loss: 0.6119 - accuracy: 0.7006INFO:tensorflow:Assets written to: trained_models\\custom\\assets\n",
      "42/42 [==============================] - 2s 43ms/step - loss: 0.6081 - accuracy: 0.7072 - val_loss: 0.6151 - val_accuracy: 0.6546\n",
      "Epoch 6/50\n",
      "38/42 [==========================>...] - ETA: 0s - loss: 0.5821 - accuracy: 0.7079INFO:tensorflow:Assets written to: trained_models\\custom\\assets\n",
      "42/42 [==============================] - 1s 30ms/step - loss: 0.5811 - accuracy: 0.7072 - val_loss: 0.5853 - val_accuracy: 0.6546\n",
      "Epoch 7/50\n",
      "37/42 [=========================>....] - ETA: 0s - loss: 0.5619 - accuracy: 0.7027INFO:tensorflow:Assets written to: trained_models\\custom\\assets\n",
      "42/42 [==============================] - 2s 44ms/step - loss: 0.5573 - accuracy: 0.7101 - val_loss: 0.5524 - val_accuracy: 0.6546\n",
      "Epoch 8/50\n",
      "40/42 [===========================>..] - ETA: 0s - loss: 0.5328 - accuracy: 0.7320INFO:tensorflow:Assets written to: trained_models\\custom\\assets\n",
      "42/42 [==============================] - 1s 31ms/step - loss: 0.5335 - accuracy: 0.7310 - val_loss: 0.5239 - val_accuracy: 0.6614\n",
      "Epoch 9/50\n",
      "37/42 [=========================>....] - ETA: 0s - loss: 0.5132 - accuracy: 0.7735INFO:tensorflow:Assets written to: trained_models\\custom\\assets\n",
      "42/42 [==============================] - 2s 41ms/step - loss: 0.5162 - accuracy: 0.7678 - val_loss: 0.4947 - val_accuracy: 0.6682\n",
      "Epoch 10/50\n",
      "33/42 [======================>.......] - ETA: 0s - loss: 0.4874 - accuracy: 0.8055INFO:tensorflow:Assets written to: trained_models\\custom\\assets\n",
      "42/42 [==============================] - 2s 41ms/step - loss: 0.4921 - accuracy: 0.8013 - val_loss: 0.4649 - val_accuracy: 0.7810\n",
      "Epoch 11/50\n",
      "35/42 [========================>.....] - ETA: 0s - loss: 0.4686 - accuracy: 0.8406INFO:tensorflow:Assets written to: trained_models\\custom\\assets\n",
      "42/42 [==============================] - 1s 32ms/step - loss: 0.4715 - accuracy: 0.8376 - val_loss: 0.4351 - val_accuracy: 0.8465\n",
      "Epoch 12/50\n",
      "24/42 [================>.............] - ETA: 0s - loss: 0.4507 - accuracy: 0.8650INFO:tensorflow:Assets written to: trained_models\\custom\\assets\n",
      "42/42 [==============================] - 2s 46ms/step - loss: 0.4433 - accuracy: 0.8672 - val_loss: 0.4029 - val_accuracy: 0.8916\n",
      "Epoch 13/50\n",
      "40/42 [===========================>..] - ETA: 0s - loss: 0.4489 - accuracy: 0.8500INFO:tensorflow:Assets written to: trained_models\\custom\\assets\n",
      "42/42 [==============================] - 1s 32ms/step - loss: 0.4503 - accuracy: 0.8483 - val_loss: 0.3838 - val_accuracy: 0.9165\n",
      "Epoch 14/50\n",
      "37/42 [=========================>....] - ETA: 0s - loss: 0.4369 - accuracy: 0.8508INFO:tensorflow:Assets written to: trained_models\\custom\\assets\n",
      "42/42 [==============================] - 2s 39ms/step - loss: 0.4296 - accuracy: 0.8570 - val_loss: 0.3611 - val_accuracy: 0.9233\n",
      "Epoch 15/50\n",
      "32/42 [=====================>........] - ETA: 0s - loss: 0.4060 - accuracy: 0.8675INFO:tensorflow:Assets written to: trained_models\\custom\\assets\n",
      "42/42 [==============================] - 2s 37ms/step - loss: 0.4044 - accuracy: 0.8682 - val_loss: 0.3376 - val_accuracy: 0.9233\n",
      "Epoch 16/50\n",
      "40/42 [===========================>..] - ETA: 0s - loss: 0.3799 - accuracy: 0.8785INFO:tensorflow:Assets written to: trained_models\\custom\\assets\n",
      "42/42 [==============================] - 1s 35ms/step - loss: 0.3810 - accuracy: 0.8778 - val_loss: 0.3126 - val_accuracy: 0.9233\n",
      "Epoch 17/50\n",
      "24/42 [================>.............] - ETA: 0s - loss: 0.3841 - accuracy: 0.8675INFO:tensorflow:Assets written to: trained_models\\custom\\assets\n",
      "42/42 [==============================] - 1s 25ms/step - loss: 0.3819 - accuracy: 0.8672 - val_loss: 0.2938 - val_accuracy: 0.9255\n",
      "Epoch 18/50\n",
      "36/42 [========================>.....] - ETA: 0s - loss: 0.3624 - accuracy: 0.8750INFO:tensorflow:Assets written to: trained_models\\custom\\assets\n",
      "42/42 [==============================] - 1s 31ms/step - loss: 0.3602 - accuracy: 0.8764 - val_loss: 0.2785 - val_accuracy: 0.9255\n",
      "Epoch 19/50\n",
      "41/42 [============================>.] - ETA: 0s - loss: 0.3619 - accuracy: 0.8693INFO:tensorflow:Assets written to: trained_models\\custom\\assets\n",
      "42/42 [==============================] - 1s 30ms/step - loss: 0.3625 - accuracy: 0.8686 - val_loss: 0.2690 - val_accuracy: 0.9323\n",
      "Epoch 20/50\n",
      "41/42 [============================>.] - ETA: 0s - loss: 0.3531 - accuracy: 0.8746INFO:tensorflow:Assets written to: trained_models\\custom\\assets\n",
      "42/42 [==============================] - 2s 43ms/step - loss: 0.3532 - accuracy: 0.8745 - val_loss: 0.2521 - val_accuracy: 0.9391\n",
      "Epoch 21/50\n",
      "33/42 [======================>.......] - ETA: 0s - loss: 0.3526 - accuracy: 0.8703INFO:tensorflow:Assets written to: trained_models\\custom\\assets\n",
      "42/42 [==============================] - 2s 45ms/step - loss: 0.3606 - accuracy: 0.8648 - val_loss: 0.2434 - val_accuracy: 0.9503\n",
      "Epoch 22/50\n",
      "38/42 [==========================>...] - ETA: 0s - loss: 0.3406 - accuracy: 0.8753INFO:tensorflow:Assets written to: trained_models\\custom\\assets\n",
      "42/42 [==============================] - 1s 24ms/step - loss: 0.3393 - accuracy: 0.8754 - val_loss: 0.2362 - val_accuracy: 0.9391\n",
      "Epoch 23/50\n",
      "40/42 [===========================>..] - ETA: 0s - loss: 0.3220 - accuracy: 0.8825INFO:tensorflow:Assets written to: trained_models\\custom\\assets\n",
      "42/42 [==============================] - 1s 23ms/step - loss: 0.3228 - accuracy: 0.8822 - val_loss: 0.2253 - val_accuracy: 0.9549\n",
      "Epoch 24/50\n",
      "38/42 [==========================>...] - ETA: 0s - loss: 0.3181 - accuracy: 0.8789INFO:tensorflow:Assets written to: trained_models\\custom\\assets\n",
      "42/42 [==============================] - 1s 26ms/step - loss: 0.3208 - accuracy: 0.8774 - val_loss: 0.2166 - val_accuracy: 0.9616\n",
      "Epoch 25/50\n",
      "22/42 [==============>...............] - ETA: 0s - loss: 0.3369 - accuracy: 0.8691INFO:tensorflow:Assets written to: trained_models\\custom\\assets\n",
      "42/42 [==============================] - 2s 40ms/step - loss: 0.3236 - accuracy: 0.8783 - val_loss: 0.2136 - val_accuracy: 0.9661\n",
      "Epoch 26/50\n",
      "35/42 [========================>.....] - ETA: 0s - loss: 0.3334 - accuracy: 0.8686INFO:tensorflow:Assets written to: trained_models\\custom\\assets\n",
      "42/42 [==============================] - 2s 41ms/step - loss: 0.3299 - accuracy: 0.8720 - val_loss: 0.2076 - val_accuracy: 0.9729\n",
      "Epoch 27/50\n",
      "38/42 [==========================>...] - ETA: 0s - loss: 0.3161 - accuracy: 0.8774INFO:tensorflow:Assets written to: trained_models\\custom\\assets\n",
      "42/42 [==============================] - 1s 33ms/step - loss: 0.3198 - accuracy: 0.8749 - val_loss: 0.2005 - val_accuracy: 0.9774\n",
      "Epoch 28/50\n",
      "31/42 [=====================>........] - ETA: 0s - loss: 0.2965 - accuracy: 0.8826INFO:tensorflow:Assets written to: trained_models\\custom\\assets\n",
      "42/42 [==============================] - 1s 31ms/step - loss: 0.3060 - accuracy: 0.8769 - val_loss: 0.1961 - val_accuracy: 0.9819\n",
      "Epoch 29/50\n",
      "29/42 [===================>..........] - ETA: 0s - loss: 0.2982 - accuracy: 0.8862INFO:tensorflow:Assets written to: trained_models\\custom\\assets\n",
      "42/42 [==============================] - 1s 25ms/step - loss: 0.3010 - accuracy: 0.8822 - val_loss: 0.1908 - val_accuracy: 0.9842\n",
      "Epoch 30/50\n",
      "38/42 [==========================>...] - ETA: 0s - loss: 0.2952 - accuracy: 0.8842INFO:tensorflow:Assets written to: trained_models\\custom\\assets\n",
      "42/42 [==============================] - 1s 23ms/step - loss: 0.2979 - accuracy: 0.8822 - val_loss: 0.1858 - val_accuracy: 0.9887\n",
      "Epoch 31/50\n",
      "39/42 [==========================>...] - ETA: 0s - loss: 0.2879 - accuracy: 0.8872INFO:tensorflow:Assets written to: trained_models\\custom\\assets\n",
      "42/42 [==============================] - 1s 21ms/step - loss: 0.2824 - accuracy: 0.8909 - val_loss: 0.1772 - val_accuracy: 0.9910\n",
      "Epoch 32/50\n",
      "42/42 [==============================] - 0s 3ms/step - loss: 0.2942 - accuracy: 0.8817 - val_loss: 0.1773 - val_accuracy: 0.9977\n",
      "Epoch 33/50\n",
      "42/42 [==============================] - 0s 2ms/step - loss: 0.3006 - accuracy: 0.8808 - val_loss: 0.1779 - val_accuracy: 0.9977\n",
      "Epoch 34/50\n",
      "39/42 [==========================>...] - ETA: 0s - loss: 0.2814 - accuracy: 0.8851INFO:tensorflow:Assets written to: trained_models\\custom\\assets\n",
      "42/42 [==============================] - 1s 31ms/step - loss: 0.2823 - accuracy: 0.8851 - val_loss: 0.1709 - val_accuracy: 1.0000\n",
      "Epoch 35/50\n",
      "42/42 [==============================] - 0s 5ms/step - loss: 0.3031 - accuracy: 0.8764 - val_loss: 0.1719 - val_accuracy: 1.0000\n",
      "Epoch 36/50\n",
      "38/42 [==========================>...] - ETA: 0s - loss: 0.2899 - accuracy: 0.8895INFO:tensorflow:Assets written to: trained_models\\custom\\assets\n",
      "42/42 [==============================] - 2s 45ms/step - loss: 0.2862 - accuracy: 0.8919 - val_loss: 0.1696 - val_accuracy: 1.0000\n",
      "Epoch 37/50\n",
      "32/42 [=====================>........] - ETA: 0s - loss: 0.2948 - accuracy: 0.8844INFO:tensorflow:Assets written to: trained_models\\custom\\assets\n",
      "42/42 [==============================] - 2s 38ms/step - loss: 0.2801 - accuracy: 0.8919 - val_loss: 0.1673 - val_accuracy: 1.0000\n",
      "Epoch 38/50\n",
      "40/42 [===========================>..] - ETA: 0s - loss: 0.2879 - accuracy: 0.8970INFO:tensorflow:Assets written to: trained_models\\custom\\assets\n",
      "42/42 [==============================] - 1s 28ms/step - loss: 0.2890 - accuracy: 0.8968 - val_loss: 0.1638 - val_accuracy: 0.9955\n",
      "Epoch 39/50\n",
      "26/42 [=================>............] - ETA: 0s - loss: 0.2900 - accuracy: 0.8969INFO:tensorflow:Assets written to: trained_models\\custom\\assets\n",
      "42/42 [==============================] - 1s 34ms/step - loss: 0.2808 - accuracy: 0.9031 - val_loss: 0.1594 - val_accuracy: 0.9955\n",
      "Epoch 40/50\n",
      "35/42 [========================>.....] - ETA: 0s - loss: 0.2865 - accuracy: 0.8931INFO:tensorflow:Assets written to: trained_models\\custom\\assets\n",
      "42/42 [==============================] - 1s 29ms/step - loss: 0.2812 - accuracy: 0.8963 - val_loss: 0.1552 - val_accuracy: 0.9910\n",
      "Epoch 41/50\n",
      "39/42 [==========================>...] - ETA: 0s - loss: 0.2754 - accuracy: 0.9036INFO:tensorflow:Assets written to: trained_models\\custom\\assets\n",
      "42/42 [==============================] - 1s 26ms/step - loss: 0.2777 - accuracy: 0.9016 - val_loss: 0.1496 - val_accuracy: 0.9910\n",
      "Epoch 42/50\n",
      "39/42 [==========================>...] - ETA: 0s - loss: 0.2543 - accuracy: 0.9118INFO:tensorflow:Assets written to: trained_models\\custom\\assets\n",
      "42/42 [==============================] - 1s 32ms/step - loss: 0.2583 - accuracy: 0.9089 - val_loss: 0.1451 - val_accuracy: 0.9910\n",
      "Epoch 43/50\n",
      "39/42 [==========================>...] - ETA: 0s - loss: 0.2628 - accuracy: 0.9067INFO:tensorflow:Assets written to: trained_models\\custom\\assets\n",
      "42/42 [==============================] - 1s 29ms/step - loss: 0.2621 - accuracy: 0.9074 - val_loss: 0.1421 - val_accuracy: 0.9910\n",
      "Epoch 44/50\n",
      "27/42 [==================>...........] - ETA: 0s - loss: 0.2673 - accuracy: 0.9044INFO:tensorflow:Assets written to: trained_models\\custom\\assets\n",
      "42/42 [==============================] - 1s 19ms/step - loss: 0.2575 - accuracy: 0.9108 - val_loss: 0.1372 - val_accuracy: 0.9910\n",
      "Epoch 45/50\n",
      "30/42 [====================>.........] - ETA: 0s - loss: 0.2663 - accuracy: 0.9020INFO:tensorflow:Assets written to: trained_models\\custom\\assets\n",
      "42/42 [==============================] - 1s 19ms/step - loss: 0.2594 - accuracy: 0.9060 - val_loss: 0.1357 - val_accuracy: 0.9910\n",
      "Epoch 46/50\n",
      "25/42 [================>.............] - ETA: 0s - loss: 0.2467 - accuracy: 0.9128INFO:tensorflow:Assets written to: trained_models\\custom\\assets\n",
      "42/42 [==============================] - 1s 21ms/step - loss: 0.2596 - accuracy: 0.9055 - val_loss: 0.1302 - val_accuracy: 0.9910\n",
      "Epoch 47/50\n",
      "30/42 [====================>.........] - ETA: 0s - loss: 0.2374 - accuracy: 0.9140INFO:tensorflow:Assets written to: trained_models\\custom\\assets\n",
      "42/42 [==============================] - 1s 22ms/step - loss: 0.2335 - accuracy: 0.9137 - val_loss: 0.1293 - val_accuracy: 0.9910\n",
      "Epoch 48/50\n",
      "30/42 [====================>.........] - ETA: 0s - loss: 0.2328 - accuracy: 0.9127INFO:tensorflow:Assets written to: trained_models\\custom\\assets\n",
      "42/42 [==============================] - 1s 23ms/step - loss: 0.2338 - accuracy: 0.9089 - val_loss: 0.1254 - val_accuracy: 0.9910\n",
      "Epoch 49/50\n",
      "34/42 [=======================>......] - ETA: 0s - loss: 0.2349 - accuracy: 0.9112INFO:tensorflow:Assets written to: trained_models\\custom\\assets\n",
      "42/42 [==============================] - 1s 21ms/step - loss: 0.2285 - accuracy: 0.9152 - val_loss: 0.1188 - val_accuracy: 0.9955\n",
      "Epoch 50/50\n",
      "37/42 [=========================>....] - ETA: 0s - loss: 0.2335 - accuracy: 0.9081INFO:tensorflow:Assets written to: trained_models\\custom\\assets\n",
      "42/42 [==============================] - 1s 28ms/step - loss: 0.2345 - accuracy: 0.9069 - val_loss: 0.1169 - val_accuracy: 0.9955\n",
      "Complete. \n",
      "Model trained in 64.09 sec\n"
     ]
    }
   ],
   "source": [
    "#Fit\n",
    "start = time()\n",
    "history = model.fit(\n",
    "    x_train,\n",
    "    y_train,\n",
    "    validation_data=(x_val, y_val),\n",
    "    callbacks=callbacks,\n",
    "    epochs=50,\n",
    "    batch_size=50,\n",
    "    verbose=1 \n",
    ")\n",
    "\n",
    "print(f'Complete. \\nModel trained in {round(time()-start, 2)} sec')"
   ]
  },
  {
   "cell_type": "code",
   "execution_count": 11,
   "metadata": {},
   "outputs": [
    {
     "name": "stdout",
     "output_type": "stream",
     "text": [
      "\n",
      "Training accuracy: 90.693%\n",
      "Training loss: 0.2345\n",
      "\n",
      "Validation accuracy: 99.54899999999999%\n",
      "Validation loss: 0.1169\n"
     ]
    },
    {
     "data": {
      "image/png": "[encoded data removed]",
      "text/plain": [
       "<Figure size 720x360 with 1 Axes>"
      ]
     },
     "metadata": {
      "needs_background": "light"
     },
     "output_type": "display_data"
    },
    {
     "data": {
      "image/png": "[encoded data removed]",
      "text/plain": [
       "<Figure size 720x360 with 1 Axes>"
      ]
     },
     "metadata": {
      "needs_background": "light"
     },
     "output_type": "display_data"
    }
   ],
   "source": [
    "title_loss = 'Custom Model - Training & Validation Loss'\n",
    "title_acc = 'Custom Model - Training & Validation Accuracy'\n",
    "path_loss = 'img/models/custom_loss'\n",
    "path_acc = 'img/models/custom_acc'\n",
    "\n",
    "plot_train_val(history, title_acc=title_acc, title_loss=title_loss, path_acc=path_acc, path_loss=path_loss)"
   ]
  },
  {
   "cell_type": "markdown",
   "metadata": {},
   "source": [
    "## Evaluation Metrics\n",
    "---"
   ]
  },
  {
   "cell_type": "code",
   "execution_count": 14,
   "metadata": {},
   "outputs": [
    {
     "name": "stdout",
     "output_type": "stream",
     "text": [
      "Accuracy:  0.997737556561086\n",
      "Precision:  0.997737556561086\n",
      "Recall:  0.9977531596192853\n",
      "F1-score:  0.9977395696101171\n",
      "AUC:  0.9983221476510067\n"
     ]
    }
   ],
   "source": [
    "y_pred = np.argmax(model.predict(x_test), axis=-1) \n",
    "y_true = np.argmax(y_test, axis=-1) \n",
    "\n",
    "acc = accuracy_score(y_true, y_pred)\n",
    "recall = recall_score(y_true, y_pred, average='weighted')\n",
    "precision  = precision_score(y_true, y_pred, average='weighted')\n",
    "f1  = f1_score(y_true, y_pred, average='weighted')\n",
    "auc  = roc_auc_score(y_true, y_pred, average='weighted', multi_class='ovr')\n",
    "\n",
    "print('Accuracy: ', acc)\n",
    "print('Precision: ', recall)\n",
    "print('Recall: ', precision)\n",
    "print('F1-score: ', f1)\n",
    "print('AUC: ', auc)"
   ]
  },
  {
   "cell_type": "code",
   "execution_count": 15,
   "metadata": {},
   "outputs": [],
   "source": [
    "font = {'size': 16}\n",
    "labels = ['Normal', 'DoS']"
   ]
  },
  {
   "cell_type": "code",
   "execution_count": 16,
   "metadata": {},
   "outputs": [
    {
     "data": {
      "image/png": "[encoded data removed]",
      "text/plain": [
       "<Figure size 504x432 with 2 Axes>"
      ]
     },
     "metadata": {
      "needs_background": "light"
     },
     "output_type": "display_data"
    }
   ],
   "source": [
    "confusion = confusion_matrix(y_true, y_pred)\n",
    "plt.figure(figsize=(7,6))\n",
    "sns.heatmap(confusion, annot=True, linewidths=0.8, xticklabels=labels, yticklabels=labels, fmt='d', cmap='Blues')\n",
    "plt.title(f'Custom Model - Confusion Matrix', fontsize=20) \n",
    "plt.xlabel('Predicted', fontdict=font)\n",
    "plt.ylabel('True', fontdict=font)\n",
    "\n",
    "plt.savefig('img/models/custom_cm', bbox_inches=\"tight\") "
   ]
  }
 ],
 "metadata": {
  "interpreter": {
   "hash": "15d99b9aa0dbf3a358312963825951c4e42cc1dea07b49971ebf26684bae64aa"
  },
  "kernelspec": {
   "display_name": "Python 3.8.3 64-bit ('base': conda)",
   "name": "python3"
  },
  "language_info": {
   "codemirror_mode": {
    "name": "ipython",
    "version": 3
   },
   "file_extension": ".py",
   "mimetype": "text/x-python",
   "name": "python",
   "nbconvert_exporter": "python",
   "pygments_lexer": "ipython3",
   "version": "3.8.10"
  },
  "orig_nbformat": 4
 },
 "nbformat": 4,
 "nbformat_minor": 2
}
