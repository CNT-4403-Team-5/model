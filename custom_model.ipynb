{
 "cells": [
  {
   "cell_type": "code",
   "execution_count": 1,
   "metadata": {},
   "outputs": [],
   "source": [
    "from keras.models import Sequential\n",
    "from keras.layers import Dense, Dropout\n",
    "from tensorflow.keras.optimizers import Adam\n",
    "from sklearn.model_selection import train_test_split\n",
    "from sklearn.preprocessing import MinMaxScaler\n",
    "from keras.backend import clear_session\n",
    "from tensorflow.keras.utils import to_categorical\n",
    "from sklearn.metrics import *\n",
    "from time import time\n",
    "import numpy as np\n",
    "import matplotlib.pyplot as plt\n",
    "import seaborn as sns\n",
    "import pandas as pd\n",
    "from keras.callbacks import ModelCheckpoint"
   ]
  },
  {
   "cell_type": "markdown",
   "metadata": {},
   "source": [
    "## Functions\n",
    "\n",
    "---\n"
   ]
  },
  {
   "cell_type": "code",
   "execution_count": 2,
   "metadata": {},
   "outputs": [],
   "source": [
    "#Removes column of class labels from dataframe and saves into new array\n",
    "def features_labels_split(data, label_column):\n",
    "    features = data.copy()\n",
    "    columns_titles = list(data.columns)\n",
    "    features = features.reindex(columns=columns_titles)\n",
    "    labels = features.pop(label_column)\n",
    "    features = np.array(features)\n",
    "    labels = np.array(labels)\n",
    "    return features, labels\n",
    "\n",
    "\n",
    "#Plots training/validation accuracy and loss. Can optionally print the numerical values.\n",
    "def plot_train_val(model_history, title_acc, title_loss, path_acc, path_loss, metrics=True):\n",
    "    train_acc = np.array(model_history.history[\"accuracy\"])\n",
    "    train_loss = np.array(model_history.history[\"loss\"])\n",
    "\n",
    "    val_loss = np.array(model_history.history[\"val_loss\"])\n",
    "    val_acc = np.array(model_history.history[\"val_accuracy\"])\n",
    "\n",
    "    epochs = np.arange(train_loss.shape[0])\n",
    "    plt.figure(figsize=(10,5)) \n",
    "    plt.subplot(1,2,1)\n",
    "    plt.plot(epochs, train_loss, label = \"Training\")\n",
    "    plt.plot(epochs, val_loss, label = \"Validation\")\n",
    "    plt.xlabel(\"Epochs\")\n",
    "    plt.ylabel(\"Loss\")\n",
    "    plt.title(title_loss)\n",
    "    plt.legend()\n",
    "    plt.savefig(path_loss, bbox_inches=\"tight\") \n",
    "\n",
    "    plt.figure(figsize=(10,5)) \n",
    "    plt.subplot(1,2,2)\n",
    "    plt.plot(epochs, train_acc, label = \"Training\")\n",
    "    plt.plot(epochs, val_acc, label = \"Validation\")\n",
    "    plt.xlabel(\"Epochs\")\n",
    "    plt.ylabel(\"Accuracy\")\n",
    "    plt.title(title_acc)\n",
    "    plt.legend()\n",
    "    plt.savefig(path_acc, bbox_inches=\"tight\") \n",
    "\n",
    "    train_score = [train_acc[-1], train_loss[-1]]\n",
    "    val_score = [val_acc[-1], val_loss[-1]]\n",
    "\n",
    "    if metrics == True:\n",
    "        print(f\"\\nTraining accuracy: {round(train_score[0], 5) * 100}%\")\n",
    "        print(f\"Training loss: {round(train_score[1], 4)}\")\n",
    "        print(f\"\\nValidation accuracy: {round(val_score[0], 5) * 100}%\")\n",
    "        print(f\"Validation loss: {round(val_score[1], 4)}\")"
   ]
  },
  {
   "cell_type": "markdown",
   "metadata": {},
   "source": [
    "## Load Data\n",
    "\n",
    "---"
   ]
  },
  {
   "cell_type": "code",
   "execution_count": 3,
   "metadata": {},
   "outputs": [
    {
     "name": "stdout",
     "output_type": "stream",
     "text": [
      "x_train shape:  (1922, 165)\n",
      "y_train shape:  (1922, 2)\n",
      "x_test shape:  (412, 165)\n",
      "y_test shape:  (412, 2)\n",
      "x_val shape:  (413, 165)\n",
      "y_val shape:  (413, 2)\n"
     ]
    }
   ],
   "source": [
    "data = np.load('data/data.npz', allow_pickle=True)\n",
    "\n",
    "x_train = data['x_train']\n",
    "y_train = data['y_train']\n",
    "x_test = data['x_test']\n",
    "y_test = data['y_test']\n",
    "x_val = data['x_val']\n",
    "y_val = data['y_val']\n",
    "\n",
    "\n",
    "print('x_train shape: ', x_train.shape)\n",
    "print('y_train shape: ', y_train.shape)\n",
    "print('x_test shape: ', x_test.shape)\n",
    "print('y_test shape: ', y_test.shape)\n",
    "print('x_val shape: ', x_val.shape)\n",
    "print('y_val shape: ', y_val.shape)"
   ]
  },
  {
   "cell_type": "markdown",
   "metadata": {},
   "source": [
    "## Custom Model\n",
    "\n",
    "---"
   ]
  },
  {
   "cell_type": "code",
   "execution_count": 4,
   "metadata": {},
   "outputs": [
    {
     "name": "stdout",
     "output_type": "stream",
     "text": [
      "Model: \"sequential\"\n",
      "_________________________________________________________________\n",
      "Layer (type)                 Output Shape              Param #   \n",
      "=================================================================\n",
      "dense (Dense)                (None, 4)                 664       \n",
      "_________________________________________________________________\n",
      "dropout (Dropout)            (None, 4)                 0         \n",
      "_________________________________________________________________\n",
      "dense_1 (Dense)              (None, 4)                 20        \n",
      "_________________________________________________________________\n",
      "dense_2 (Dense)              (None, 2)                 10        \n",
      "=================================================================\n",
      "Total params: 694\n",
      "Trainable params: 694\n",
      "Non-trainable params: 0\n",
      "_________________________________________________________________\n"
     ]
    }
   ],
   "source": [
    "#Define\n",
    "model = Sequential()\n",
    "\n",
    "model.add(Dense(input_dim=x_train.shape[1], units=4, activation='relu')) #input & hidden layer 1\n",
    "model.add(Dropout(0.4))\n",
    "model.add(Dense(units=4, activation='relu')) #hidden layer 2\n",
    "model.add(Dense(units=2, activation='softmax')) #output/prediction layer\n",
    "\n",
    "model.summary() #display model architecture information"
   ]
  },
  {
   "cell_type": "code",
   "execution_count": 5,
   "metadata": {},
   "outputs": [],
   "source": [
    "#Compile\n",
    "model.compile(loss=\"binary_crossentropy\", \n",
    "        optimizer=Adam(learning_rate=0.001), \n",
    "        metrics=[\"accuracy\"])"
   ]
  },
  {
   "cell_type": "code",
   "execution_count": 6,
   "metadata": {},
   "outputs": [],
   "source": [
    "#Best model callback\n",
    "model_path = 'trained_models/custom'\n",
    "checkpoint = ModelCheckpoint(\n",
    "    filepath=model_path, \n",
    "    monitor='val_loss', #save model based on best validation loss\n",
    "    verbose=0, \n",
    "    save_best_only=True,\n",
    "    mode='min')\n",
    "callbacks = [checkpoint]"
   ]
  },
  {
   "cell_type": "code",
   "execution_count": 7,
   "metadata": {},
   "outputs": [
    {
     "name": "stdout",
     "output_type": "stream",
     "text": [
      "Epoch 1/50\n",
      "39/39 [==============================] - 12s 17ms/step - loss: 0.6862 - accuracy: 0.7056 - val_loss: 0.6642 - val_accuracy: 0.7022\n",
      "INFO:tensorflow:Assets written to: trained_models/custom/assets\n",
      "Epoch 2/50\n",
      "39/39 [==============================] - 0s 3ms/step - loss: 0.6485 - accuracy: 0.7200 - val_loss: 0.6267 - val_accuracy: 0.7022\n",
      "INFO:tensorflow:Assets written to: trained_models/custom/assets\n",
      "Epoch 3/50\n",
      "39/39 [==============================] - 0s 2ms/step - loss: 0.6102 - accuracy: 0.7220 - val_loss: 0.5845 - val_accuracy: 0.7022\n",
      "INFO:tensorflow:Assets written to: trained_models/custom/assets\n",
      "Epoch 4/50\n",
      "39/39 [==============================] - 0s 3ms/step - loss: 0.5634 - accuracy: 0.7411 - val_loss: 0.5468 - val_accuracy: 0.7022\n",
      "INFO:tensorflow:Assets written to: trained_models/custom/assets\n",
      "Epoch 5/50\n",
      "39/39 [==============================] - 0s 4ms/step - loss: 0.5392 - accuracy: 0.7365 - val_loss: 0.4883 - val_accuracy: 0.7022\n",
      "INFO:tensorflow:Assets written to: trained_models/custom/assets\n",
      "Epoch 6/50\n",
      "39/39 [==============================] - 0s 2ms/step - loss: 0.4787 - accuracy: 0.7574 - val_loss: 0.4307 - val_accuracy: 0.7022\n",
      "INFO:tensorflow:Assets written to: trained_models/custom/assets\n",
      "Epoch 7/50\n",
      "39/39 [==============================] - 0s 3ms/step - loss: 0.4527 - accuracy: 0.7710 - val_loss: 0.3818 - val_accuracy: 0.7337\n",
      "INFO:tensorflow:Assets written to: trained_models/custom/assets\n",
      "Epoch 8/50\n",
      "39/39 [==============================] - 0s 3ms/step - loss: 0.4019 - accuracy: 0.8388 - val_loss: 0.3379 - val_accuracy: 0.8232\n",
      "INFO:tensorflow:Assets written to: trained_models/custom/assets\n",
      "Epoch 9/50\n",
      "39/39 [==============================] - 0s 3ms/step - loss: 0.3733 - accuracy: 0.8526 - val_loss: 0.2955 - val_accuracy: 0.9443\n",
      "INFO:tensorflow:Assets written to: trained_models/custom/assets\n",
      "Epoch 10/50\n",
      "39/39 [==============================] - 0s 3ms/step - loss: 0.3401 - accuracy: 0.8714 - val_loss: 0.2543 - val_accuracy: 0.9540\n",
      "INFO:tensorflow:Assets written to: trained_models/custom/assets\n",
      "Epoch 11/50\n",
      "39/39 [==============================] - 0s 2ms/step - loss: 0.3161 - accuracy: 0.8719 - val_loss: 0.2185 - val_accuracy: 0.9661\n",
      "INFO:tensorflow:Assets written to: trained_models/custom/assets\n",
      "Epoch 12/50\n",
      "39/39 [==============================] - 0s 2ms/step - loss: 0.2793 - accuracy: 0.8957 - val_loss: 0.1809 - val_accuracy: 0.9903\n",
      "INFO:tensorflow:Assets written to: trained_models/custom/assets\n",
      "Epoch 13/50\n",
      "39/39 [==============================] - 0s 3ms/step - loss: 0.2582 - accuracy: 0.9222 - val_loss: 0.1504 - val_accuracy: 0.9976\n",
      "INFO:tensorflow:Assets written to: trained_models/custom/assets\n",
      "Epoch 14/50\n",
      "39/39 [==============================] - 0s 3ms/step - loss: 0.2273 - accuracy: 0.9350 - val_loss: 0.1262 - val_accuracy: 0.9976\n",
      "INFO:tensorflow:Assets written to: trained_models/custom/assets\n",
      "Epoch 15/50\n",
      "39/39 [==============================] - 0s 4ms/step - loss: 0.2071 - accuracy: 0.9370 - val_loss: 0.1028 - val_accuracy: 0.9976\n",
      "INFO:tensorflow:Assets written to: trained_models/custom/assets\n",
      "Epoch 16/50\n",
      "39/39 [==============================] - 0s 4ms/step - loss: 0.1918 - accuracy: 0.9485 - val_loss: 0.0855 - val_accuracy: 0.9976\n",
      "INFO:tensorflow:Assets written to: trained_models/custom/assets\n",
      "Epoch 17/50\n",
      "39/39 [==============================] - 0s 5ms/step - loss: 0.1924 - accuracy: 0.9456 - val_loss: 0.0738 - val_accuracy: 0.9976\n",
      "INFO:tensorflow:Assets written to: trained_models/custom/assets\n",
      "Epoch 18/50\n",
      "39/39 [==============================] - 0s 6ms/step - loss: 0.1763 - accuracy: 0.9395 - val_loss: 0.0623 - val_accuracy: 0.9976\n",
      "INFO:tensorflow:Assets written to: trained_models/custom/assets\n",
      "Epoch 19/50\n",
      "39/39 [==============================] - 0s 3ms/step - loss: 0.1598 - accuracy: 0.9471 - val_loss: 0.0542 - val_accuracy: 0.9976\n",
      "INFO:tensorflow:Assets written to: trained_models/custom/assets\n",
      "Epoch 20/50\n",
      "39/39 [==============================] - 0s 3ms/step - loss: 0.1428 - accuracy: 0.9560 - val_loss: 0.0460 - val_accuracy: 0.9976\n",
      "INFO:tensorflow:Assets written to: trained_models/custom/assets\n",
      "Epoch 21/50\n",
      "39/39 [==============================] - 0s 4ms/step - loss: 0.1342 - accuracy: 0.9643 - val_loss: 0.0403 - val_accuracy: 0.9976\n",
      "INFO:tensorflow:Assets written to: trained_models/custom/assets\n",
      "Epoch 22/50\n",
      "39/39 [==============================] - 0s 3ms/step - loss: 0.1293 - accuracy: 0.9561 - val_loss: 0.0359 - val_accuracy: 0.9976\n",
      "INFO:tensorflow:Assets written to: trained_models/custom/assets\n",
      "Epoch 23/50\n",
      "39/39 [==============================] - 0s 4ms/step - loss: 0.1235 - accuracy: 0.9630 - val_loss: 0.0326 - val_accuracy: 0.9976\n",
      "INFO:tensorflow:Assets written to: trained_models/custom/assets\n",
      "Epoch 24/50\n",
      "39/39 [==============================] - 0s 2ms/step - loss: 0.1374 - accuracy: 0.9506 - val_loss: 0.0291 - val_accuracy: 0.9976\n",
      "INFO:tensorflow:Assets written to: trained_models/custom/assets\n",
      "Epoch 25/50\n",
      "39/39 [==============================] - 0s 3ms/step - loss: 0.1194 - accuracy: 0.9586 - val_loss: 0.0265 - val_accuracy: 0.9976\n",
      "INFO:tensorflow:Assets written to: trained_models/custom/assets\n",
      "Epoch 26/50\n",
      "39/39 [==============================] - 0s 4ms/step - loss: 0.1144 - accuracy: 0.9650 - val_loss: 0.0224 - val_accuracy: 0.9976\n",
      "INFO:tensorflow:Assets written to: trained_models/custom/assets\n",
      "Epoch 27/50\n",
      "39/39 [==============================] - 0s 3ms/step - loss: 0.1011 - accuracy: 0.9638 - val_loss: 0.0184 - val_accuracy: 0.9976\n",
      "INFO:tensorflow:Assets written to: trained_models/custom/assets\n",
      "Epoch 28/50\n",
      "39/39 [==============================] - 0s 4ms/step - loss: 0.1019 - accuracy: 0.9630 - val_loss: 0.0174 - val_accuracy: 0.9976\n",
      "INFO:tensorflow:Assets written to: trained_models/custom/assets\n",
      "Epoch 29/50\n",
      "39/39 [==============================] - 0s 3ms/step - loss: 0.1088 - accuracy: 0.9584 - val_loss: 0.0150 - val_accuracy: 0.9976\n",
      "INFO:tensorflow:Assets written to: trained_models/custom/assets\n",
      "Epoch 30/50\n",
      "39/39 [==============================] - 0s 4ms/step - loss: 0.1096 - accuracy: 0.9567 - val_loss: 0.0144 - val_accuracy: 0.9976\n",
      "INFO:tensorflow:Assets written to: trained_models/custom/assets\n",
      "Epoch 31/50\n",
      "39/39 [==============================] - 0s 3ms/step - loss: 0.1124 - accuracy: 0.9532 - val_loss: 0.0138 - val_accuracy: 0.9976\n",
      "INFO:tensorflow:Assets written to: trained_models/custom/assets\n",
      "Epoch 32/50\n",
      "39/39 [==============================] - 0s 7ms/step - loss: 0.0793 - accuracy: 0.9762 - val_loss: 0.0121 - val_accuracy: 0.9976\n",
      "INFO:tensorflow:Assets written to: trained_models/custom/assets\n",
      "Epoch 33/50\n",
      "39/39 [==============================] - 0s 3ms/step - loss: 0.1018 - accuracy: 0.9612 - val_loss: 0.0114 - val_accuracy: 0.9976\n",
      "INFO:tensorflow:Assets written to: trained_models/custom/assets\n",
      "Epoch 34/50\n",
      "39/39 [==============================] - 0s 4ms/step - loss: 0.0986 - accuracy: 0.9604 - val_loss: 0.0105 - val_accuracy: 0.9976\n",
      "INFO:tensorflow:Assets written to: trained_models/custom/assets\n",
      "Epoch 35/50\n",
      "39/39 [==============================] - 0s 2ms/step - loss: 0.1178 - accuracy: 0.9499 - val_loss: 0.0107 - val_accuracy: 0.9976\n",
      "Epoch 36/50\n",
      "39/39 [==============================] - 0s 4ms/step - loss: 0.1042 - accuracy: 0.9540 - val_loss: 0.0091 - val_accuracy: 0.9976\n",
      "INFO:tensorflow:Assets written to: trained_models/custom/assets\n",
      "Epoch 37/50\n",
      "39/39 [==============================] - 0s 3ms/step - loss: 0.0977 - accuracy: 0.9595 - val_loss: 0.0081 - val_accuracy: 1.0000\n",
      "INFO:tensorflow:Assets written to: trained_models/custom/assets\n",
      "Epoch 38/50\n",
      "39/39 [==============================] - 0s 5ms/step - loss: 0.1048 - accuracy: 0.9565 - val_loss: 0.0073 - val_accuracy: 1.0000\n",
      "INFO:tensorflow:Assets written to: trained_models/custom/assets\n",
      "Epoch 39/50\n",
      "39/39 [==============================] - 0s 3ms/step - loss: 0.1033 - accuracy: 0.9567 - val_loss: 0.0068 - val_accuracy: 1.0000\n",
      "INFO:tensorflow:Assets written to: trained_models/custom/assets\n",
      "Epoch 40/50\n",
      "39/39 [==============================] - 0s 2ms/step - loss: 0.0881 - accuracy: 0.9661 - val_loss: 0.0062 - val_accuracy: 1.0000\n",
      "INFO:tensorflow:Assets written to: trained_models/custom/assets\n",
      "Epoch 41/50\n",
      "39/39 [==============================] - 0s 4ms/step - loss: 0.1095 - accuracy: 0.9487 - val_loss: 0.0058 - val_accuracy: 1.0000\n",
      "INFO:tensorflow:Assets written to: trained_models/custom/assets\n",
      "Epoch 42/50\n",
      "39/39 [==============================] - 0s 4ms/step - loss: 0.0950 - accuracy: 0.9636 - val_loss: 0.0055 - val_accuracy: 1.0000\n",
      "INFO:tensorflow:Assets written to: trained_models/custom/assets\n",
      "Epoch 43/50\n",
      "39/39 [==============================] - 0s 3ms/step - loss: 0.0872 - accuracy: 0.9658 - val_loss: 0.0052 - val_accuracy: 1.0000\n",
      "INFO:tensorflow:Assets written to: trained_models/custom/assets\n",
      "Epoch 44/50\n",
      "39/39 [==============================] - 0s 2ms/step - loss: 0.0900 - accuracy: 0.9609 - val_loss: 0.0046 - val_accuracy: 1.0000\n",
      "INFO:tensorflow:Assets written to: trained_models/custom/assets\n",
      "Epoch 45/50\n",
      "39/39 [==============================] - 0s 3ms/step - loss: 0.1078 - accuracy: 0.9530 - val_loss: 0.0047 - val_accuracy: 1.0000\n",
      "Epoch 46/50\n",
      "39/39 [==============================] - 0s 4ms/step - loss: 0.0951 - accuracy: 0.9600 - val_loss: 0.0043 - val_accuracy: 1.0000\n",
      "INFO:tensorflow:Assets written to: trained_models/custom/assets\n",
      "Epoch 47/50\n",
      "39/39 [==============================] - 0s 4ms/step - loss: 0.0995 - accuracy: 0.9560 - val_loss: 0.0040 - val_accuracy: 1.0000\n",
      "INFO:tensorflow:Assets written to: trained_models/custom/assets\n",
      "Epoch 48/50\n",
      "39/39 [==============================] - 0s 2ms/step - loss: 0.0962 - accuracy: 0.9566 - val_loss: 0.0037 - val_accuracy: 1.0000\n",
      "INFO:tensorflow:Assets written to: trained_models/custom/assets\n",
      "Epoch 49/50\n",
      "39/39 [==============================] - 0s 3ms/step - loss: 0.0868 - accuracy: 0.9636 - val_loss: 0.0036 - val_accuracy: 1.0000\n",
      "INFO:tensorflow:Assets written to: trained_models/custom/assets\n",
      "Epoch 50/50\n",
      "39/39 [==============================] - 0s 3ms/step - loss: 0.0988 - accuracy: 0.9545 - val_loss: 0.0036 - val_accuracy: 1.0000\n",
      "Complete. \n",
      "Model trained in 72.78 sec\n"
     ]
    }
   ],
   "source": [
    "#Fit\n",
    "start = time()\n",
    "history = model.fit(\n",
    "    x_train,\n",
    "    y_train,\n",
    "    validation_data=(x_val, y_val),\n",
    "    callbacks=callbacks,\n",
    "    epochs=50,\n",
    "    batch_size=50,\n",
    "    verbose=1 \n",
    ")\n",
    "\n",
    "\n",
    "print(f'Complete. \\nModel trained in {round(time()-start, 2)} sec')"
   ]
  },
  {
   "cell_type": "code",
   "execution_count": 8,
   "metadata": {},
   "outputs": [
    {
     "name": "stdout",
     "output_type": "stream",
     "text": [
      "\n",
      "Training accuracy: 95.21300000000001%\n",
      "Training loss: 0.1028\n",
      "\n",
      "Validation accuracy: 100.0%\n",
      "Validation loss: 0.0036\n"
     ]
    },
    {
     "data": {
      "image/png": "[encoded data removed]",
      "text/plain": [
       "<Figure size 720x360 with 1 Axes>"
      ]
     },
     "metadata": {
      "needs_background": "light"
     },
     "output_type": "display_data"
    },
    {
     "data": {
      "image/png": "[encoded data removed]",
      "text/plain": [
       "<Figure size 720x360 with 1 Axes>"
      ]
     },
     "metadata": {
      "needs_background": "light"
     },
     "output_type": "display_data"
    }
   ],
   "source": [
    "title_loss = 'Custom Model - Training & Validation Loss'\n",
    "title_acc = 'Custom Model - Training & Validation Accuracy'\n",
    "path_loss = 'img/models/custom_loss'\n",
    "path_acc = 'img/models/custom_acc'\n",
    "\n",
    "plot_train_val(history, title_acc=title_acc, title_loss=title_loss, path_acc=path_acc, path_loss=path_loss)"
   ]
  },
  {
   "cell_type": "markdown",
   "metadata": {},
   "source": [
    "## Evaluation Metrics\n",
    "---"
   ]
  },
  {
   "cell_type": "code",
   "execution_count": 9,
   "metadata": {},
   "outputs": [
    {
     "name": "stdout",
     "output_type": "stream",
     "text": [
      "Accuracy:  1.0\n",
      "Precision:  1.0\n",
      "Recall:  1.0\n",
      "F1-score:  1.0\n",
      "AUC:  1.0\n"
     ]
    }
   ],
   "source": [
    "y_pred = np.argmax(model.predict(x_test), axis=-1) \n",
    "y_true = np.argmax(y_test, axis=-1) \n",
    "\n",
    "acc = accuracy_score(y_true, y_pred)\n",
    "recall = recall_score(y_true, y_pred, average='weighted')\n",
    "precision  = precision_score(y_true, y_pred, average='weighted')\n",
    "f1  = f1_score(y_true, y_pred, average='weighted')\n",
    "auc  = roc_auc_score(y_true, y_pred, average='weighted', multi_class='ovr')\n",
    "\n",
    "print('Accuracy: ', acc)\n",
    "print('Precision: ', recall)\n",
    "print('Recall: ', precision)\n",
    "print('F1-score: ', f1)\n",
    "print('AUC: ', auc)"
   ]
  },
  {
   "cell_type": "markdown",
   "metadata": {},
   "source": [
    "## Confusion Matrix\n",
    "\n",
    "---"
   ]
  },
  {
   "cell_type": "code",
   "execution_count": 10,
   "metadata": {},
   "outputs": [],
   "source": [
    "font = {'size': 16}\n",
    "labels = ['Normal', 'DoS']"
   ]
  },
  {
   "cell_type": "code",
   "execution_count": 11,
   "metadata": {},
   "outputs": [
    {
     "data": {
      "image/png": "[encoded data removed]",
      "text/plain": [
       "<Figure size 504x432 with 2 Axes>"
      ]
     },
     "metadata": {
      "needs_background": "light"
     },
     "output_type": "display_data"
    }
   ],
   "source": [
    "confusion = confusion_matrix(y_true, y_pred)\n",
    "plt.figure(figsize=(7,6))\n",
    "sns.heatmap(confusion, annot=True, linewidths=0.8, xticklabels=labels, yticklabels=labels, fmt='d', cmap='Blues')\n",
    "plt.title(f'Custom Model - Confusion Matrix', fontsize=20) \n",
    "plt.xlabel('Predicted', fontdict=font)\n",
    "plt.ylabel('True', fontdict=font)\n",
    "\n",
    "plt.savefig('img/models/custom_cm', bbox_inches=\"tight\") "
   ]
  },
  {
   "cell_type": "code",
   "execution_count": null,
   "metadata": {},
   "outputs": [],
   "source": []
  }
 ],
 "metadata": {
  "interpreter": {
   "hash": "15d99b9aa0dbf3a358312963825951c4e42cc1dea07b49971ebf26684bae64aa"
  },
  "kernelspec": {
   "display_name": "Python 3.8.3 64-bit ('base': conda)",
   "name": "python3"
  },
  "language_info": {
   "codemirror_mode": {
    "name": "ipython",
    "version": 3
   },
   "file_extension": ".py",
   "mimetype": "text/x-python",
   "name": "python",
   "nbconvert_exporter": "python",
   "pygments_lexer": "ipython3",
   "version": "3.8.3"
  },
  "orig_nbformat": 4
 },
 "nbformat": 4,
 "nbformat_minor": 2
}
