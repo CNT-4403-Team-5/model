{
 "cells": [
  {
   "cell_type": "code",
   "execution_count": 4,
   "metadata": {},
   "outputs": [],
   "source": [
    "from keras.models import Sequential\n",
    "from keras.layers import Dense, Dropout\n",
    "from tensorflow.keras.optimizers import Adam\n",
    "from sklearn.model_selection import train_test_split\n",
    "from sklearn.preprocessing import MinMaxScaler\n",
    "from keras.backend import clear_session\n",
    "from tensorflow.keras.utils import to_categorical\n",
    "from sklearn.metrics import *\n",
    "from time import time\n",
    "import numpy as np\n",
    "import matplotlib.pyplot as plt\n",
    "import seaborn as sns\n",
    "import pandas as pd\n",
    "from keras.callbacks import ModelCheckpoint"
   ]
  },
  {
   "cell_type": "markdown",
   "metadata": {},
   "source": [
    "## Functions\n",
    "\n",
    "---\n"
   ]
  },
  {
   "cell_type": "code",
   "execution_count": 6,
   "metadata": {},
   "outputs": [],
   "source": [
    "#Removes column of class labels from dataframe and saves into new array\n",
    "def features_labels_split(data, label_column):\n",
    "    features = data.copy()\n",
    "    columns_titles = list(data.columns)\n",
    "    features = features.reindex(columns=columns_titles)\n",
    "    labels = features.pop(label_column)\n",
    "    features = np.array(features)\n",
    "    labels = np.array(labels)\n",
    "    return features, labels\n",
    "\n",
    "\n",
    "#Plots training/validation accuracy and loss. Can optionally print the numerical values.\n",
    "def plot_train_val(model_history, title_acc, title_loss, path_acc, path_loss, metrics=True):\n",
    "    train_acc = np.array(model_history.history[\"accuracy\"])\n",
    "    train_loss = np.array(model_history.history[\"loss\"])\n",
    "\n",
    "    val_loss = np.array(model_history.history[\"val_loss\"])\n",
    "    val_acc = np.array(model_history.history[\"val_accuracy\"])\n",
    "\n",
    "    epochs = np.arange(train_loss.shape[0])\n",
    "    plt.figure(figsize=(10,5)) \n",
    "    plt.subplot(1,2,1)\n",
    "    plt.plot(epochs, train_loss, label = \"Training\")\n",
    "    plt.plot(epochs, val_loss, label = \"Validation\")\n",
    "    plt.xlabel(\"Epochs\")\n",
    "    plt.ylabel(\"Loss\")\n",
    "    plt.title(title_acc)\n",
    "    plt.legend()\n",
    "    plt.savefig(path_acc, bbox_inches=\"tight\") \n",
    "\n",
    "    plt.figure(figsize=(10,5)) \n",
    "    plt.subplot(1,2,2)\n",
    "    plt.plot(epochs, train_acc, label = \"Training\")\n",
    "    plt.plot(epochs, val_acc, label = \"Validation\")\n",
    "    plt.xlabel(\"Epochs\")\n",
    "    plt.ylabel(\"Accuracy\")\n",
    "    plt.title(title_loss)\n",
    "    plt.legend()\n",
    "    plt.savefig(path_loss, bbox_inches=\"tight\") \n",
    "\n",
    "    train_score = [train_acc[-1], train_loss[-1]]\n",
    "    val_score = [val_acc[-1], val_loss[-1]]\n",
    "\n",
    "    if metrics == True:\n",
    "        print(f\"\\nTraining accuracy: {round(train_score[0], 5) * 100}%\")\n",
    "        print(f\"Training loss: {round(train_score[1], 4)}\")\n",
    "        print(f\"\\nValidation accuracy: {round(val_score[0], 5) * 100}%\")\n",
    "        print(f\"Validation loss: {round(val_score[1], 4)}\")"
   ]
  },
  {
   "cell_type": "markdown",
   "metadata": {},
   "source": [
    "## Load Data\n",
    "\n",
    "---"
   ]
  },
  {
   "cell_type": "code",
   "execution_count": 7,
   "metadata": {},
   "outputs": [
    {
     "name": "stdout",
     "output_type": "stream",
     "text": [
      "x_train shape:  (1922, 165)\n",
      "y_train shape:  (1922, 2)\n",
      "x_test shape:  (412, 165)\n",
      "y_test shape:  (412, 2)\n",
      "x_val shape:  (413, 165)\n",
      "y_val shape:  (413, 2)\n"
     ]
    }
   ],
   "source": [
    "data = np.load('data/data.npz', allow_pickle=True)\n",
    "\n",
    "x_train = data['x_train']\n",
    "y_train = data['y_train']\n",
    "x_test = data['x_test']\n",
    "y_test = data['y_test']\n",
    "x_val = data['x_val']\n",
    "y_val = data['y_val']\n",
    "\n",
    "\n",
    "print('x_train shape: ', x_train.shape)\n",
    "print('y_train shape: ', y_train.shape)\n",
    "print('x_test shape: ', x_test.shape)\n",
    "print('y_test shape: ', y_test.shape)\n",
    "print('x_val shape: ', x_val.shape)\n",
    "print('y_val shape: ', y_val.shape)"
   ]
  },
  {
   "cell_type": "markdown",
   "metadata": {},
   "source": [
    "## Custom Model\n",
    "\n",
    "---"
   ]
  },
  {
   "cell_type": "code",
   "execution_count": 8,
   "metadata": {},
   "outputs": [
    {
     "name": "stdout",
     "output_type": "stream",
     "text": [
      "Model: \"sequential\"\n",
      "_________________________________________________________________\n",
      " Layer (type)                Output Shape              Param #   \n",
      "=================================================================\n",
      " dense (Dense)               (None, 4)                 664       \n",
      "                                                                 \n",
      " dropout (Dropout)           (None, 4)                 0         \n",
      "                                                                 \n",
      " dense_1 (Dense)             (None, 4)                 20        \n",
      "                                                                 \n",
      " dense_2 (Dense)             (None, 2)                 10        \n",
      "                                                                 \n",
      "=================================================================\n",
      "Total params: 694\n",
      "Trainable params: 694\n",
      "Non-trainable params: 0\n",
      "_________________________________________________________________\n"
     ]
    }
   ],
   "source": [
    "#Define\n",
    "model = Sequential()\n",
    "\n",
    "model.add(Dense(input_dim=x_train.shape[1], units=4, activation='relu')) #input & hidden layer 1\n",
    "model.add(Dropout(0.4))\n",
    "model.add(Dense(units=4, activation='relu')) #hidden layer 2\n",
    "model.add(Dense(units=2, activation='softmax')) #output/prediction layer\n",
    "\n",
    "model.summary() #display model architecture information"
   ]
  },
  {
   "cell_type": "code",
   "execution_count": 9,
   "metadata": {},
   "outputs": [],
   "source": [
    "#Compile\n",
    "model.compile(loss=\"binary_crossentropy\", \n",
    "        optimizer=Adam(learning_rate=0.001), \n",
    "        metrics=[\"accuracy\"])"
   ]
  },
  {
   "cell_type": "code",
   "execution_count": 10,
   "metadata": {},
   "outputs": [],
   "source": [
    "#Best model callback\n",
    "model_path = 'trained_models/custom'\n",
    "checkpoint = ModelCheckpoint(\n",
    "    filepath=model_path, \n",
    "    monitor='val_loss', #save model based on best validation loss\n",
    "    verbose=0, \n",
    "    save_best_only=True,\n",
    "    mode='min')\n",
    "callbacks = [checkpoint]"
   ]
  },
  {
   "cell_type": "code",
   "execution_count": 11,
   "metadata": {},
   "outputs": [
    {
     "name": "stdout",
     "output_type": "stream",
     "text": [
      "Epoch 1/50\n",
      " 1/39 [..............................] - ETA: 15s - loss: 0.7099 - accuracy: 0.4600INFO:tensorflow:Assets written to: trained_models\\custom\\assets\n",
      "39/39 [==============================] - 1s 24ms/step - loss: 0.6863 - accuracy: 0.6831 - val_loss: 0.6733 - val_accuracy: 0.8329\n",
      "Epoch 2/50\n",
      "29/39 [=====================>........] - ETA: 0s - loss: 0.6697 - accuracy: 0.8324INFO:tensorflow:Assets written to: trained_models\\custom\\assets\n",
      "39/39 [==============================] - 1s 23ms/step - loss: 0.6674 - accuracy: 0.8351 - val_loss: 0.6527 - val_accuracy: 0.8354\n",
      "Epoch 3/50\n",
      "33/39 [========================>.....] - ETA: 0s - loss: 0.6481 - accuracy: 0.8491INFO:tensorflow:Assets written to: trained_models\\custom\\assets\n",
      "39/39 [==============================] - 1s 36ms/step - loss: 0.6453 - accuracy: 0.8559 - val_loss: 0.6220 - val_accuracy: 0.8862\n",
      "Epoch 4/50\n",
      "29/39 [=====================>........] - ETA: 0s - loss: 0.6159 - accuracy: 0.8828INFO:tensorflow:Assets written to: trained_models\\custom\\assets\n",
      "39/39 [==============================] - 1s 25ms/step - loss: 0.6109 - accuracy: 0.8861 - val_loss: 0.5724 - val_accuracy: 0.9225\n",
      "Epoch 5/50\n",
      "30/39 [======================>.......] - ETA: 0s - loss: 0.5720 - accuracy: 0.9140INFO:tensorflow:Assets written to: trained_models\\custom\\assets\n",
      "39/39 [==============================] - 1s 25ms/step - loss: 0.5664 - accuracy: 0.9178 - val_loss: 0.5072 - val_accuracy: 0.9637\n",
      "Epoch 6/50\n",
      "34/39 [=========================>....] - ETA: 0s - loss: 0.5056 - accuracy: 0.9365INFO:tensorflow:Assets written to: trained_models\\custom\\assets\n",
      "39/39 [==============================] - 1s 23ms/step - loss: 0.5037 - accuracy: 0.9329 - val_loss: 0.4366 - val_accuracy: 0.9782\n",
      "Epoch 7/50\n",
      "32/39 [=======================>......] - ETA: 0s - loss: 0.4459 - accuracy: 0.9475INFO:tensorflow:Assets written to: trained_models\\custom\\assets\n",
      "39/39 [==============================] - 1s 23ms/step - loss: 0.4389 - accuracy: 0.9516 - val_loss: 0.3652 - val_accuracy: 0.9855\n",
      "Epoch 8/50\n",
      "33/39 [========================>.....] - ETA: 0s - loss: 0.3799 - accuracy: 0.9521INFO:tensorflow:Assets written to: trained_models\\custom\\assets\n",
      "39/39 [==============================] - 1s 19ms/step - loss: 0.3778 - accuracy: 0.9537 - val_loss: 0.2965 - val_accuracy: 0.9976\n",
      "Epoch 9/50\n",
      "35/39 [=========================>....] - ETA: 0s - loss: 0.3312 - accuracy: 0.9640INFO:tensorflow:Assets written to: trained_models\\custom\\assets\n",
      "39/39 [==============================] - 1s 21ms/step - loss: 0.3308 - accuracy: 0.9631 - val_loss: 0.2419 - val_accuracy: 0.9976\n",
      "Epoch 10/50\n",
      "25/39 [==================>...........] - ETA: 0s - loss: 0.2962 - accuracy: 0.9664INFO:tensorflow:Assets written to: trained_models\\custom\\assets\n",
      "39/39 [==============================] - 1s 27ms/step - loss: 0.2870 - accuracy: 0.9672 - val_loss: 0.1960 - val_accuracy: 0.9976\n",
      "Epoch 11/50\n",
      "25/39 [==================>...........] - ETA: 0s - loss: 0.2638 - accuracy: 0.9632INFO:tensorflow:Assets written to: trained_models\\custom\\assets\n",
      "39/39 [==============================] - 1s 29ms/step - loss: 0.2571 - accuracy: 0.9646 - val_loss: 0.1625 - val_accuracy: 0.9976\n",
      "Epoch 12/50\n",
      "28/39 [====================>.........] - ETA: 0s - loss: 0.2272 - accuracy: 0.9707INFO:tensorflow:Assets written to: trained_models\\custom\\assets\n",
      "39/39 [==============================] - 1s 23ms/step - loss: 0.2237 - accuracy: 0.9729 - val_loss: 0.1376 - val_accuracy: 0.9976\n",
      "Epoch 13/50\n",
      "27/39 [===================>..........] - ETA: 0s - loss: 0.2042 - accuracy: 0.9756INFO:tensorflow:Assets written to: trained_models\\custom\\assets\n",
      "39/39 [==============================] - 1s 23ms/step - loss: 0.2022 - accuracy: 0.9745 - val_loss: 0.1150 - val_accuracy: 0.9976\n",
      "Epoch 14/50\n",
      "23/39 [================>.............] - ETA: 0s - loss: 0.2026 - accuracy: 0.9713INFO:tensorflow:Assets written to: trained_models\\custom\\assets\n",
      "39/39 [==============================] - 1s 25ms/step - loss: 0.1918 - accuracy: 0.9740 - val_loss: 0.0990 - val_accuracy: 0.9976\n",
      "Epoch 15/50\n",
      "32/39 [=======================>......] - ETA: 0s - loss: 0.1687 - accuracy: 0.9769INFO:tensorflow:Assets written to: trained_models\\custom\\assets\n",
      "39/39 [==============================] - 1s 24ms/step - loss: 0.1675 - accuracy: 0.9776 - val_loss: 0.0862 - val_accuracy: 0.9976\n",
      "Epoch 16/50\n",
      "25/39 [==================>...........] - ETA: 0s - loss: 0.1544 - accuracy: 0.9856INFO:tensorflow:Assets written to: trained_models\\custom\\assets\n",
      "39/39 [==============================] - 1s 24ms/step - loss: 0.1544 - accuracy: 0.9844 - val_loss: 0.0742 - val_accuracy: 0.9976\n",
      "Epoch 17/50\n",
      "26/39 [===================>..........] - ETA: 0s - loss: 0.1427 - accuracy: 0.9831INFO:tensorflow:Assets written to: trained_models\\custom\\assets\n",
      "39/39 [==============================] - 1s 20ms/step - loss: 0.1459 - accuracy: 0.9797 - val_loss: 0.0649 - val_accuracy: 0.9976\n",
      "Epoch 18/50\n",
      "30/39 [======================>.......] - ETA: 0s - loss: 0.1506 - accuracy: 0.9753INFO:tensorflow:Assets written to: trained_models\\custom\\assets\n",
      "39/39 [==============================] - 1s 23ms/step - loss: 0.1461 - accuracy: 0.9766 - val_loss: 0.0592 - val_accuracy: 0.9976\n",
      "Epoch 19/50\n",
      "37/39 [===========================>..] - ETA: 0s - loss: 0.1339 - accuracy: 0.9800INFO:tensorflow:Assets written to: trained_models\\custom\\assets\n",
      "39/39 [==============================] - 1s 26ms/step - loss: 0.1351 - accuracy: 0.9787 - val_loss: 0.0527 - val_accuracy: 0.9976\n",
      "Epoch 20/50\n",
      "30/39 [======================>.......] - ETA: 0s - loss: 0.1251 - accuracy: 0.9847INFO:tensorflow:Assets written to: trained_models\\custom\\assets\n",
      "39/39 [==============================] - 1s 21ms/step - loss: 0.1251 - accuracy: 0.9844 - val_loss: 0.0503 - val_accuracy: 0.9976\n",
      "Epoch 21/50\n",
      "33/39 [========================>.....] - ETA: 0s - loss: 0.1227 - accuracy: 0.9824INFO:tensorflow:Assets written to: trained_models\\custom\\assets\n",
      "39/39 [==============================] - 1s 17ms/step - loss: 0.1250 - accuracy: 0.9807 - val_loss: 0.0471 - val_accuracy: 0.9976\n",
      "Epoch 22/50\n",
      "35/39 [=========================>....] - ETA: 0s - loss: 0.1255 - accuracy: 0.9771INFO:tensorflow:Assets written to: trained_models\\custom\\assets\n",
      "39/39 [==============================] - 1s 17ms/step - loss: 0.1252 - accuracy: 0.9761 - val_loss: 0.0443 - val_accuracy: 0.9976\n",
      "Epoch 23/50\n",
      "36/39 [==========================>...] - ETA: 0s - loss: 0.1243 - accuracy: 0.9750INFO:tensorflow:Assets written to: trained_models\\custom\\assets\n",
      "39/39 [==============================] - 1s 17ms/step - loss: 0.1245 - accuracy: 0.9750 - val_loss: 0.0398 - val_accuracy: 0.9976\n",
      "Epoch 24/50\n",
      "30/39 [======================>.......] - ETA: 0s - loss: 0.1037 - accuracy: 0.9833INFO:tensorflow:Assets written to: trained_models\\custom\\assets\n",
      "39/39 [==============================] - 1s 19ms/step - loss: 0.1024 - accuracy: 0.9844 - val_loss: 0.0352 - val_accuracy: 0.9976\n",
      "Epoch 25/50\n",
      "30/39 [======================>.......] - ETA: 0s - loss: 0.0947 - accuracy: 0.9867INFO:tensorflow:Assets written to: trained_models\\custom\\assets\n",
      "39/39 [==============================] - 1s 20ms/step - loss: 0.0960 - accuracy: 0.9860 - val_loss: 0.0318 - val_accuracy: 0.9976\n",
      "Epoch 26/50\n",
      "32/39 [=======================>......] - ETA: 0s - loss: 0.1005 - accuracy: 0.9831INFO:tensorflow:Assets written to: trained_models\\custom\\assets\n",
      "39/39 [==============================] - 1s 17ms/step - loss: 0.1044 - accuracy: 0.9807 - val_loss: 0.0291 - val_accuracy: 0.9976\n",
      "Epoch 27/50\n",
      "33/39 [========================>.....] - ETA: 0s - loss: 0.1067 - accuracy: 0.9788INFO:tensorflow:Assets written to: trained_models\\custom\\assets\n",
      "39/39 [==============================] - 1s 20ms/step - loss: 0.1037 - accuracy: 0.9802 - val_loss: 0.0275 - val_accuracy: 0.9976\n",
      "Epoch 28/50\n",
      "37/39 [===========================>..] - ETA: 0s - loss: 0.0911 - accuracy: 0.9832INFO:tensorflow:Assets written to: trained_models\\custom\\assets\n",
      "39/39 [==============================] - 1s 16ms/step - loss: 0.0891 - accuracy: 0.9839 - val_loss: 0.0246 - val_accuracy: 0.9976\n",
      "Epoch 29/50\n",
      "36/39 [==========================>...] - ETA: 0s - loss: 0.1038 - accuracy: 0.9767INFO:tensorflow:Assets written to: trained_models\\custom\\assets\n",
      "39/39 [==============================] - 1s 24ms/step - loss: 0.1035 - accuracy: 0.9771 - val_loss: 0.0231 - val_accuracy: 0.9976\n",
      "Epoch 30/50\n",
      "23/39 [================>.............] - ETA: 0s - loss: 0.0939 - accuracy: 0.9791INFO:tensorflow:Assets written to: trained_models\\custom\\assets\n",
      "39/39 [==============================] - 1s 27ms/step - loss: 0.0928 - accuracy: 0.9807 - val_loss: 0.0213 - val_accuracy: 0.9976\n",
      "Epoch 31/50\n",
      "24/39 [=================>............] - ETA: 0s - loss: 0.0923 - accuracy: 0.9800INFO:tensorflow:Assets written to: trained_models\\custom\\assets\n",
      "39/39 [==============================] - 1s 30ms/step - loss: 0.0930 - accuracy: 0.9802 - val_loss: 0.0204 - val_accuracy: 0.9976\n",
      "Epoch 32/50\n",
      "21/39 [===============>..............] - ETA: 0s - loss: 0.0962 - accuracy: 0.9771INFO:tensorflow:Assets written to: trained_models\\custom\\assets\n",
      "39/39 [==============================] - 1s 31ms/step - loss: 0.0918 - accuracy: 0.9792 - val_loss: 0.0191 - val_accuracy: 1.0000\n",
      "Epoch 33/50\n",
      "22/39 [===============>..............] - ETA: 0s - loss: 0.0738 - accuracy: 0.9882INFO:tensorflow:Assets written to: trained_models\\custom\\assets\n",
      "39/39 [==============================] - 1s 30ms/step - loss: 0.0809 - accuracy: 0.9844 - val_loss: 0.0185 - val_accuracy: 0.9976\n",
      "Epoch 34/50\n",
      "25/39 [==================>...........] - ETA: 0s - loss: 0.0824 - accuracy: 0.9832INFO:tensorflow:Assets written to: trained_models\\custom\\assets\n",
      "39/39 [==============================] - 1s 22ms/step - loss: 0.0807 - accuracy: 0.9834 - val_loss: 0.0179 - val_accuracy: 1.0000\n",
      "Epoch 35/50\n",
      "28/39 [====================>.........] - ETA: 0s - loss: 0.0737 - accuracy: 0.9864INFO:tensorflow:Assets written to: trained_models\\custom\\assets\n",
      "39/39 [==============================] - 1s 28ms/step - loss: 0.0788 - accuracy: 0.9844 - val_loss: 0.0165 - val_accuracy: 1.0000\n",
      "Epoch 36/50\n",
      "22/39 [===============>..............] - ETA: 0s - loss: 0.0822 - accuracy: 0.9818INFO:tensorflow:Assets written to: trained_models\\custom\\assets\n",
      "39/39 [==============================] - 1s 29ms/step - loss: 0.0807 - accuracy: 0.9823 - val_loss: 0.0157 - val_accuracy: 1.0000\n",
      "Epoch 37/50\n",
      "24/39 [=================>............] - ETA: 0s - loss: 0.0768 - accuracy: 0.9833INFO:tensorflow:Assets written to: trained_models\\custom\\assets\n",
      "39/39 [==============================] - 1s 30ms/step - loss: 0.0789 - accuracy: 0.9823 - val_loss: 0.0148 - val_accuracy: 1.0000\n",
      "Epoch 38/50\n",
      "23/39 [================>.............] - ETA: 0s - loss: 0.0654 - accuracy: 0.9870INFO:tensorflow:Assets written to: trained_models\\custom\\assets\n",
      "39/39 [==============================] - 1s 27ms/step - loss: 0.0668 - accuracy: 0.9865 - val_loss: 0.0139 - val_accuracy: 1.0000\n",
      "Epoch 39/50\n",
      "24/39 [=================>............] - ETA: 0s - loss: 0.0780 - accuracy: 0.9825INFO:tensorflow:Assets written to: trained_models\\custom\\assets\n",
      "39/39 [==============================] - 1s 25ms/step - loss: 0.0850 - accuracy: 0.9797 - val_loss: 0.0129 - val_accuracy: 1.0000\n",
      "Epoch 40/50\n",
      "26/39 [===================>..........] - ETA: 0s - loss: 0.0789 - accuracy: 0.9815INFO:tensorflow:Assets written to: trained_models\\custom\\assets\n",
      "39/39 [==============================] - 1s 24ms/step - loss: 0.0863 - accuracy: 0.9781 - val_loss: 0.0125 - val_accuracy: 1.0000\n",
      "Epoch 41/50\n",
      "39/39 [==============================] - 0s 3ms/step - loss: 0.0816 - accuracy: 0.9802 - val_loss: 0.0129 - val_accuracy: 1.0000\n",
      "Epoch 42/50\n",
      "26/39 [===================>..........] - ETA: 0s - loss: 0.0715 - accuracy: 0.9838INFO:tensorflow:Assets written to: trained_models\\custom\\assets\n",
      "39/39 [==============================] - 1s 31ms/step - loss: 0.0757 - accuracy: 0.9818 - val_loss: 0.0122 - val_accuracy: 1.0000\n",
      "Epoch 43/50\n",
      "26/39 [===================>..........] - ETA: 0s - loss: 0.0649 - accuracy: 0.9862INFO:tensorflow:Assets written to: trained_models\\custom\\assets\n",
      "39/39 [==============================] - 1s 19ms/step - loss: 0.0647 - accuracy: 0.9865 - val_loss: 0.0115 - val_accuracy: 1.0000\n",
      "Epoch 44/50\n",
      "36/39 [==========================>...] - ETA: 0s - loss: 0.0785 - accuracy: 0.9811INFO:tensorflow:Assets written to: trained_models\\custom\\assets\n",
      "39/39 [==============================] - 1s 20ms/step - loss: 0.0777 - accuracy: 0.9813 - val_loss: 0.0109 - val_accuracy: 1.0000\n",
      "Epoch 45/50\n",
      "34/39 [=========================>....] - ETA: 0s - loss: 0.0631 - accuracy: 0.9871INFO:tensorflow:Assets written to: trained_models\\custom\\assets\n",
      "39/39 [==============================] - 1s 18ms/step - loss: 0.0659 - accuracy: 0.9860 - val_loss: 0.0101 - val_accuracy: 1.0000\n",
      "Epoch 46/50\n",
      "39/39 [==============================] - 0s 2ms/step - loss: 0.0810 - accuracy: 0.9792 - val_loss: 0.0108 - val_accuracy: 1.0000\n",
      "Epoch 47/50\n",
      "39/39 [==============================] - ETA: 0s - loss: 0.0625 - accuracy: 0.9854INFO:tensorflow:Assets written to: trained_models\\custom\\assets\n",
      "39/39 [==============================] - 1s 20ms/step - loss: 0.0625 - accuracy: 0.9854 - val_loss: 0.0096 - val_accuracy: 1.0000\n",
      "Epoch 48/50\n",
      "16/39 [===========>..................] - ETA: 0s - loss: 0.0753 - accuracy: 0.9825INFO:tensorflow:Assets written to: trained_models\\custom\\assets\n",
      "39/39 [==============================] - 1s 23ms/step - loss: 0.0729 - accuracy: 0.9828 - val_loss: 0.0091 - val_accuracy: 1.0000\n",
      "Epoch 49/50\n",
      "23/39 [================>.............] - ETA: 0s - loss: 0.0662 - accuracy: 0.9843INFO:tensorflow:Assets written to: trained_models\\custom\\assets\n",
      "39/39 [==============================] - 1s 27ms/step - loss: 0.0712 - accuracy: 0.9823 - val_loss: 0.0089 - val_accuracy: 1.0000\n",
      "Epoch 50/50\n",
      "39/39 [==============================] - 0s 3ms/step - loss: 0.0760 - accuracy: 0.9813 - val_loss: 0.0093 - val_accuracy: 1.0000\n",
      "Complete. \n",
      "Model trained in 43.3 sec\n"
     ]
    }
   ],
   "source": [
    "#Fit\n",
    "start = time()\n",
    "history = model.fit(\n",
    "    x_train,\n",
    "    y_train,\n",
    "    validation_data=(x_val, y_val),\n",
    "    callbacks=callbacks,\n",
    "    epochs=50,\n",
    "    batch_size=50,\n",
    "    verbose=1 \n",
    ")\n",
    "\n",
    "\n",
    "print(f'Complete. \\nModel trained in {round(time()-start, 2)} sec')"
   ]
  },
  {
   "cell_type": "code",
   "execution_count": 12,
   "metadata": {},
   "outputs": [
    {
     "name": "stdout",
     "output_type": "stream",
     "text": [
      "\n",
      "Training accuracy: 98.127%\n",
      "Training loss: 0.076\n",
      "\n",
      "Validation accuracy: 100.0%\n",
      "Validation loss: 0.0093\n"
     ]
    },
    {
     "data": {
      "image/png": "[encoded data removed]",
      "text/plain": [
       "<Figure size 720x360 with 1 Axes>"
      ]
     },
     "metadata": {
      "needs_background": "light"
     },
     "output_type": "display_data"
    },
    {
     "data": {
      "image/png": "[encoded data removed]",
      "text/plain": [
       "<Figure size 720x360 with 1 Axes>"
      ]
     },
     "metadata": {
      "needs_background": "light"
     },
     "output_type": "display_data"
    }
   ],
   "source": [
    "title_loss = 'Custom Model - Training & Validation Loss'\n",
    "title_acc = 'Custom Model - Training & Validation Accuracy'\n",
    "path_loss = 'img/models/custom_loss'\n",
    "path_acc = 'img/models/custom_acc'\n",
    "\n",
    "plot_train_val(history, title_acc=title_acc, title_loss=title_loss, path_acc=path_acc, path_loss=path_loss)"
   ]
  },
  {
   "cell_type": "markdown",
   "metadata": {},
   "source": [
    "## Evaluation Metrics\n",
    "---"
   ]
  },
  {
   "cell_type": "code",
   "execution_count": 9,
   "metadata": {},
   "outputs": [
    {
     "name": "stdout",
     "output_type": "stream",
     "text": [
      "Accuracy:  1.0\n",
      "Precision:  1.0\n",
      "Recall:  1.0\n",
      "F1-score:  1.0\n",
      "AUC:  1.0\n"
     ]
    }
   ],
   "source": [
    "y_pred = np.argmax(model.predict(x_test), axis=-1) \n",
    "y_true = np.argmax(y_test, axis=-1) \n",
    "\n",
    "acc = accuracy_score(y_true, y_pred)\n",
    "recall = recall_score(y_true, y_pred, average='weighted')\n",
    "precision  = precision_score(y_true, y_pred, average='weighted')\n",
    "f1  = f1_score(y_true, y_pred, average='weighted')\n",
    "auc  = roc_auc_score(y_true, y_pred, average='weighted', multi_class='ovr')\n",
    "\n",
    "print('Accuracy: ', acc)\n",
    "print('Precision: ', recall)\n",
    "print('Recall: ', precision)\n",
    "print('F1-score: ', f1)\n",
    "print('AUC: ', auc)"
   ]
  },
  {
   "cell_type": "markdown",
   "metadata": {},
   "source": [
    "## Confusion Matrix\n",
    "\n",
    "---"
   ]
  },
  {
   "cell_type": "code",
   "execution_count": 10,
   "metadata": {},
   "outputs": [],
   "source": [
    "font = {'size': 16}\n",
    "labels = ['Normal', 'DoS']"
   ]
  },
  {
   "cell_type": "code",
   "execution_count": 11,
   "metadata": {},
   "outputs": [
    {
     "data": {
      "image/png": "[encoded data removed]",
      "text/plain": [
       "<Figure size 504x432 with 2 Axes>"
      ]
     },
     "metadata": {
      "needs_background": "light"
     },
     "output_type": "display_data"
    }
   ],
   "source": [
    "confusion = confusion_matrix(y_true, y_pred)\n",
    "plt.figure(figsize=(7,6))\n",
    "sns.heatmap(confusion, annot=True, linewidths=0.8, xticklabels=labels, yticklabels=labels, fmt='d', cmap='Blues')\n",
    "plt.title(f'Custom Model - Confusion Matrix', fontsize=20) \n",
    "plt.xlabel('Predicted', fontdict=font)\n",
    "plt.ylabel('True', fontdict=font)\n",
    "\n",
    "plt.savefig('img/models/custom_cm', bbox_inches=\"tight\") "
   ]
  },
  {
   "cell_type": "code",
   "execution_count": null,
   "metadata": {},
   "outputs": [],
   "source": []
  }
 ],
 "metadata": {
  "interpreter": {
   "hash": "15d99b9aa0dbf3a358312963825951c4e42cc1dea07b49971ebf26684bae64aa"
  },
  "kernelspec": {
   "display_name": "Python 3.8.3 64-bit ('base': conda)",
   "name": "python3"
  },
  "language_info": {
   "codemirror_mode": {
    "name": "ipython",
    "version": 3
   },
   "file_extension": ".py",
   "mimetype": "text/x-python",
   "name": "python",
   "nbconvert_exporter": "python",
   "pygments_lexer": "ipython3",
   "version": "3.8.10"
  },
  "orig_nbformat": 4
 },
 "nbformat": 4,
 "nbformat_minor": 2
}
