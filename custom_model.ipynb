{
 "cells": [
  {
   "cell_type": "code",
   "execution_count": 1,
   "metadata": {},
   "outputs": [
    {
     "name": "stderr",
     "output_type": "stream",
     "text": [
      "Using TensorFlow backend.\n",
      "C:\\Python37\\lib\\site-packages\\tensorflow\\python\\framework\\dtypes.py:516: FutureWarning: Passing (type, 1) or '1type' as a synonym of type is deprecated; in a future version of numpy, it will be understood as (type, (1,)) / '(1,)type'.\n",
      "  _np_qint8 = np.dtype([(\"qint8\", np.int8, 1)])\n",
      "C:\\Python37\\lib\\site-packages\\tensorflow\\python\\framework\\dtypes.py:517: FutureWarning: Passing (type, 1) or '1type' as a synonym of type is deprecated; in a future version of numpy, it will be understood as (type, (1,)) / '(1,)type'.\n",
      "  _np_quint8 = np.dtype([(\"quint8\", np.uint8, 1)])\n",
      "C:\\Python37\\lib\\site-packages\\tensorflow\\python\\framework\\dtypes.py:518: FutureWarning: Passing (type, 1) or '1type' as a synonym of type is deprecated; in a future version of numpy, it will be understood as (type, (1,)) / '(1,)type'.\n",
      "  _np_qint16 = np.dtype([(\"qint16\", np.int16, 1)])\n",
      "C:\\Python37\\lib\\site-packages\\tensorflow\\python\\framework\\dtypes.py:519: FutureWarning: Passing (type, 1) or '1type' as a synonym of type is deprecated; in a future version of numpy, it will be understood as (type, (1,)) / '(1,)type'.\n",
      "  _np_quint16 = np.dtype([(\"quint16\", np.uint16, 1)])\n",
      "C:\\Python37\\lib\\site-packages\\tensorflow\\python\\framework\\dtypes.py:520: FutureWarning: Passing (type, 1) or '1type' as a synonym of type is deprecated; in a future version of numpy, it will be understood as (type, (1,)) / '(1,)type'.\n",
      "  _np_qint32 = np.dtype([(\"qint32\", np.int32, 1)])\n",
      "C:\\Python37\\lib\\site-packages\\tensorflow\\python\\framework\\dtypes.py:525: FutureWarning: Passing (type, 1) or '1type' as a synonym of type is deprecated; in a future version of numpy, it will be understood as (type, (1,)) / '(1,)type'.\n",
      "  np_resource = np.dtype([(\"resource\", np.ubyte, 1)])\n",
      "C:\\Python37\\lib\\site-packages\\tensorboard\\compat\\tensorflow_stub\\dtypes.py:541: FutureWarning: Passing (type, 1) or '1type' as a synonym of type is deprecated; in a future version of numpy, it will be understood as (type, (1,)) / '(1,)type'.\n",
      "  _np_qint8 = np.dtype([(\"qint8\", np.int8, 1)])\n",
      "C:\\Python37\\lib\\site-packages\\tensorboard\\compat\\tensorflow_stub\\dtypes.py:542: FutureWarning: Passing (type, 1) or '1type' as a synonym of type is deprecated; in a future version of numpy, it will be understood as (type, (1,)) / '(1,)type'.\n",
      "  _np_quint8 = np.dtype([(\"quint8\", np.uint8, 1)])\n",
      "C:\\Python37\\lib\\site-packages\\tensorboard\\compat\\tensorflow_stub\\dtypes.py:543: FutureWarning: Passing (type, 1) or '1type' as a synonym of type is deprecated; in a future version of numpy, it will be understood as (type, (1,)) / '(1,)type'.\n",
      "  _np_qint16 = np.dtype([(\"qint16\", np.int16, 1)])\n",
      "C:\\Python37\\lib\\site-packages\\tensorboard\\compat\\tensorflow_stub\\dtypes.py:544: FutureWarning: Passing (type, 1) or '1type' as a synonym of type is deprecated; in a future version of numpy, it will be understood as (type, (1,)) / '(1,)type'.\n",
      "  _np_quint16 = np.dtype([(\"quint16\", np.uint16, 1)])\n",
      "C:\\Python37\\lib\\site-packages\\tensorboard\\compat\\tensorflow_stub\\dtypes.py:545: FutureWarning: Passing (type, 1) or '1type' as a synonym of type is deprecated; in a future version of numpy, it will be understood as (type, (1,)) / '(1,)type'.\n",
      "  _np_qint32 = np.dtype([(\"qint32\", np.int32, 1)])\n",
      "C:\\Python37\\lib\\site-packages\\tensorboard\\compat\\tensorflow_stub\\dtypes.py:550: FutureWarning: Passing (type, 1) or '1type' as a synonym of type is deprecated; in a future version of numpy, it will be understood as (type, (1,)) / '(1,)type'.\n",
      "  np_resource = np.dtype([(\"resource\", np.ubyte, 1)])\n"
     ]
    }
   ],
   "source": [
    "from keras.models import Sequential\n",
    "from keras.layers import Dense, Dropout\n",
    "from keras.optimizers import Adam\n",
    "from keras.utils import to_categorical\n",
    "from sklearn.model_selection import train_test_split\n",
    "from sklearn.preprocessing import MinMaxScaler\n",
    "from keras.backend import clear_session\n",
    "from keras.utils import to_categorical\n",
    "from sklearn.metrics import *\n",
    "from time import time\n",
    "import numpy as np\n",
    "import matplotlib.pyplot as plt\n",
    "import seaborn as sns\n",
    "import pandas as pd\n",
    "from keras.callbacks import ModelCheckpoint"
   ]
  },
  {
   "cell_type": "markdown",
   "metadata": {},
   "source": [
    "## Functions\n",
    "\n",
    "---\n"
   ]
  },
  {
   "cell_type": "code",
   "execution_count": 2,
   "metadata": {},
   "outputs": [],
   "source": [
    "#Removes column of class labels from dataframe and saves into new array\n",
    "def features_labels_split(data, label_column):\n",
    "    features = data.copy()\n",
    "    columns_titles = list(data.columns)\n",
    "    features = features.reindex(columns=columns_titles)\n",
    "    labels = features.pop(label_column)\n",
    "    features = np.array(features)\n",
    "    labels = np.array(labels)\n",
    "    return features, labels\n",
    "\n",
    "\n",
    "#Plots training/validation accuracy and loss. Can optionally print the numerical values.\n",
    "def plot_train_val(model_history, title_acc, title_loss, path_acc, path_loss, metrics=True):\n",
    "    train_acc = np.array(model_history.history[\"accuracy\"])\n",
    "    train_loss = np.array(model_history.history[\"loss\"])\n",
    "\n",
    "    val_loss = np.array(model_history.history[\"val_loss\"])\n",
    "    val_acc = np.array(model_history.history[\"val_accuracy\"])\n",
    "\n",
    "    epochs = np.arange(train_loss.shape[0])\n",
    "    plt.figure(figsize=(10,5)) \n",
    "    plt.subplot(1,2,1)\n",
    "    plt.plot(epochs, train_loss, label = \"Training\")\n",
    "    plt.plot(epochs, val_loss, label = \"Validation\")\n",
    "    plt.xlabel(\"Epochs\")\n",
    "    plt.ylabel(\"Loss\")\n",
    "    plt.title(title_acc)\n",
    "    plt.legend()\n",
    "    plt.savefig(path_acc, bbox_inches=\"tight\") \n",
    "\n",
    "    plt.figure(figsize=(10,5)) \n",
    "    plt.subplot(1,2,2)\n",
    "    plt.plot(epochs, train_acc, label = \"Training\")\n",
    "    plt.plot(epochs, val_acc, label = \"Validation\")\n",
    "    plt.xlabel(\"Epochs\")\n",
    "    plt.ylabel(\"Accuracy\")\n",
    "    plt.title(title_loss)\n",
    "    plt.legend()\n",
    "    plt.savefig(path_loss, bbox_inches=\"tight\") \n",
    "\n",
    "    train_score = [train_acc[-1], train_loss[-1]]\n",
    "    val_score = [val_acc[-1], val_loss[-1]]\n",
    "\n",
    "    if metrics == True:\n",
    "        print(f\"\\nTraining accuracy: {round(train_score[0], 5) * 100}%\")\n",
    "        print(f\"Training loss: {round(train_score[1], 4)}\")\n",
    "        print(f\"\\nValidation accuracy: {round(val_score[0], 5) * 100}%\")\n",
    "        print(f\"Validation loss: {round(val_score[1], 4)}\")"
   ]
  },
  {
   "cell_type": "markdown",
   "metadata": {},
   "source": [
    "## Load Data\n",
    "\n",
    "---"
   ]
  },
  {
   "cell_type": "code",
   "execution_count": 3,
   "metadata": {},
   "outputs": [
    {
     "name": "stdout",
     "output_type": "stream",
     "text": [
      "x_train shape:  (1922, 165)\n",
      "y_train shape:  (1922, 2)\n",
      "x_test shape:  (412, 165)\n",
      "y_test shape:  (412, 2)\n",
      "x_val shape:  (413, 165)\n",
      "y_val shape:  (413, 2)\n"
     ]
    }
   ],
   "source": [
    "data = np.load('data/data.npz', allow_pickle=True)\n",
    "\n",
    "x_train = data['x_train']\n",
    "y_train = data['y_train']\n",
    "x_test = data['x_test']\n",
    "y_test = data['y_test']\n",
    "x_val = data['x_val']\n",
    "y_val = data['y_val']\n",
    "\n",
    "\n",
    "print('x_train shape: ', x_train.shape)\n",
    "print('y_train shape: ', y_train.shape)\n",
    "print('x_test shape: ', x_test.shape)\n",
    "print('y_test shape: ', y_test.shape)\n",
    "print('x_val shape: ', x_val.shape)\n",
    "print('y_val shape: ', y_val.shape)"
   ]
  },
  {
   "cell_type": "markdown",
   "metadata": {},
   "source": [
    "## Custom Model\n",
    "\n",
    "---"
   ]
  },
  {
   "cell_type": "code",
   "execution_count": 4,
   "metadata": {},
   "outputs": [
    {
     "name": "stdout",
     "output_type": "stream",
     "text": [
      "Model: \"sequential_1\"\n",
      "_________________________________________________________________\n",
      "Layer (type)                 Output Shape              Param #   \n",
      "=================================================================\n",
      "dense_1 (Dense)              (None, 4)                 664       \n",
      "_________________________________________________________________\n",
      "dropout_1 (Dropout)          (None, 4)                 0         \n",
      "_________________________________________________________________\n",
      "dense_2 (Dense)              (None, 4)                 20        \n",
      "_________________________________________________________________\n",
      "dense_3 (Dense)              (None, 2)                 10        \n",
      "=================================================================\n",
      "Total params: 694\n",
      "Trainable params: 694\n",
      "Non-trainable params: 0\n",
      "_________________________________________________________________\n"
     ]
    }
   ],
   "source": [
    "#Define\n",
    "model = Sequential()\n",
    "\n",
    "model.add(Dense(input_dim=x_train.shape[1], units=4, activation='relu')) #input & hidden layer 1\n",
    "model.add(Dropout(0.4))\n",
    "model.add(Dense(units=4, activation='relu')) #hidden layer 2\n",
    "model.add(Dense(units=2, activation='softmax')) #output/prediction layer\n",
    "\n",
    "model.summary() #display model architecture information"
   ]
  },
  {
   "cell_type": "code",
   "execution_count": 5,
   "metadata": {},
   "outputs": [],
   "source": [
    "#Compile\n",
    "model.compile(loss=\"binary_crossentropy\", \n",
    "        optimizer=Adam(learning_rate=0.001), \n",
    "        metrics=[\"accuracy\"])"
   ]
  },
  {
   "cell_type": "code",
   "execution_count": 6,
   "metadata": {},
   "outputs": [],
   "source": [
    "#Best model callback\n",
    "model_path = 'trained_models/custom'\n",
    "checkpoint = ModelCheckpoint(\n",
    "    filepath=model_path, \n",
    "    monitor='val_loss', #save model based on best validation loss\n",
    "    verbose=0, \n",
    "    save_best_only=True,\n",
    "    mode='min')\n",
    "callbacks = [checkpoint]"
   ]
  },
  {
   "cell_type": "code",
   "execution_count": 7,
   "metadata": {},
   "outputs": [
    {
     "name": "stdout",
     "output_type": "stream",
     "text": [
      "WARNING:tensorflow:From C:\\Python37\\lib\\site-packages\\tensorflow\\python\\ops\\math_grad.py:1250: add_dispatch_support.<locals>.wrapper (from tensorflow.python.ops.array_ops) is deprecated and will be removed in a future version.\n",
      "Instructions for updating:\n",
      "Use tf.where in 2.0, which has the same broadcast rule as np.where\n",
      "WARNING:tensorflow:From C:\\Python37\\lib\\site-packages\\keras\\backend\\tensorflow_backend.py:422: The name tf.global_variables is deprecated. Please use tf.compat.v1.global_variables instead.\n",
      "\n",
      "Train on 1922 samples, validate on 413 samples\n",
      "Epoch 1/50\n",
      "1922/1922 [==============================] - 0s 146us/step - loss: 0.5632 - accuracy: 0.7331 - val_loss: 0.5120 - val_accuracy: 0.7022\n",
      "Epoch 2/50\n",
      "1922/1922 [==============================] - 0s 38us/step - loss: 0.4988 - accuracy: 0.7336 - val_loss: 0.4531 - val_accuracy: 0.7022\n",
      "Epoch 3/50\n",
      "1922/1922 [==============================] - 0s 37us/step - loss: 0.4427 - accuracy: 0.7336 - val_loss: 0.3983 - val_accuracy: 0.7022\n",
      "Epoch 4/50\n",
      "1922/1922 [==============================] - 0s 37us/step - loss: 0.3981 - accuracy: 0.7336 - val_loss: 0.3517 - val_accuracy: 0.7022\n",
      "Epoch 5/50\n",
      "1922/1922 [==============================] - 0s 39us/step - loss: 0.3728 - accuracy: 0.7680 - val_loss: 0.3138 - val_accuracy: 0.8862\n",
      "Epoch 6/50\n",
      "1922/1922 [==============================] - 0s 39us/step - loss: 0.3477 - accuracy: 0.8585 - val_loss: 0.2810 - val_accuracy: 0.9104\n",
      "Epoch 7/50\n",
      "1922/1922 [==============================] - 0s 37us/step - loss: 0.3213 - accuracy: 0.8887 - val_loss: 0.2492 - val_accuracy: 0.9467\n",
      "Epoch 8/50\n",
      "1922/1922 [==============================] - 0s 37us/step - loss: 0.2987 - accuracy: 0.9006 - val_loss: 0.2254 - val_accuracy: 0.9516\n",
      "Epoch 9/50\n",
      "1922/1922 [==============================] - 0s 40us/step - loss: 0.2817 - accuracy: 0.9105 - val_loss: 0.2020 - val_accuracy: 0.9758\n",
      "Epoch 10/50\n",
      "1922/1922 [==============================] - 0s 37us/step - loss: 0.2708 - accuracy: 0.9074 - val_loss: 0.1847 - val_accuracy: 0.9831\n",
      "Epoch 11/50\n",
      "1922/1922 [==============================] - 0s 37us/step - loss: 0.2611 - accuracy: 0.9173 - val_loss: 0.1703 - val_accuracy: 0.9903\n",
      "Epoch 12/50\n",
      "1922/1922 [==============================] - 0s 36us/step - loss: 0.2584 - accuracy: 0.9074 - val_loss: 0.1562 - val_accuracy: 0.9952\n",
      "Epoch 13/50\n",
      "1922/1922 [==============================] - 0s 36us/step - loss: 0.2470 - accuracy: 0.9037 - val_loss: 0.1443 - val_accuracy: 1.0000\n",
      "Epoch 14/50\n",
      "1922/1922 [==============================] - 0s 38us/step - loss: 0.2294 - accuracy: 0.9131 - val_loss: 0.1310 - val_accuracy: 1.0000\n",
      "Epoch 15/50\n",
      "1922/1922 [==============================] - 0s 36us/step - loss: 0.2257 - accuracy: 0.9053 - val_loss: 0.1212 - val_accuracy: 1.0000\n",
      "Epoch 16/50\n",
      "1922/1922 [==============================] - 0s 37us/step - loss: 0.2106 - accuracy: 0.9173 - val_loss: 0.1137 - val_accuracy: 1.0000\n",
      "Epoch 17/50\n",
      "1922/1922 [==============================] - 0s 36us/step - loss: 0.2043 - accuracy: 0.9136 - val_loss: 0.1078 - val_accuracy: 1.0000\n",
      "Epoch 18/50\n",
      "1922/1922 [==============================] - 0s 37us/step - loss: 0.2043 - accuracy: 0.9131 - val_loss: 0.1013 - val_accuracy: 1.0000\n",
      "Epoch 19/50\n",
      "1922/1922 [==============================] - 0s 36us/step - loss: 0.1951 - accuracy: 0.9152 - val_loss: 0.0956 - val_accuracy: 1.0000\n",
      "Epoch 20/50\n",
      "1922/1922 [==============================] - 0s 53us/step - loss: 0.1918 - accuracy: 0.9178 - val_loss: 0.0912 - val_accuracy: 1.0000\n",
      "Epoch 21/50\n",
      "1922/1922 [==============================] - 0s 36us/step - loss: 0.1910 - accuracy: 0.9116 - val_loss: 0.0862 - val_accuracy: 1.0000\n",
      "Epoch 22/50\n",
      "1922/1922 [==============================] - 0s 36us/step - loss: 0.1951 - accuracy: 0.9116 - val_loss: 0.0830 - val_accuracy: 1.0000\n",
      "Epoch 23/50\n",
      "1922/1922 [==============================] - 0s 36us/step - loss: 0.1832 - accuracy: 0.9178 - val_loss: 0.0808 - val_accuracy: 1.0000\n",
      "Epoch 24/50\n",
      "1922/1922 [==============================] - 0s 36us/step - loss: 0.1767 - accuracy: 0.9230 - val_loss: 0.0773 - val_accuracy: 1.0000\n",
      "Epoch 25/50\n",
      "1922/1922 [==============================] - 0s 35us/step - loss: 0.1796 - accuracy: 0.9121 - val_loss: 0.0729 - val_accuracy: 1.0000\n",
      "Epoch 26/50\n",
      "1922/1922 [==============================] - 0s 35us/step - loss: 0.1801 - accuracy: 0.9131 - val_loss: 0.0709 - val_accuracy: 1.0000\n",
      "Epoch 27/50\n",
      "1922/1922 [==============================] - 0s 35us/step - loss: 0.1740 - accuracy: 0.9173 - val_loss: 0.0681 - val_accuracy: 1.0000\n",
      "Epoch 28/50\n",
      "1922/1922 [==============================] - 0s 34us/step - loss: 0.1773 - accuracy: 0.9168 - val_loss: 0.0654 - val_accuracy: 1.0000\n",
      "Epoch 29/50\n",
      "1922/1922 [==============================] - 0s 37us/step - loss: 0.1757 - accuracy: 0.9074 - val_loss: 0.0616 - val_accuracy: 1.0000\n",
      "Epoch 30/50\n",
      "1922/1922 [==============================] - 0s 35us/step - loss: 0.1752 - accuracy: 0.9152 - val_loss: 0.0620 - val_accuracy: 1.0000\n",
      "Epoch 31/50\n",
      "1922/1922 [==============================] - 0s 35us/step - loss: 0.1722 - accuracy: 0.9168 - val_loss: 0.0586 - val_accuracy: 1.0000\n",
      "Epoch 32/50\n",
      "1922/1922 [==============================] - 0s 35us/step - loss: 0.1699 - accuracy: 0.9079 - val_loss: 0.0555 - val_accuracy: 1.0000\n",
      "Epoch 33/50\n",
      "1922/1922 [==============================] - 0s 37us/step - loss: 0.1571 - accuracy: 0.9142 - val_loss: 0.0530 - val_accuracy: 1.0000\n",
      "Epoch 34/50\n",
      "1922/1922 [==============================] - 0s 36us/step - loss: 0.1616 - accuracy: 0.9152 - val_loss: 0.0512 - val_accuracy: 1.0000\n",
      "Epoch 35/50\n",
      "1922/1922 [==============================] - 0s 36us/step - loss: 0.1561 - accuracy: 0.9246 - val_loss: 0.0509 - val_accuracy: 1.0000\n",
      "Epoch 36/50\n",
      "1922/1922 [==============================] - 0s 36us/step - loss: 0.1659 - accuracy: 0.9074 - val_loss: 0.0493 - val_accuracy: 1.0000\n",
      "Epoch 37/50\n",
      "1922/1922 [==============================] - 0s 36us/step - loss: 0.1569 - accuracy: 0.9225 - val_loss: 0.0483 - val_accuracy: 1.0000\n",
      "Epoch 38/50\n",
      "1922/1922 [==============================] - 0s 40us/step - loss: 0.1683 - accuracy: 0.9152 - val_loss: 0.0429 - val_accuracy: 1.0000\n",
      "Epoch 39/50\n",
      "1922/1922 [==============================] - 0s 38us/step - loss: 0.1444 - accuracy: 0.9428 - val_loss: 0.0400 - val_accuracy: 1.0000\n",
      "Epoch 40/50\n",
      "1922/1922 [==============================] - 0s 39us/step - loss: 0.1241 - accuracy: 0.9605 - val_loss: 0.0379 - val_accuracy: 1.0000\n",
      "Epoch 41/50\n",
      "1922/1922 [==============================] - 0s 39us/step - loss: 0.1228 - accuracy: 0.9599 - val_loss: 0.0364 - val_accuracy: 1.0000\n",
      "Epoch 42/50\n",
      "1922/1922 [==============================] - 0s 36us/step - loss: 0.1215 - accuracy: 0.9584 - val_loss: 0.0349 - val_accuracy: 1.0000\n",
      "Epoch 43/50\n",
      "1922/1922 [==============================] - 0s 35us/step - loss: 0.1213 - accuracy: 0.9532 - val_loss: 0.0332 - val_accuracy: 1.0000\n",
      "Epoch 44/50\n",
      "1922/1922 [==============================] - 0s 36us/step - loss: 0.1167 - accuracy: 0.9542 - val_loss: 0.0319 - val_accuracy: 1.0000\n",
      "Epoch 45/50\n",
      "1922/1922 [==============================] - 0s 35us/step - loss: 0.1212 - accuracy: 0.9532 - val_loss: 0.0307 - val_accuracy: 1.0000\n",
      "Epoch 46/50\n",
      "1922/1922 [==============================] - 0s 35us/step - loss: 0.1080 - accuracy: 0.9631 - val_loss: 0.0297 - val_accuracy: 1.0000\n",
      "Epoch 47/50\n",
      "1922/1922 [==============================] - 0s 36us/step - loss: 0.1128 - accuracy: 0.9568 - val_loss: 0.0284 - val_accuracy: 1.0000\n",
      "Epoch 48/50\n",
      "1922/1922 [==============================] - 0s 36us/step - loss: 0.1149 - accuracy: 0.9547 - val_loss: 0.0272 - val_accuracy: 1.0000\n",
      "Epoch 49/50\n",
      "1922/1922 [==============================] - 0s 35us/step - loss: 0.1236 - accuracy: 0.9485 - val_loss: 0.0261 - val_accuracy: 1.0000\n",
      "Epoch 50/50\n",
      "1922/1922 [==============================] - 0s 36us/step - loss: 0.1110 - accuracy: 0.9579 - val_loss: 0.0255 - val_accuracy: 1.0000\n",
      "Complete. \n",
      "Model trained in 5.69 sec\n"
     ]
    }
   ],
   "source": [
    "#Fit\n",
    "start = time()\n",
    "history = model.fit(\n",
    "    x_train,\n",
    "    y_train,\n",
    "    validation_data=(x_val, y_val),\n",
    "    callbacks=callbacks,\n",
    "    epochs=50,\n",
    "    #batch_size=50,\n",
    "    verbose=1 \n",
    ")\n",
    "\n",
    "\n",
    "print(f'Complete. \\nModel trained in {round(time()-start, 2)} sec')"
   ]
  },
  {
   "cell_type": "code",
   "execution_count": 8,
   "metadata": {},
   "outputs": [
    {
     "name": "stdout",
     "output_type": "stream",
     "text": [
      "\n",
      "Training accuracy: 95.7859992980957%\n",
      "Training loss: 0.111\n",
      "\n",
      "Validation accuracy: 100.0%\n",
      "Validation loss: 0.0255\n"
     ]
    },
    {
     "data": {
      "image/png": "[encoded data removed]",
      "text/plain": [
       "<Figure size 720x360 with 1 Axes>"
      ]
     },
     "metadata": {
      "needs_background": "light"
     },
     "output_type": "display_data"
    },
    {
     "data": {
      "image/png": "[encoded data removed]",
      "text/plain": [
       "<Figure size 720x360 with 1 Axes>"
      ]
     },
     "metadata": {
      "needs_background": "light"
     },
     "output_type": "display_data"
    }
   ],
   "source": [
    "title_loss = 'Custom Model - Training & Validation Loss'\n",
    "title_acc = 'Custom Model - Training & Validation Accuracy'\n",
    "path_loss = 'img/models/custom_loss'\n",
    "path_acc = 'img/models/custom_acc'\n",
    "\n",
    "plot_train_val(history, title_acc=title_acc, title_loss=title_loss, path_acc=path_acc, path_loss=path_loss)"
   ]
  },
  {
   "cell_type": "markdown",
   "metadata": {},
   "source": [
    "## Evaluation Metrics\n",
    "---"
   ]
  },
  {
   "cell_type": "code",
   "execution_count": 13,
   "metadata": {},
   "outputs": [
    {
     "name": "stdout",
     "output_type": "stream",
     "text": [
      "Accuracy:  1.0\n",
      "Precision:  1.0\n",
      "Recall:  1.0\n",
      "F1-score:  1.0\n",
      "AUC:  1.0\n"
     ]
    }
   ],
   "source": [
    "y_pred = np.argmax(model.predict(x_test), axis=-1) \n",
    "y_true = np.argmax(y_test, axis=-1) \n",
    "\n",
    "acc = accuracy_score(y_true, y_pred)\n",
    "recall = recall_score(y_true, y_pred, average='weighted')\n",
    "precision  = precision_score(y_true, y_pred, average='weighted')\n",
    "f1  = f1_score(y_true, y_pred, average='weighted')\n",
    "auc  = roc_auc_score(y_true, y_pred, average='weighted', multi_class='ovr')\n",
    "\n",
    "print('Accuracy: ', acc)\n",
    "print('Precision: ', recall)\n",
    "print('Recall: ', precision)\n",
    "print('F1-score: ', f1)\n",
    "print('AUC: ', auc)"
   ]
  },
  {
   "cell_type": "markdown",
   "metadata": {},
   "source": [
    "## Confusion Matrix\n",
    "\n",
    "---"
   ]
  },
  {
   "cell_type": "code",
   "execution_count": 10,
   "metadata": {},
   "outputs": [],
   "source": [
    "font = {'size': 16}\n",
    "labels = ['Normal', 'DoS']"
   ]
  },
  {
   "cell_type": "code",
   "execution_count": 11,
   "metadata": {},
   "outputs": [
    {
     "data": {
      "image/png": "[encoded data removed]",
      "text/plain": [
       "<Figure size 504x432 with 2 Axes>"
      ]
     },
     "metadata": {
      "needs_background": "light"
     },
     "output_type": "display_data"
    }
   ],
   "source": [
    "confusion = confusion_matrix(y_true, y_pred)\n",
    "plt.figure(figsize=(7,6))\n",
    "sns.heatmap(confusion, annot=True, linewidths=0.8, xticklabels=labels, yticklabels=labels, fmt='d', cmap='Blues')\n",
    "plt.title(f'Custom Model - Confusion Matrix', fontsize=20) \n",
    "plt.xlabel('Predicted', fontdict=font)\n",
    "plt.ylabel('True', fontdict=font)\n",
    "\n",
    "plt.savefig('img/models/custom_cm', bbox_inches=\"tight\") "
   ]
  },
  {
   "cell_type": "code",
   "execution_count": null,
   "metadata": {},
   "outputs": [],
   "source": []
  }
 ],
 "metadata": {
  "interpreter": {
   "hash": "04635d289a519a1410467dd0afb0db42f9184808881ca68b2eb5a687a20a5a94"
  },
  "kernelspec": {
   "display_name": "Python 3.7.4 64-bit",
   "name": "python3"
  },
  "language_info": {
   "codemirror_mode": {
    "name": "ipython",
    "version": 3
   },
   "file_extension": ".py",
   "mimetype": "text/x-python",
   "name": "python",
   "nbconvert_exporter": "python",
   "pygments_lexer": "ipython3",
   "version": "3.7.4"
  },
  "orig_nbformat": 4
 },
 "nbformat": 4,
 "nbformat_minor": 2
}
