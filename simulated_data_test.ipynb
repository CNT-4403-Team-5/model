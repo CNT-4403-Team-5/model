{
 "cells": [
  {
   "cell_type": "code",
   "execution_count": 50,
   "metadata": {},
   "outputs": [],
   "source": [
    "from keras.models import load_model\n",
    "from sklearn.metrics import *\n",
    "import matplotlib.pyplot as plt\n",
    "import numpy as np"
   ]
  },
  {
   "cell_type": "markdown",
   "metadata": {},
   "source": [
    "### Functions\n",
    "---"
   ]
  },
  {
   "cell_type": "code",
   "execution_count": 7,
   "metadata": {},
   "outputs": [],
   "source": [
    "def metrics(model, x_test):\n",
    "    y_pred = np.argmax(model.predict(x_test), axis=-1) \n",
    "    y_true = np.argmax(y_test, axis=-1) \n",
    "\n",
    "    acc = accuracy_score(y_true, y_pred)\n",
    "    recall = recall_score(y_true, y_pred, average='weighted')\n",
    "    precision = precision_score(y_true, y_pred, average='weighted')\n",
    "    f1 = f1_score(y_true, y_pred, average='weighted')\n",
    "    auc = roc_auc_score(y_true, y_pred, average='weighted', multi_class='ovr')\n",
    "\n",
    "    print('Accuracy: ', acc)\n",
    "    print('Precision: ', recall)\n",
    "    print('Recall: ', precision)\n",
    "    print('F1-score: ', f1)\n",
    "    print('AUC: ', auc)\n",
    "\n",
    "    return acc, recall, precision, f1, auc\n",
    "\n",
    "def cm(model, model_name, x_test):\n",
    "    font = {'size': 16}\n",
    "    labels = ['Normal', 'DoS']\n",
    "\n",
    "    y_pred = np.argmax(model.predict(x_test), axis=-1) \n",
    "    y_true = np.argmax(y_test, axis=-1) \n",
    "\n",
    "    confusion = confusion_matrix(y_true, y_pred)\n",
    "    plt.figure(figsize=(7,6))\n",
    "    sns.heatmap(confusion, annot=True, linewidths=0.8, xticklabels=labels, yticklabels=labels, fmt='d', cmap='Blues')\n",
    "\n",
    "    plt.title(f'{model_name} - Simulated Data', fontsize=20) \n",
    "    plt.xlabel('Predicted', fontdict=font)\n",
    "    plt.ylabel('True', fontdict=font)\n",
    "\n",
    "    plt.savefig(f'img/models/{model_name}', bbox_inches=\"tight\") "
   ]
  },
  {
   "cell_type": "markdown",
   "metadata": {},
   "source": [
    "### ANN Model\n",
    "---"
   ]
  },
  {
   "cell_type": "code",
   "execution_count": 3,
   "metadata": {},
   "outputs": [],
   "source": [
    "ann = load_model('trained_models/ann')"
   ]
  },
  {
   "cell_type": "code",
   "execution_count": null,
   "metadata": {},
   "outputs": [],
   "source": [
    "acc_ann, recall_ann, precision_ann, f1_ann, auc_ann = metrics(ann, x_test)"
   ]
  },
  {
   "cell_type": "code",
   "execution_count": null,
   "metadata": {},
   "outputs": [],
   "source": [
    "cm(ann, 'ANN', x_test)"
   ]
  },
  {
   "cell_type": "markdown",
   "metadata": {},
   "source": [
    "### DNN Model\n",
    "---"
   ]
  },
  {
   "cell_type": "code",
   "execution_count": 4,
   "metadata": {},
   "outputs": [],
   "source": [
    "dnn = load_model('trained_models/dnn')"
   ]
  },
  {
   "cell_type": "code",
   "execution_count": null,
   "metadata": {},
   "outputs": [],
   "source": [
    "acc_dnn, recall_dnn, precision_dnn, f1_dnn, auc_dnn = metrics(dnn, x_test)"
   ]
  },
  {
   "cell_type": "code",
   "execution_count": null,
   "metadata": {},
   "outputs": [],
   "source": [
    "cm(dnn, 'DNN', x_test)"
   ]
  },
  {
   "cell_type": "markdown",
   "metadata": {},
   "source": [
    "### Custom Model\n",
    "---"
   ]
  },
  {
   "cell_type": "code",
   "execution_count": 5,
   "metadata": {},
   "outputs": [],
   "source": [
    "custom = load_model('trained_models/custom')"
   ]
  },
  {
   "cell_type": "code",
   "execution_count": null,
   "metadata": {},
   "outputs": [],
   "source": [
    "acc_custom, recall_custom, precision_custom, f1_custom, auc_custom = metrics(custom, x_test)"
   ]
  },
  {
   "cell_type": "code",
   "execution_count": null,
   "metadata": {},
   "outputs": [],
   "source": [
    "cm(custom, 'Custom', x_test)"
   ]
  },
  {
   "cell_type": "markdown",
   "metadata": {},
   "source": [
    "### Comparion Performance\n",
    "---"
   ]
  },
  {
   "cell_type": "code",
   "execution_count": 59,
   "metadata": {},
   "outputs": [
    {
     "data": {
      "image/png": "[encoded data removed]",
      "text/plain": [
       "<Figure size 576x360 with 1 Axes>"
      ]
     },
     "metadata": {
      "needs_background": "light"
     },
     "output_type": "display_data"
    }
   ],
   "source": [
    "#Bar plot, dummy values for now\n",
    "models = ['ANN','DNN','Custom']\n",
    "acc = [10,20,20]\n",
    "prec = [20,30,25]\n",
    "rec = [30,45,20]\n",
    "f1 = [55,45,35]\n",
    "auc = [15,40,30]\n",
    "\n",
    "offset = 0.15\n",
    "width = 0.15\n",
    "  \n",
    "x_axis = np.arange(len(models))\n",
    "  \n",
    "plt.figure(figsize=(8, 5))\n",
    "plt.bar(x_axis, acc, width, label = 'Accuracy', alpha=0.6)\n",
    "plt.bar(x_axis+offset, prec, width, label = 'Precision', alpha=0.6)\n",
    "plt.bar(x_axis+offset*2, rec, width, label = 'Recall', alpha=0.6)\n",
    "plt.bar(x_axis+offset*3, f1, width, label = 'F1', alpha=0.6)\n",
    "plt.bar(x_axis+offset*4, auc, width, label = 'AUC', alpha=0.6)\n",
    "\n",
    "plt.xticks(x_axis+width*2, models)\n",
    "plt.xlabel('Model')\n",
    "plt.ylabel('Score %')\n",
    "plt.title('Metrics Performance Comparison')\n",
    "plt.legend()\n",
    "plt.show()"
   ]
  },
  {
   "cell_type": "code",
   "execution_count": null,
   "metadata": {},
   "outputs": [],
   "source": []
  }
 ],
 "metadata": {
  "interpreter": {
   "hash": "15d99b9aa0dbf3a358312963825951c4e42cc1dea07b49971ebf26684bae64aa"
  },
  "kernelspec": {
   "display_name": "Python 3.8.3 64-bit ('base': conda)",
   "name": "python3"
  },
  "language_info": {
   "codemirror_mode": {
    "name": "ipython",
    "version": 3
   },
   "file_extension": ".py",
   "mimetype": "text/x-python",
   "name": "python",
   "nbconvert_exporter": "python",
   "pygments_lexer": "ipython3",
   "version": "3.8.3"
  },
  "orig_nbformat": 4
 },
 "nbformat": 4,
 "nbformat_minor": 2
}
